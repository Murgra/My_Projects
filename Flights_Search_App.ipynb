{
 "cells": [
  {
   "cell_type": "markdown",
   "metadata": {},
   "source": [
    "# Flight Search Project"
   ]
  },
  {
   "cell_type": "markdown",
   "metadata": {},
   "source": [
    "### dodac: interfejs z filtrem wyszukiwania"
   ]
  },
  {
   "cell_type": "code",
   "execution_count": 1,
   "metadata": {},
   "outputs": [
    {
     "data": {
      "text/plain": [
       "True"
      ]
     },
     "execution_count": 1,
     "metadata": {},
     "output_type": "execute_result"
    }
   ],
   "source": [
    "import requests\n",
    "from datetime import datetime\n",
    "import os\n",
    "from dotenv import  load_dotenv\n",
    "import time\n",
    "from dateutil.relativedelta import relativedelta\n",
    "from twilio.rest import Client\n",
    "\n",
    "load_dotenv(\"D:\\Python\\devcontainer\\.env\")"
   ]
  },
  {
   "cell_type": "code",
   "execution_count": 2,
   "metadata": {},
   "outputs": [],
   "source": [
    "TOKEN = os.getenv(\"SHEETY_TOKEN\")\n",
    "API_KEY_KIWI = os.getenv(\"API_KEY_KIWI\")\n",
    "ACCOUNT_SID = os.getenv(\"TWILIO_ACCOUNT_SID\")  \n",
    "ACCOUNT_TOKEN = os.getenv(\"TWILIO_TOKEN\")\n",
    "PHONE_NUMBER=os.getenv(\"PHONE_NUMBER\")\n",
    "PHONE_NUMBER_FROM=os.getenv(\"PHONE_NUMBER_FROM\")"
   ]
  },
  {
   "cell_type": "code",
   "execution_count": 3,
   "metadata": {},
   "outputs": [],
   "source": [
    "# get city id\n",
    "\n",
    "get_sheet_endpoint = \"https://api.sheety.co/c0e1ac8f40667cbfb3ae1345d75a882a/flightDeals/prices\"\n",
    "headers_sheety = {\"authorization\": f\"Bearer {TOKEN}\"}\n",
    "\n",
    "get_city = requests.get(url=get_sheet_endpoint, headers=headers_sheety)\n",
    "\n",
    "cites = get_city.json()\n",
    "\n",
    "cites_names = []\n",
    "rows_id = []\n",
    "\n",
    "for i in cites['prices']:\n",
    "    try:\n",
    "        city = [i]\n",
    "    except IndexError:\n",
    "        pass\n",
    "    else:\n",
    "        cites_names.append(city[0][\"city\"])\n",
    "        rows_id.append(city[0][\"id\"])"
   ]
  },
  {
   "cell_type": "code",
   "execution_count": 4,
   "metadata": {},
   "outputs": [],
   "source": [
    "# get IATA code for city\n",
    "\n",
    "headers_kiwi = {'apikey': API_KEY_KIWI}\n",
    "\n",
    "cites_iata = []\n",
    "\n",
    "for name in cites_names:\n",
    "    kiwi_endpoint = f\"https://api.tequila.kiwi.com/locations/query?term={name}&locale=en-US&location_types=airport&limit=10&active_only=true\"\n",
    "    get_info_endpoint = requests.get(url=kiwi_endpoint, headers=headers_kiwi)\n",
    "    localization_info = get_info_endpoint.json()\n",
    "    cites_iata.append(localization_info[\"locations\"][0][\"city\"][\"code\"])"
   ]
  },
  {
   "cell_type": "code",
   "execution_count": 5,
   "metadata": {},
   "outputs": [],
   "source": [
    "# upadate IATA code in sheet\n",
    "\n",
    "num_id = 0\n",
    "\n",
    "for iata_code in cites_iata:\n",
    "    new_iata_code = {\"price\": {\n",
    "      \"iataCode\": iata_code,}}\n",
    "    update_sheet_endpoint = f\"https://api.sheety.co/c0e1ac8f40667cbfb3ae1345d75a882a/flightDeals/prices/{rows_id[num_id]}\"\n",
    "    update = requests.put(url=update_sheet_endpoint, headers=headers_sheety, json=new_iata_code)\n",
    "    num_id += 1\n",
    "    "
   ]
  },
  {
   "cell_type": "code",
   "execution_count": 6,
   "metadata": {},
   "outputs": [],
   "source": [
    "def send_sms(my_messege):\n",
    "    client = Client(ACCOUNT_SID, ACCOUNT_TOKEN)\n",
    "    client.messages \\\n",
    "                .create(\n",
    "                        body=my_messege,\n",
    "                        from_=PHONE_NUMBER_FROM,\n",
    "                        to=PHONE_NUMBER\n",
    "                )"
   ]
  },
  {
   "cell_type": "code",
   "execution_count": 7,
   "metadata": {},
   "outputs": [],
   "source": [
    "# search special offerts\n",
    "\n",
    "now = datetime.now()\n",
    "next_six_month = (now + relativedelta(months=6)).strftime(r'%d/%m/%Y').replace(\"/\", r\"%2F\")\n",
    "today = (now.strftime(r'%d/%m/%Y')).replace(\"/\", r\"%2F\")\n",
    "city_number = 0\n",
    "\n",
    "\n",
    "for iata_code in cites_iata:\n",
    "\n",
    "    search_fly_endpoint = f\"https://api.tequila.kiwi.com/v2/search?fly_from=WAW&fly_to={iata_code}&date_from={today}&date_to={next_six_month}&nights_in_dst_from=2&nights_in_dst_to=3&max_fly_duration=20&ret_from_diff_city=true&ret_to_diff_city=true&adults=1&selected_cabins=C&mix_with_cabins=M&only_working_days=false&only_weekends=false&partner_market=us&vehicle_type=aircraft&limit=1\"\n",
    "\n",
    "    next_fly = requests.get(url=search_fly_endpoint, headers=headers_kiwi)\n",
    "    next_fly = next_fly.json()\n",
    "    try:\n",
    "        lowest_pice = int(next_fly[\"data\"][0][\"price\"])\n",
    "    except Exception:\n",
    "        city_number += 1\n",
    "        pass\n",
    "    else:\n",
    "        lowest_pice_sheet = int(cites['prices'][city_number][\"lowestPrice\"])\n",
    "        fly_details = next_fly[\"data\"][0]\n",
    "        fly_date = (fly_details[\"local_departure\"]).split(\"T\")\n",
    "        \n",
    "        if lowest_pice <= lowest_pice_sheet:\n",
    "            my_messege = f'Low price alert! Only {lowest_pice}€ to fly from {fly_details[\"cityFrom\"]}-{fly_details[\"flyFrom\"]} to {fly_details[\"cityTo\"]}-{fly_details[\"flyTo\"]}, in {fly_date[0]}.'\n",
    "            send_sms(my_messege)\n",
    "        city_number += 1\n",
    "\n",
    "    time.sleep(3)"
   ]
  }
 ],
 "metadata": {
  "kernelspec": {
   "display_name": "Python 3",
   "language": "python",
   "name": "python3"
  },
  "language_info": {
   "codemirror_mode": {
    "name": "ipython",
    "version": 3
   },
   "file_extension": ".py",
   "mimetype": "text/x-python",
   "name": "python",
   "nbconvert_exporter": "python",
   "pygments_lexer": "ipython3",
   "version": "3.11.2"
  }
 },
 "nbformat": 4,
 "nbformat_minor": 2
}
