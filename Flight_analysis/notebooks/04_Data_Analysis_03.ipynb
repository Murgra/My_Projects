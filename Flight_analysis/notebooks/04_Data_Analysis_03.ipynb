{
 "cells": [
  {
   "cell_type": "markdown",
   "metadata": {},
   "source": [
    " # Notebook description\n",
    "\n",
    " This notebook is a counter-analysis of flight data and delays."
   ]
  },
  {
   "cell_type": "markdown",
   "metadata": {},
   "source": [
    "Notepad configuration"
   ]
  },
  {
   "cell_type": "code",
   "execution_count": 130,
   "metadata": {},
   "outputs": [],
   "source": [
    "from sqlalchemy import create_engine\n",
    "from sqlalchemy.engine import URL\n",
    "import pandas as pd \n",
    "import plotly.express as px\n",
    "import os\n",
    "from dotenv import  load_dotenv"
   ]
  },
  {
   "cell_type": "code",
   "execution_count": null,
   "metadata": {},
   "outputs": [],
   "source": [
    "load_dotenv(\"D:\\Python\\devcontainer\\.env\") #loading postgres password from .env file"
   ]
  },
  {
   "cell_type": "markdown",
   "metadata": {},
   "source": [
    "Create url and engine"
   ]
  },
  {
   "cell_type": "code",
   "execution_count": 131,
   "metadata": {},
   "outputs": [],
   "source": [
    "url = URL.create(\n",
    "    \"postgresql+psycopg2\",\n",
    "    username='postgres',\n",
    "    password=os.getenv(\"POSTGRES_PASSWORD\"),  \n",
    "    host='localhost',\n",
    "    database='postgres',\n",
    ")\n",
    "engine = create_engine(url)"
   ]
  },
  {
   "cell_type": "markdown",
   "metadata": {},
   "source": [
    "Loading an SQL database using Pandas"
   ]
  },
  {
   "cell_type": "code",
   "execution_count": 132,
   "metadata": {},
   "outputs": [],
   "source": [
    "def read_sql_table(table_name):\n",
    "    df = pd.read_sql(sql=table_name, con=engine)\n",
    "    return df"
   ]
  },
  {
   "cell_type": "markdown",
   "metadata": {},
   "source": [
    " Loading data frame `flight_df`"
   ]
  },
  {
   "cell_type": "code",
   "execution_count": 133,
   "metadata": {},
   "outputs": [],
   "source": [
    "flight_df = pd.read_csv(r'flight_df_02.csv') #loading file flight_df_02.csv created at the end of the notebook 04_Data_Analysis_02.ipynb "
   ]
  },
  {
   "cell_type": "markdown",
   "metadata": {},
   "source": [
    " #  `airport_list`"
   ]
  },
  {
   "cell_type": "markdown",
   "metadata": {},
   "source": [
    "Loading data frame `airport_list_df`"
   ]
  },
  {
   "cell_type": "code",
   "execution_count": 134,
   "metadata": {},
   "outputs": [],
   "source": [
    "airport_list_df = read_sql_table(table_name='airport_list')"
   ]
  },
  {
   "cell_type": "markdown",
   "metadata": {},
   "source": [
    "Checking duplicates for a column `origin_airport_id`"
   ]
  },
  {
   "cell_type": "code",
   "execution_count": 135,
   "metadata": {},
   "outputs": [
    {
     "data": {
      "text/plain": [
       "False"
      ]
     },
     "execution_count": 135,
     "metadata": {},
     "output_type": "execute_result"
    }
   ],
   "source": [
    "airport_list_df.origin_airport_id.duplicated().any()"
   ]
  },
  {
   "cell_type": "markdown",
   "metadata": {},
   "source": [
    "Merge `flight_df` and `airport_list_df` using `origin_airport_id`"
   ]
  },
  {
   "cell_type": "code",
   "execution_count": 137,
   "metadata": {},
   "outputs": [],
   "source": [
    "flight_df = flight_df.merge(airport_list_df[['origin_airport_id', 'origin_city_name']], how='left', on='origin_airport_id')"
   ]
  },
  {
   "cell_type": "markdown",
   "metadata": {},
   "source": [
    "Merge `flight_df` and `airport_list_df` using `destination_airport_id`"
   ]
  },
  {
   "cell_type": "code",
   "execution_count": 138,
   "metadata": {},
   "outputs": [],
   "source": [
    "flight_df = flight_df.merge(airport_list_df[['origin_airport_id', 'origin_city_name']], how='left', left_on='dest_airport_id', right_on='origin_airport_id')"
   ]
  },
  {
   "cell_type": "code",
   "execution_count": 139,
   "metadata": {},
   "outputs": [],
   "source": [
    "flight_df = flight_df.rename(columns={'origin_city_name_x': 'origin_city_name', 'origin_city_name_y': 'destination_city_name', 'origin_airport_id_x': 'origin_airport_id'}).drop(columns='origin_airport_id_y')\n"
   ]
  },
  {
   "cell_type": "markdown",
   "metadata": {},
   "source": [
    " ## Analysis by airports and routes"
   ]
  },
  {
   "cell_type": "markdown",
   "metadata": {},
   "source": [
    "Determine the airport from which the most planes departed."
   ]
  },
  {
   "cell_type": "code",
   "execution_count": 141,
   "metadata": {},
   "outputs": [
    {
     "data": {
      "text/html": [
       "<div>\n",
       "<style scoped>\n",
       "    .dataframe tbody tr th:only-of-type {\n",
       "        vertical-align: middle;\n",
       "    }\n",
       "\n",
       "    .dataframe tbody tr th {\n",
       "        vertical-align: top;\n",
       "    }\n",
       "\n",
       "    .dataframe thead th {\n",
       "        text-align: right;\n",
       "    }\n",
       "</style>\n",
       "<table border=\"1\" class=\"dataframe\">\n",
       "  <thead>\n",
       "    <tr style=\"text-align: right;\">\n",
       "      <th></th>\n",
       "      <th>id</th>\n",
       "      <th>month</th>\n",
       "      <th>day_of_month</th>\n",
       "      <th>day_of_week</th>\n",
       "      <th>op_unique_carrier</th>\n",
       "      <th>tail_num</th>\n",
       "      <th>op_carrier_fl_num</th>\n",
       "      <th>origin_airport_id</th>\n",
       "      <th>dest_airport_id</th>\n",
       "      <th>crs_dep_time</th>\n",
       "      <th>...</th>\n",
       "      <th>security_delay</th>\n",
       "      <th>late_aircraft_delay</th>\n",
       "      <th>year</th>\n",
       "      <th>is_delayed</th>\n",
       "      <th>is_weekend</th>\n",
       "      <th>distance_agg</th>\n",
       "      <th>manufacture_year</th>\n",
       "      <th>manufacture_year_agg</th>\n",
       "      <th>origin_city_name</th>\n",
       "      <th>destination_city_name</th>\n",
       "    </tr>\n",
       "  </thead>\n",
       "  <tbody>\n",
       "    <tr>\n",
       "      <th>242240</th>\n",
       "      <td>312025</td>\n",
       "      <td>2</td>\n",
       "      <td>9</td>\n",
       "      <td>6</td>\n",
       "      <td>DL</td>\n",
       "      <td>N954AT</td>\n",
       "      <td>1622</td>\n",
       "      <td>14107</td>\n",
       "      <td>14747</td>\n",
       "      <td>1224</td>\n",
       "      <td>...</td>\n",
       "      <td>0.0</td>\n",
       "      <td>67.0</td>\n",
       "      <td>2019</td>\n",
       "      <td>1</td>\n",
       "      <td>1</td>\n",
       "      <td>(1100, 1200]</td>\n",
       "      <td>2000.0</td>\n",
       "      <td>(1999, 2002]</td>\n",
       "      <td>Phoenix, AZ</td>\n",
       "      <td>Seattle, WA</td>\n",
       "    </tr>\n",
       "  </tbody>\n",
       "</table>\n",
       "<p>1 rows × 35 columns</p>\n",
       "</div>"
      ],
      "text/plain": [
       "            id  month  day_of_month  day_of_week op_unique_carrier tail_num  \\\n",
       "242240  312025      2             9            6                DL   N954AT   \n",
       "\n",
       "        op_carrier_fl_num  origin_airport_id  dest_airport_id  crs_dep_time  \\\n",
       "242240               1622              14107            14747          1224   \n",
       "\n",
       "        ...  security_delay  late_aircraft_delay  year  is_delayed  \\\n",
       "242240  ...             0.0                 67.0  2019           1   \n",
       "\n",
       "        is_weekend  distance_agg manufacture_year  manufacture_year_agg  \\\n",
       "242240           1  (1100, 1200]           2000.0          (1999, 2002]   \n",
       "\n",
       "        origin_city_name  destination_city_name  \n",
       "242240       Phoenix, AZ            Seattle, WA  \n",
       "\n",
       "[1 rows x 35 columns]"
      ]
     },
     "execution_count": 141,
     "metadata": {},
     "output_type": "execute_result"
    }
   ],
   "source": [
    "flight_df.sample()"
   ]
  },
  {
   "cell_type": "code",
   "execution_count": 142,
   "metadata": {},
   "outputs": [],
   "source": [
    "top_airports_origin_df = flight_df.groupby('origin_city_name').agg('count').sort_values('id', ascending=False).reset_index()"
   ]
  },
  {
   "cell_type": "code",
   "execution_count": 143,
   "metadata": {},
   "outputs": [
    {
     "data": {
      "text/html": [
       "<div>\n",
       "<style scoped>\n",
       "    .dataframe tbody tr th:only-of-type {\n",
       "        vertical-align: middle;\n",
       "    }\n",
       "\n",
       "    .dataframe tbody tr th {\n",
       "        vertical-align: top;\n",
       "    }\n",
       "\n",
       "    .dataframe thead th {\n",
       "        text-align: right;\n",
       "    }\n",
       "</style>\n",
       "<table border=\"1\" class=\"dataframe\">\n",
       "  <thead>\n",
       "    <tr style=\"text-align: right;\">\n",
       "      <th></th>\n",
       "      <th>origin_city_name</th>\n",
       "      <th>id</th>\n",
       "      <th>month</th>\n",
       "      <th>day_of_month</th>\n",
       "      <th>day_of_week</th>\n",
       "      <th>op_unique_carrier</th>\n",
       "      <th>tail_num</th>\n",
       "      <th>op_carrier_fl_num</th>\n",
       "      <th>origin_airport_id</th>\n",
       "      <th>dest_airport_id</th>\n",
       "      <th>...</th>\n",
       "      <th>nas_delay</th>\n",
       "      <th>security_delay</th>\n",
       "      <th>late_aircraft_delay</th>\n",
       "      <th>year</th>\n",
       "      <th>is_delayed</th>\n",
       "      <th>is_weekend</th>\n",
       "      <th>distance_agg</th>\n",
       "      <th>manufacture_year</th>\n",
       "      <th>manufacture_year_agg</th>\n",
       "      <th>destination_city_name</th>\n",
       "    </tr>\n",
       "  </thead>\n",
       "  <tbody>\n",
       "    <tr>\n",
       "      <th>0</th>\n",
       "      <td>Atlanta, GA</td>\n",
       "      <td>123162</td>\n",
       "      <td>123162</td>\n",
       "      <td>123162</td>\n",
       "      <td>123162</td>\n",
       "      <td>123162</td>\n",
       "      <td>123162</td>\n",
       "      <td>123162</td>\n",
       "      <td>123162</td>\n",
       "      <td>123162</td>\n",
       "      <td>...</td>\n",
       "      <td>23228</td>\n",
       "      <td>23228</td>\n",
       "      <td>23228</td>\n",
       "      <td>123162</td>\n",
       "      <td>123162</td>\n",
       "      <td>123162</td>\n",
       "      <td>123162</td>\n",
       "      <td>119753</td>\n",
       "      <td>119532</td>\n",
       "      <td>123162</td>\n",
       "    </tr>\n",
       "    <tr>\n",
       "      <th>1</th>\n",
       "      <td>Chicago, IL</td>\n",
       "      <td>105437</td>\n",
       "      <td>105437</td>\n",
       "      <td>105437</td>\n",
       "      <td>105437</td>\n",
       "      <td>105437</td>\n",
       "      <td>105437</td>\n",
       "      <td>105437</td>\n",
       "      <td>105437</td>\n",
       "      <td>105437</td>\n",
       "      <td>...</td>\n",
       "      <td>28124</td>\n",
       "      <td>28124</td>\n",
       "      <td>28124</td>\n",
       "      <td>105437</td>\n",
       "      <td>105437</td>\n",
       "      <td>105437</td>\n",
       "      <td>105437</td>\n",
       "      <td>102805</td>\n",
       "      <td>102755</td>\n",
       "      <td>105437</td>\n",
       "    </tr>\n",
       "    <tr>\n",
       "      <th>2</th>\n",
       "      <td>Los Angeles, CA</td>\n",
       "      <td>87849</td>\n",
       "      <td>87849</td>\n",
       "      <td>87849</td>\n",
       "      <td>87849</td>\n",
       "      <td>87849</td>\n",
       "      <td>87849</td>\n",
       "      <td>87849</td>\n",
       "      <td>87849</td>\n",
       "      <td>87849</td>\n",
       "      <td>...</td>\n",
       "      <td>16392</td>\n",
       "      <td>16392</td>\n",
       "      <td>16392</td>\n",
       "      <td>87849</td>\n",
       "      <td>87849</td>\n",
       "      <td>87849</td>\n",
       "      <td>87849</td>\n",
       "      <td>87404</td>\n",
       "      <td>87404</td>\n",
       "      <td>87849</td>\n",
       "    </tr>\n",
       "    <tr>\n",
       "      <th>3</th>\n",
       "      <td>New York, NY</td>\n",
       "      <td>75785</td>\n",
       "      <td>75785</td>\n",
       "      <td>75785</td>\n",
       "      <td>75785</td>\n",
       "      <td>75785</td>\n",
       "      <td>75785</td>\n",
       "      <td>75785</td>\n",
       "      <td>75785</td>\n",
       "      <td>75785</td>\n",
       "      <td>...</td>\n",
       "      <td>17971</td>\n",
       "      <td>17971</td>\n",
       "      <td>17971</td>\n",
       "      <td>75785</td>\n",
       "      <td>75785</td>\n",
       "      <td>75785</td>\n",
       "      <td>75785</td>\n",
       "      <td>75575</td>\n",
       "      <td>75574</td>\n",
       "      <td>75785</td>\n",
       "    </tr>\n",
       "    <tr>\n",
       "      <th>4</th>\n",
       "      <td>Denver, CO</td>\n",
       "      <td>64525</td>\n",
       "      <td>64525</td>\n",
       "      <td>64525</td>\n",
       "      <td>64525</td>\n",
       "      <td>64525</td>\n",
       "      <td>64525</td>\n",
       "      <td>64525</td>\n",
       "      <td>64525</td>\n",
       "      <td>64525</td>\n",
       "      <td>...</td>\n",
       "      <td>14991</td>\n",
       "      <td>14991</td>\n",
       "      <td>14991</td>\n",
       "      <td>64525</td>\n",
       "      <td>64525</td>\n",
       "      <td>64525</td>\n",
       "      <td>64525</td>\n",
       "      <td>64409</td>\n",
       "      <td>64409</td>\n",
       "      <td>64525</td>\n",
       "    </tr>\n",
       "  </tbody>\n",
       "</table>\n",
       "<p>5 rows × 35 columns</p>\n",
       "</div>"
      ],
      "text/plain": [
       "  origin_city_name      id   month  day_of_month  day_of_week  \\\n",
       "0      Atlanta, GA  123162  123162        123162       123162   \n",
       "1      Chicago, IL  105437  105437        105437       105437   \n",
       "2  Los Angeles, CA   87849   87849         87849        87849   \n",
       "3     New York, NY   75785   75785         75785        75785   \n",
       "4       Denver, CO   64525   64525         64525        64525   \n",
       "\n",
       "   op_unique_carrier  tail_num  op_carrier_fl_num  origin_airport_id  \\\n",
       "0             123162    123162             123162             123162   \n",
       "1             105437    105437             105437             105437   \n",
       "2              87849     87849              87849              87849   \n",
       "3              75785     75785              75785              75785   \n",
       "4              64525     64525              64525              64525   \n",
       "\n",
       "   dest_airport_id  ...  nas_delay  security_delay  late_aircraft_delay  \\\n",
       "0           123162  ...      23228           23228                23228   \n",
       "1           105437  ...      28124           28124                28124   \n",
       "2            87849  ...      16392           16392                16392   \n",
       "3            75785  ...      17971           17971                17971   \n",
       "4            64525  ...      14991           14991                14991   \n",
       "\n",
       "     year  is_delayed  is_weekend  distance_agg  manufacture_year  \\\n",
       "0  123162      123162      123162        123162            119753   \n",
       "1  105437      105437      105437        105437            102805   \n",
       "2   87849       87849       87849         87849             87404   \n",
       "3   75785       75785       75785         75785             75575   \n",
       "4   64525       64525       64525         64525             64409   \n",
       "\n",
       "   manufacture_year_agg  destination_city_name  \n",
       "0                119532                 123162  \n",
       "1                102755                 105437  \n",
       "2                 87404                  87849  \n",
       "3                 75574                  75785  \n",
       "4                 64409                  64525  \n",
       "\n",
       "[5 rows x 35 columns]"
      ]
     },
     "execution_count": 143,
     "metadata": {},
     "output_type": "execute_result"
    }
   ],
   "source": [
    "top_airports_origin_df.head()"
   ]
  },
  {
   "cell_type": "markdown",
   "metadata": {},
   "source": [
    "Determine the airport to which the most planes arrived"
   ]
  },
  {
   "cell_type": "code",
   "execution_count": 144,
   "metadata": {},
   "outputs": [],
   "source": [
    "top_airports_destination_df = flight_df.groupby('destination_city_name').agg('count').sort_values('id', ascending=False).reset_index()"
   ]
  },
  {
   "cell_type": "markdown",
   "metadata": {},
   "source": [
    " # Adding weather data\n"
   ]
  },
  {
   "cell_type": "markdown",
   "metadata": {},
   "source": [
    " Loading data frame `airport_weather`"
   ]
  },
  {
   "cell_type": "code",
   "execution_count": 154,
   "metadata": {},
   "outputs": [],
   "source": [
    "airport_weather_df = read_sql_table(table_name='airport_weather')"
   ]
  },
  {
   "cell_type": "markdown",
   "metadata": {},
   "source": [
    "Deleting redundant columns"
   ]
  },
  {
   "cell_type": "code",
   "execution_count": 155,
   "metadata": {},
   "outputs": [
    {
     "data": {
      "text/plain": [
       "Index(['id', 'station', 'name', 'date', 'awnd', 'pgtm', 'prcp', 'snow', 'snwd',\n",
       "       'tavg', 'tmax', 'tmin', 'wdf2', 'wdf5', 'wsf2', 'wsf5', 'wt01', 'wt02',\n",
       "       'wt03', 'wt04', 'wt05', 'wt06', 'wt07', 'wt08', 'wt09', 'wesd', 'wt10',\n",
       "       'psun', 'tsun', 'sn32', 'sx32', 'tobs', 'wt11', 'wt18'],\n",
       "      dtype='object')"
      ]
     },
     "execution_count": 155,
     "metadata": {},
     "output_type": "execute_result"
    }
   ],
   "source": [
    "airport_weather_df.columns"
   ]
  },
  {
   "cell_type": "code",
   "execution_count": 156,
   "metadata": {},
   "outputs": [],
   "source": [
    "airport_weather_df = airport_weather_df.drop(columns=['id','pgtm',\n",
    "       'tavg', 'tmin', 'wdf2', 'wdf5', 'wsf2', 'wsf5', 'wt01', 'wt02',\n",
    "       'wt03', 'wt04', 'wt05', 'wt06', 'wt07', 'wt08', 'wt09', 'wesd', 'wt10',\n",
    "       'psun', 'tsun', 'sn32', 'sx32', 'tobs', 'wt11', 'wt18'])"
   ]
  },
  {
   "cell_type": "markdown",
   "metadata": {},
   "source": [
    "Merge `airport_list_df` and `airport_weather_df` using updating `airport_weather_df`."
   ]
  },
  {
   "cell_type": "code",
   "execution_count": 160,
   "metadata": {},
   "outputs": [],
   "source": [
    "airport_weather_df = airport_weather_df.merge(airport_list_df[['origin_airport_id', 'name']], on='name', how='inner')"
   ]
  },
  {
   "cell_type": "markdown",
   "metadata": {},
   "source": [
    " ## Merge `airport_weather_df` and `flight_df`."
   ]
  },
  {
   "cell_type": "markdown",
   "metadata": {},
   "source": [
    "Change the `date` column type to `DATETIME` in the `airport_weather_df` frame."
   ]
  },
  {
   "cell_type": "code",
   "execution_count": 167,
   "metadata": {},
   "outputs": [],
   "source": [
    "airport_weather_df['date'] = pd.to_datetime(airport_weather_df['date'])"
   ]
  },
  {
   "cell_type": "code",
   "execution_count": 169,
   "metadata": {},
   "outputs": [
    {
     "name": "stdout",
     "output_type": "stream",
     "text": [
      "<class 'pandas.core.frame.DataFrame'>\n",
      "RangeIndex: 43394 entries, 0 to 43393\n",
      "Data columns (total 9 columns):\n",
      " #   Column             Non-Null Count  Dtype         \n",
      "---  ------             --------------  -----         \n",
      " 0   station            43394 non-null  object        \n",
      " 1   name               43394 non-null  object        \n",
      " 2   date               43394 non-null  datetime64[ns]\n",
      " 3   awnd               43386 non-null  float64       \n",
      " 4   prcp               43368 non-null  float64       \n",
      " 5   snow               29578 non-null  float64       \n",
      " 6   snwd               29007 non-null  float64       \n",
      " 7   tmax               43386 non-null  float64       \n",
      " 8   origin_airport_id  43394 non-null  int64         \n",
      "dtypes: datetime64[ns](1), float64(5), int64(1), object(2)\n",
      "memory usage: 3.0+ MB\n"
     ]
    }
   ],
   "source": [
    "airport_weather_df.info()"
   ]
  },
  {
   "cell_type": "markdown",
   "metadata": {},
   "source": [
    "Create a date` column in the `flight_df` frame. "
   ]
  },
  {
   "cell_type": "code",
   "execution_count": 184,
   "metadata": {},
   "outputs": [],
   "source": [
    "flight_df = flight_df.rename(columns={'day_of_month': 'day'})"
   ]
  },
  {
   "cell_type": "code",
   "execution_count": 186,
   "metadata": {},
   "outputs": [],
   "source": [
    "flight_df['date'] = pd.to_datetime(flight_df[['year', 'month', 'day']])"
   ]
  },
  {
   "cell_type": "code",
   "execution_count": 205,
   "metadata": {},
   "outputs": [],
   "source": [
    "flight_df['date'] = pd.to_datetime(flight_df['date']).dt.strftime('%Y-%m-%d')\n",
    "\n",
    "flight_df['date'] = pd.to_datetime(flight_df['date'])"
   ]
  },
  {
   "cell_type": "markdown",
   "metadata": {},
   "source": [
    "Merge `airport_weather_df` and `flight_df` based on: `origin_airport_id`, `date`."
   ]
  },
  {
   "cell_type": "code",
   "execution_count": 209,
   "metadata": {},
   "outputs": [],
   "source": [
    "flight_df = flight_df.merge(airport_weather_df, on=['origin_airport_id', 'date'], how='left')"
   ]
  },
  {
   "cell_type": "code",
   "execution_count": 210,
   "metadata": {},
   "outputs": [
    {
     "data": {
      "text/html": [
       "<div>\n",
       "<style scoped>\n",
       "    .dataframe tbody tr th:only-of-type {\n",
       "        vertical-align: middle;\n",
       "    }\n",
       "\n",
       "    .dataframe tbody tr th {\n",
       "        vertical-align: top;\n",
       "    }\n",
       "\n",
       "    .dataframe thead th {\n",
       "        text-align: right;\n",
       "    }\n",
       "</style>\n",
       "<table border=\"1\" class=\"dataframe\">\n",
       "  <thead>\n",
       "    <tr style=\"text-align: right;\">\n",
       "      <th></th>\n",
       "      <th>id</th>\n",
       "      <th>month</th>\n",
       "      <th>day</th>\n",
       "      <th>day_of_week</th>\n",
       "      <th>op_unique_carrier</th>\n",
       "      <th>tail_num</th>\n",
       "      <th>op_carrier_fl_num</th>\n",
       "      <th>origin_airport_id</th>\n",
       "      <th>dest_airport_id</th>\n",
       "      <th>crs_dep_time</th>\n",
       "      <th>...</th>\n",
       "      <th>origin_city_name</th>\n",
       "      <th>destination_city_name</th>\n",
       "      <th>date</th>\n",
       "      <th>station</th>\n",
       "      <th>name</th>\n",
       "      <th>awnd</th>\n",
       "      <th>prcp</th>\n",
       "      <th>snow</th>\n",
       "      <th>snwd</th>\n",
       "      <th>tmax</th>\n",
       "    </tr>\n",
       "  </thead>\n",
       "  <tbody>\n",
       "    <tr>\n",
       "      <th>450905</th>\n",
       "      <td>576262</td>\n",
       "      <td>5</td>\n",
       "      <td>6</td>\n",
       "      <td>1</td>\n",
       "      <td>DL</td>\n",
       "      <td>N916DN</td>\n",
       "      <td>2017</td>\n",
       "      <td>14100</td>\n",
       "      <td>10397</td>\n",
       "      <td>1636</td>\n",
       "      <td>...</td>\n",
       "      <td>Philadelphia, PA</td>\n",
       "      <td>Atlanta, GA</td>\n",
       "      <td>2019-05-06</td>\n",
       "      <td>USW00013739</td>\n",
       "      <td>PHILADELPHIA INTERNATIONAL AIRPORT, PA US</td>\n",
       "      <td>7.16</td>\n",
       "      <td>0.0</td>\n",
       "      <td>0.0</td>\n",
       "      <td>0.0</td>\n",
       "      <td>73.0</td>\n",
       "    </tr>\n",
       "  </tbody>\n",
       "</table>\n",
       "<p>1 rows × 43 columns</p>\n",
       "</div>"
      ],
      "text/plain": [
       "            id  month  day  day_of_week op_unique_carrier tail_num  \\\n",
       "450905  576262      5    6            1                DL   N916DN   \n",
       "\n",
       "        op_carrier_fl_num  origin_airport_id  dest_airport_id  crs_dep_time  \\\n",
       "450905               2017              14100            10397          1636   \n",
       "\n",
       "        ...  origin_city_name  destination_city_name       date      station  \\\n",
       "450905  ...  Philadelphia, PA            Atlanta, GA 2019-05-06  USW00013739   \n",
       "\n",
       "                                             name  awnd prcp  snow  snwd  tmax  \n",
       "450905  PHILADELPHIA INTERNATIONAL AIRPORT, PA US  7.16  0.0   0.0   0.0  73.0  \n",
       "\n",
       "[1 rows x 43 columns]"
      ]
     },
     "execution_count": 210,
     "metadata": {},
     "output_type": "execute_result"
    }
   ],
   "source": [
    "flight_df.sample()"
   ]
  },
  {
   "cell_type": "markdown",
   "metadata": {},
   "source": [
    "## Analysis of the effect of maximum temperature on delays"
   ]
  },
  {
   "cell_type": "markdown",
   "metadata": {},
   "source": [
    "Analysis for the column `tmax`."
   ]
  },
  {
   "cell_type": "code",
   "execution_count": 212,
   "metadata": {},
   "outputs": [
    {
     "data": {
      "text/html": [
       "<div>\n",
       "<style scoped>\n",
       "    .dataframe tbody tr th:only-of-type {\n",
       "        vertical-align: middle;\n",
       "    }\n",
       "\n",
       "    .dataframe tbody tr th {\n",
       "        vertical-align: top;\n",
       "    }\n",
       "\n",
       "    .dataframe thead th {\n",
       "        text-align: right;\n",
       "    }\n",
       "</style>\n",
       "<table border=\"1\" class=\"dataframe\">\n",
       "  <thead>\n",
       "    <tr style=\"text-align: right;\">\n",
       "      <th></th>\n",
       "      <th>id</th>\n",
       "      <th>month</th>\n",
       "      <th>day</th>\n",
       "      <th>day_of_week</th>\n",
       "      <th>op_unique_carrier</th>\n",
       "      <th>tail_num</th>\n",
       "      <th>op_carrier_fl_num</th>\n",
       "      <th>origin_airport_id</th>\n",
       "      <th>dest_airport_id</th>\n",
       "      <th>crs_dep_time</th>\n",
       "      <th>...</th>\n",
       "      <th>origin_city_name</th>\n",
       "      <th>destination_city_name</th>\n",
       "      <th>date</th>\n",
       "      <th>station</th>\n",
       "      <th>name</th>\n",
       "      <th>awnd</th>\n",
       "      <th>prcp</th>\n",
       "      <th>snow</th>\n",
       "      <th>snwd</th>\n",
       "      <th>tmax</th>\n",
       "    </tr>\n",
       "  </thead>\n",
       "  <tbody>\n",
       "    <tr>\n",
       "      <th>787509</th>\n",
       "      <td>1019157</td>\n",
       "      <td>2</td>\n",
       "      <td>3</td>\n",
       "      <td>7</td>\n",
       "      <td>AS</td>\n",
       "      <td>N926VA</td>\n",
       "      <td>1946</td>\n",
       "      <td>14771</td>\n",
       "      <td>12892</td>\n",
       "      <td>900</td>\n",
       "      <td>...</td>\n",
       "      <td>San Francisco, CA</td>\n",
       "      <td>Los Angeles, CA</td>\n",
       "      <td>2019-02-03</td>\n",
       "      <td>USW00023234</td>\n",
       "      <td>SAN FRANCISCO INTERNATIONAL AIRPORT, CA US</td>\n",
       "      <td>13.42</td>\n",
       "      <td>0.14</td>\n",
       "      <td>NaN</td>\n",
       "      <td>NaN</td>\n",
       "      <td>56.0</td>\n",
       "    </tr>\n",
       "  </tbody>\n",
       "</table>\n",
       "<p>1 rows × 43 columns</p>\n",
       "</div>"
      ],
      "text/plain": [
       "             id  month  day  day_of_week op_unique_carrier tail_num  \\\n",
       "787509  1019157      2    3            7                AS   N926VA   \n",
       "\n",
       "        op_carrier_fl_num  origin_airport_id  dest_airport_id  crs_dep_time  \\\n",
       "787509               1946              14771            12892           900   \n",
       "\n",
       "        ...   origin_city_name  destination_city_name       date      station  \\\n",
       "787509  ...  San Francisco, CA        Los Angeles, CA 2019-02-03  USW00023234   \n",
       "\n",
       "                                              name   awnd  prcp  snow  snwd  \\\n",
       "787509  SAN FRANCISCO INTERNATIONAL AIRPORT, CA US  13.42  0.14   NaN   NaN   \n",
       "\n",
       "        tmax  \n",
       "787509  56.0  \n",
       "\n",
       "[1 rows x 43 columns]"
      ]
     },
     "execution_count": 212,
     "metadata": {},
     "output_type": "execute_result"
    }
   ],
   "source": [
    "flight_df.sample()"
   ]
  },
  {
   "cell_type": "markdown",
   "metadata": {},
   "source": [
    "Outliers"
   ]
  },
  {
   "cell_type": "code",
   "execution_count": 219,
   "metadata": {},
   "outputs": [
    {
     "data": {
      "text/plain": [
       "count    1051956.00\n",
       "mean          70.33\n",
       "std           17.97\n",
       "min          -10.00\n",
       "10%           45.00\n",
       "25%           59.00\n",
       "50%           72.00\n",
       "75%           84.00\n",
       "90%           92.00\n",
       "95%           95.00\n",
       "99%          106.00\n",
       "max          115.00\n",
       "Name: tmax, dtype: float64"
      ]
     },
     "execution_count": 219,
     "metadata": {},
     "output_type": "execute_result"
    }
   ],
   "source": [
    "flight_df.tmax.describe(percentiles=[0.1, 0.25, 0.5, 0.75, 0.9, 0.95, 0.99]).round(2)"
   ]
  },
  {
   "cell_type": "code",
   "execution_count": 223,
   "metadata": {},
   "outputs": [
    {
     "data": {
      "text/plain": [
       "array(['Phoenix, AZ'], dtype=object)"
      ]
     },
     "execution_count": 223,
     "metadata": {},
     "output_type": "execute_result"
    }
   ],
   "source": [
    "flight_df[flight_df['tmax'] > 114].origin_city_name.unique()"
   ]
  },
  {
   "cell_type": "markdown",
   "metadata": {},
   "source": [
    " ### Comment\n",
    "temperatures around 115 °F occur in Phoenix, AZ naturally during the period defined by the data, i.e. from June to September (the highest recorded 122 °F), so it is not dismissed as an outlier\n",
    "\n",
    "source:\n",
    "- https://www.currentresults.com/Weather/Arizona/Places/phoenix-temperatures-by-month-average.php\n",
    "- https://www.azfamily.com/page/what-they-dont-tell-you-about-arizonas-temperature-extremes/"
   ]
  },
  {
   "cell_type": "markdown",
   "metadata": {},
   "source": [
    "Removal of Null in tmax"
   ]
  },
  {
   "cell_type": "code",
   "execution_count": 224,
   "metadata": {},
   "outputs": [
    {
     "data": {
      "text/plain": [
       "True"
      ]
     },
     "execution_count": 224,
     "metadata": {},
     "output_type": "execute_result"
    }
   ],
   "source": [
    "flight_df.tmax.isnull().any()"
   ]
  },
  {
   "cell_type": "code",
   "execution_count": 233,
   "metadata": {},
   "outputs": [],
   "source": [
    "tmax_clean_flight_df = flight_df.dropna(subset=['tmax'])"
   ]
  },
  {
   "cell_type": "code",
   "execution_count": 235,
   "metadata": {},
   "outputs": [
    {
     "data": {
      "text/plain": [
       "False"
      ]
     },
     "execution_count": 235,
     "metadata": {},
     "output_type": "execute_result"
    }
   ],
   "source": [
    "tmax_clean_flight_df.tmax.isnull().any()"
   ]
  },
  {
   "cell_type": "code",
   "execution_count": 237,
   "metadata": {},
   "outputs": [
    {
     "data": {
      "text/html": [
       "<div>\n",
       "<style scoped>\n",
       "    .dataframe tbody tr th:only-of-type {\n",
       "        vertical-align: middle;\n",
       "    }\n",
       "\n",
       "    .dataframe tbody tr th {\n",
       "        vertical-align: top;\n",
       "    }\n",
       "\n",
       "    .dataframe thead th {\n",
       "        text-align: right;\n",
       "    }\n",
       "</style>\n",
       "<table border=\"1\" class=\"dataframe\">\n",
       "  <thead>\n",
       "    <tr style=\"text-align: right;\">\n",
       "      <th></th>\n",
       "      <th>id</th>\n",
       "      <th>month</th>\n",
       "      <th>day</th>\n",
       "      <th>day_of_week</th>\n",
       "      <th>op_unique_carrier</th>\n",
       "      <th>tail_num</th>\n",
       "      <th>op_carrier_fl_num</th>\n",
       "      <th>origin_airport_id</th>\n",
       "      <th>dest_airport_id</th>\n",
       "      <th>crs_dep_time</th>\n",
       "      <th>...</th>\n",
       "      <th>origin_city_name</th>\n",
       "      <th>destination_city_name</th>\n",
       "      <th>date</th>\n",
       "      <th>station</th>\n",
       "      <th>name</th>\n",
       "      <th>awnd</th>\n",
       "      <th>prcp</th>\n",
       "      <th>snow</th>\n",
       "      <th>snwd</th>\n",
       "      <th>tmax</th>\n",
       "    </tr>\n",
       "  </thead>\n",
       "  <tbody>\n",
       "    <tr>\n",
       "      <th>554296</th>\n",
       "      <td>704285</td>\n",
       "      <td>5</td>\n",
       "      <td>8</td>\n",
       "      <td>3</td>\n",
       "      <td>9E</td>\n",
       "      <td>N932XJ</td>\n",
       "      <td>3358</td>\n",
       "      <td>12953</td>\n",
       "      <td>11057</td>\n",
       "      <td>1859</td>\n",
       "      <td>...</td>\n",
       "      <td>New York, NY</td>\n",
       "      <td>Charlotte, NC</td>\n",
       "      <td>2019-05-08</td>\n",
       "      <td>USW00014732</td>\n",
       "      <td>LAGUARDIA AIRPORT, NY US</td>\n",
       "      <td>7.83</td>\n",
       "      <td>0.0</td>\n",
       "      <td>0.0</td>\n",
       "      <td>0.0</td>\n",
       "      <td>68.0</td>\n",
       "    </tr>\n",
       "  </tbody>\n",
       "</table>\n",
       "<p>1 rows × 43 columns</p>\n",
       "</div>"
      ],
      "text/plain": [
       "            id  month  day  day_of_week op_unique_carrier tail_num  \\\n",
       "554296  704285      5    8            3                9E   N932XJ   \n",
       "\n",
       "        op_carrier_fl_num  origin_airport_id  dest_airport_id  crs_dep_time  \\\n",
       "554296               3358              12953            11057          1859   \n",
       "\n",
       "        ...  origin_city_name  destination_city_name       date      station  \\\n",
       "554296  ...      New York, NY          Charlotte, NC 2019-05-08  USW00014732   \n",
       "\n",
       "                            name  awnd prcp  snow  snwd  tmax  \n",
       "554296  LAGUARDIA AIRPORT, NY US  7.83  0.0   0.0   0.0  68.0  \n",
       "\n",
       "[1 rows x 43 columns]"
      ]
     },
     "execution_count": 237,
     "metadata": {},
     "output_type": "execute_result"
    }
   ],
   "source": [
    "tmax_clean_flight_df.sample()"
   ]
  },
  {
   "cell_type": "code",
   "execution_count": 240,
   "metadata": {},
   "outputs": [],
   "source": [
    "agg_tmax_clean_flight_df = tmax_clean_flight_df.groupby('tmax')['is_delayed'].agg(['count', 'mean']).reset_index()"
   ]
  },
  {
   "cell_type": "code",
   "execution_count": 244,
   "metadata": {},
   "outputs": [
    {
     "data": {
      "text/html": [
       "<div>\n",
       "<style scoped>\n",
       "    .dataframe tbody tr th:only-of-type {\n",
       "        vertical-align: middle;\n",
       "    }\n",
       "\n",
       "    .dataframe tbody tr th {\n",
       "        vertical-align: top;\n",
       "    }\n",
       "\n",
       "    .dataframe thead th {\n",
       "        text-align: right;\n",
       "    }\n",
       "</style>\n",
       "<table border=\"1\" class=\"dataframe\">\n",
       "  <thead>\n",
       "    <tr style=\"text-align: right;\">\n",
       "      <th></th>\n",
       "      <th>tmax</th>\n",
       "      <th>count</th>\n",
       "      <th>mean</th>\n",
       "    </tr>\n",
       "  </thead>\n",
       "  <tbody>\n",
       "    <tr>\n",
       "      <th>0</th>\n",
       "      <td>-10.0</td>\n",
       "      <td>127</td>\n",
       "      <td>0.661417</td>\n",
       "    </tr>\n",
       "    <tr>\n",
       "      <th>1</th>\n",
       "      <td>1.0</td>\n",
       "      <td>178</td>\n",
       "      <td>0.455056</td>\n",
       "    </tr>\n",
       "    <tr>\n",
       "      <th>2</th>\n",
       "      <td>3.0</td>\n",
       "      <td>7</td>\n",
       "      <td>0.571429</td>\n",
       "    </tr>\n",
       "    <tr>\n",
       "      <th>3</th>\n",
       "      <td>5.0</td>\n",
       "      <td>295</td>\n",
       "      <td>0.477966</td>\n",
       "    </tr>\n",
       "    <tr>\n",
       "      <th>4</th>\n",
       "      <td>6.0</td>\n",
       "      <td>186</td>\n",
       "      <td>0.413978</td>\n",
       "    </tr>\n",
       "    <tr>\n",
       "      <th>...</th>\n",
       "      <td>...</td>\n",
       "      <td>...</td>\n",
       "      <td>...</td>\n",
       "    </tr>\n",
       "    <tr>\n",
       "      <th>107</th>\n",
       "      <td>111.0</td>\n",
       "      <td>678</td>\n",
       "      <td>0.168142</td>\n",
       "    </tr>\n",
       "    <tr>\n",
       "      <th>108</th>\n",
       "      <td>112.0</td>\n",
       "      <td>407</td>\n",
       "      <td>0.164619</td>\n",
       "    </tr>\n",
       "    <tr>\n",
       "      <th>109</th>\n",
       "      <td>113.0</td>\n",
       "      <td>300</td>\n",
       "      <td>0.166667</td>\n",
       "    </tr>\n",
       "    <tr>\n",
       "      <th>110</th>\n",
       "      <td>114.0</td>\n",
       "      <td>588</td>\n",
       "      <td>0.192177</td>\n",
       "    </tr>\n",
       "    <tr>\n",
       "      <th>111</th>\n",
       "      <td>115.0</td>\n",
       "      <td>197</td>\n",
       "      <td>0.197970</td>\n",
       "    </tr>\n",
       "  </tbody>\n",
       "</table>\n",
       "<p>112 rows × 3 columns</p>\n",
       "</div>"
      ],
      "text/plain": [
       "      tmax  count      mean\n",
       "0    -10.0    127  0.661417\n",
       "1      1.0    178  0.455056\n",
       "2      3.0      7  0.571429\n",
       "3      5.0    295  0.477966\n",
       "4      6.0    186  0.413978\n",
       "..     ...    ...       ...\n",
       "107  111.0    678  0.168142\n",
       "108  112.0    407  0.164619\n",
       "109  113.0    300  0.166667\n",
       "110  114.0    588  0.192177\n",
       "111  115.0    197  0.197970\n",
       "\n",
       "[112 rows x 3 columns]"
      ]
     },
     "execution_count": 244,
     "metadata": {},
     "output_type": "execute_result"
    }
   ],
   "source": [
    "agg_tmax_clean_flight_df.sort_values('tmax')"
   ]
  },
  {
   "cell_type": "code",
   "execution_count": 243,
   "metadata": {},
   "outputs": [
    {
     "data": {
      "text/html": [
       "<div>\n",
       "<style scoped>\n",
       "    .dataframe tbody tr th:only-of-type {\n",
       "        vertical-align: middle;\n",
       "    }\n",
       "\n",
       "    .dataframe tbody tr th {\n",
       "        vertical-align: top;\n",
       "    }\n",
       "\n",
       "    .dataframe thead th {\n",
       "        text-align: right;\n",
       "    }\n",
       "</style>\n",
       "<table border=\"1\" class=\"dataframe\">\n",
       "  <thead>\n",
       "    <tr style=\"text-align: right;\">\n",
       "      <th></th>\n",
       "      <th>tmax</th>\n",
       "      <th>count</th>\n",
       "      <th>mean</th>\n",
       "    </tr>\n",
       "  </thead>\n",
       "  <tbody>\n",
       "    <tr>\n",
       "      <th>91</th>\n",
       "      <td>95.0</td>\n",
       "      <td>13244</td>\n",
       "      <td>0.210057</td>\n",
       "    </tr>\n",
       "  </tbody>\n",
       "</table>\n",
       "</div>"
      ],
      "text/plain": [
       "    tmax  count      mean\n",
       "91  95.0  13244  0.210057"
      ]
     },
     "execution_count": 243,
     "metadata": {},
     "output_type": "execute_result"
    }
   ],
   "source": [
    "agg_tmax_clean_flight_df.sample()"
   ]
  },
  {
   "cell_type": "markdown",
   "metadata": {},
   "source": [
    "Graph of the effect of temperature on delay"
   ]
  },
  {
   "cell_type": "code",
   "execution_count": 246,
   "metadata": {},
   "outputs": [
    {
     "data": {
      "application/vnd.plotly.v1+json": {
       "config": {
        "plotlyServerURL": "https://plot.ly"
       },
       "data": [
        {
         "hovertemplate": "tmax=%{x}<br>mean=%{y}<extra></extra>",
         "legendgroup": "",
         "marker": {
          "color": "#636efa",
          "symbol": "circle"
         },
         "mode": "markers",
         "name": "",
         "orientation": "v",
         "showlegend": false,
         "type": "scatter",
         "x": [
          -10,
          1,
          3,
          5,
          6,
          8,
          10,
          11,
          12,
          13,
          14,
          15,
          16,
          17,
          18,
          19,
          20,
          21,
          22,
          23,
          24,
          25,
          26,
          27,
          28,
          29,
          30,
          31,
          32,
          33,
          34,
          35,
          36,
          37,
          38,
          39,
          40,
          41,
          42,
          43,
          44,
          45,
          46,
          47,
          48,
          49,
          50,
          51,
          52,
          53,
          54,
          55,
          56,
          57,
          58,
          59,
          60,
          61,
          62,
          63,
          64,
          65,
          66,
          67,
          68,
          69,
          70,
          71,
          72,
          73,
          74,
          75,
          76,
          77,
          78,
          79,
          80,
          81,
          82,
          83,
          84,
          85,
          86,
          87,
          88,
          89,
          90,
          91,
          92,
          93,
          94,
          95,
          96,
          97,
          98,
          99,
          100,
          101,
          102,
          103,
          104,
          105,
          106,
          107,
          108,
          109,
          110,
          111,
          112,
          113,
          114,
          115
         ],
         "xaxis": "x",
         "y": [
          0.6614173228346457,
          0.4550561797752809,
          0.5714285714285714,
          0.47796610169491527,
          0.41397849462365593,
          0.06666666666666667,
          0.3697478991596639,
          0.22468354430379747,
          0.2671641791044776,
          0.2736156351791531,
          0.351931330472103,
          0.3227990970654628,
          0.5662100456621004,
          0.31877729257641924,
          0.3949771689497717,
          0.39114391143911437,
          0.24476987447698745,
          0.29559748427672955,
          0.29571984435797666,
          0.2897196261682243,
          0.23472850678733032,
          0.3028169014084507,
          0.17053364269141533,
          0.21849529780564264,
          0.3425054308472122,
          0.2843463780183181,
          0.21782518926359257,
          0.2542134831460674,
          0.27512493059411436,
          0.2792325641690433,
          0.294054747647562,
          0.20100415512465375,
          0.251810136765889,
          0.20082342177493137,
          0.25215552301935906,
          0.22520624890293137,
          0.2155072463768116,
          0.22055411491742868,
          0.19535859446702505,
          0.19295734325794445,
          0.1882880957469545,
          0.17038875103391232,
          0.17825777355803465,
          0.20523340627279357,
          0.1939806444751675,
          0.20138190954773869,
          0.1784573695925675,
          0.1783947939262473,
          0.1721773205975998,
          0.1619718309859155,
          0.16620452062851862,
          0.17565376038921549,
          0.19315681124440973,
          0.20308933191295084,
          0.18717996174964527,
          0.20570457121269362,
          0.19496021220159152,
          0.1949077621264808,
          0.1954599761051374,
          0.17897405469550676,
          0.17290330244713709,
          0.172760336906585,
          0.1727454351159225,
          0.17845809221579242,
          0.1696754463845319,
          0.15684056741599509,
          0.20021375133594585,
          0.2066068084697748,
          0.18283992344341735,
          0.17053743937541896,
          0.18532953798992774,
          0.18161496529275659,
          0.20197180503086704,
          0.1965065502183406,
          0.18544295836652552,
          0.16375258507238202,
          0.171388168748527,
          0.17062937062937064,
          0.18610502772470994,
          0.19065036576811303,
          0.18688080091771822,
          0.1730759030393041,
          0.17387587621815695,
          0.20741686769783832,
          0.18655044799376705,
          0.18915028378711854,
          0.22530912917653248,
          0.21259248074890533,
          0.20799399295327212,
          0.20632633886626997,
          0.20222339862361038,
          0.21005738447598912,
          0.18472421203438397,
          0.1873982416151091,
          0.1879382889200561,
          0.1889032258064516,
          0.19349133356915457,
          0.2061211742660837,
          0.18016457340840192,
          0.18823529411764706,
          0.2190934065934066,
          0.2334384858044164,
          0.18473895582329317,
          0.2078853046594982,
          0.21763506625891946,
          0.1848883800801374,
          0.19094036697247707,
          0.168141592920354,
          0.16461916461916462,
          0.16666666666666666,
          0.1921768707482993,
          0.19796954314720813
         ],
         "yaxis": "y"
        }
       ],
       "layout": {
        "legend": {
         "tracegroupgap": 0
        },
        "template": {
         "data": {
          "bar": [
           {
            "error_x": {
             "color": "#2a3f5f"
            },
            "error_y": {
             "color": "#2a3f5f"
            },
            "marker": {
             "line": {
              "color": "#E5ECF6",
              "width": 0.5
             },
             "pattern": {
              "fillmode": "overlay",
              "size": 10,
              "solidity": 0.2
             }
            },
            "type": "bar"
           }
          ],
          "barpolar": [
           {
            "marker": {
             "line": {
              "color": "#E5ECF6",
              "width": 0.5
             },
             "pattern": {
              "fillmode": "overlay",
              "size": 10,
              "solidity": 0.2
             }
            },
            "type": "barpolar"
           }
          ],
          "carpet": [
           {
            "aaxis": {
             "endlinecolor": "#2a3f5f",
             "gridcolor": "white",
             "linecolor": "white",
             "minorgridcolor": "white",
             "startlinecolor": "#2a3f5f"
            },
            "baxis": {
             "endlinecolor": "#2a3f5f",
             "gridcolor": "white",
             "linecolor": "white",
             "minorgridcolor": "white",
             "startlinecolor": "#2a3f5f"
            },
            "type": "carpet"
           }
          ],
          "choropleth": [
           {
            "colorbar": {
             "outlinewidth": 0,
             "ticks": ""
            },
            "type": "choropleth"
           }
          ],
          "contour": [
           {
            "colorbar": {
             "outlinewidth": 0,
             "ticks": ""
            },
            "colorscale": [
             [
              0,
              "#0d0887"
             ],
             [
              0.1111111111111111,
              "#46039f"
             ],
             [
              0.2222222222222222,
              "#7201a8"
             ],
             [
              0.3333333333333333,
              "#9c179e"
             ],
             [
              0.4444444444444444,
              "#bd3786"
             ],
             [
              0.5555555555555556,
              "#d8576b"
             ],
             [
              0.6666666666666666,
              "#ed7953"
             ],
             [
              0.7777777777777778,
              "#fb9f3a"
             ],
             [
              0.8888888888888888,
              "#fdca26"
             ],
             [
              1,
              "#f0f921"
             ]
            ],
            "type": "contour"
           }
          ],
          "contourcarpet": [
           {
            "colorbar": {
             "outlinewidth": 0,
             "ticks": ""
            },
            "type": "contourcarpet"
           }
          ],
          "heatmap": [
           {
            "colorbar": {
             "outlinewidth": 0,
             "ticks": ""
            },
            "colorscale": [
             [
              0,
              "#0d0887"
             ],
             [
              0.1111111111111111,
              "#46039f"
             ],
             [
              0.2222222222222222,
              "#7201a8"
             ],
             [
              0.3333333333333333,
              "#9c179e"
             ],
             [
              0.4444444444444444,
              "#bd3786"
             ],
             [
              0.5555555555555556,
              "#d8576b"
             ],
             [
              0.6666666666666666,
              "#ed7953"
             ],
             [
              0.7777777777777778,
              "#fb9f3a"
             ],
             [
              0.8888888888888888,
              "#fdca26"
             ],
             [
              1,
              "#f0f921"
             ]
            ],
            "type": "heatmap"
           }
          ],
          "heatmapgl": [
           {
            "colorbar": {
             "outlinewidth": 0,
             "ticks": ""
            },
            "colorscale": [
             [
              0,
              "#0d0887"
             ],
             [
              0.1111111111111111,
              "#46039f"
             ],
             [
              0.2222222222222222,
              "#7201a8"
             ],
             [
              0.3333333333333333,
              "#9c179e"
             ],
             [
              0.4444444444444444,
              "#bd3786"
             ],
             [
              0.5555555555555556,
              "#d8576b"
             ],
             [
              0.6666666666666666,
              "#ed7953"
             ],
             [
              0.7777777777777778,
              "#fb9f3a"
             ],
             [
              0.8888888888888888,
              "#fdca26"
             ],
             [
              1,
              "#f0f921"
             ]
            ],
            "type": "heatmapgl"
           }
          ],
          "histogram": [
           {
            "marker": {
             "pattern": {
              "fillmode": "overlay",
              "size": 10,
              "solidity": 0.2
             }
            },
            "type": "histogram"
           }
          ],
          "histogram2d": [
           {
            "colorbar": {
             "outlinewidth": 0,
             "ticks": ""
            },
            "colorscale": [
             [
              0,
              "#0d0887"
             ],
             [
              0.1111111111111111,
              "#46039f"
             ],
             [
              0.2222222222222222,
              "#7201a8"
             ],
             [
              0.3333333333333333,
              "#9c179e"
             ],
             [
              0.4444444444444444,
              "#bd3786"
             ],
             [
              0.5555555555555556,
              "#d8576b"
             ],
             [
              0.6666666666666666,
              "#ed7953"
             ],
             [
              0.7777777777777778,
              "#fb9f3a"
             ],
             [
              0.8888888888888888,
              "#fdca26"
             ],
             [
              1,
              "#f0f921"
             ]
            ],
            "type": "histogram2d"
           }
          ],
          "histogram2dcontour": [
           {
            "colorbar": {
             "outlinewidth": 0,
             "ticks": ""
            },
            "colorscale": [
             [
              0,
              "#0d0887"
             ],
             [
              0.1111111111111111,
              "#46039f"
             ],
             [
              0.2222222222222222,
              "#7201a8"
             ],
             [
              0.3333333333333333,
              "#9c179e"
             ],
             [
              0.4444444444444444,
              "#bd3786"
             ],
             [
              0.5555555555555556,
              "#d8576b"
             ],
             [
              0.6666666666666666,
              "#ed7953"
             ],
             [
              0.7777777777777778,
              "#fb9f3a"
             ],
             [
              0.8888888888888888,
              "#fdca26"
             ],
             [
              1,
              "#f0f921"
             ]
            ],
            "type": "histogram2dcontour"
           }
          ],
          "mesh3d": [
           {
            "colorbar": {
             "outlinewidth": 0,
             "ticks": ""
            },
            "type": "mesh3d"
           }
          ],
          "parcoords": [
           {
            "line": {
             "colorbar": {
              "outlinewidth": 0,
              "ticks": ""
             }
            },
            "type": "parcoords"
           }
          ],
          "pie": [
           {
            "automargin": true,
            "type": "pie"
           }
          ],
          "scatter": [
           {
            "fillpattern": {
             "fillmode": "overlay",
             "size": 10,
             "solidity": 0.2
            },
            "type": "scatter"
           }
          ],
          "scatter3d": [
           {
            "line": {
             "colorbar": {
              "outlinewidth": 0,
              "ticks": ""
             }
            },
            "marker": {
             "colorbar": {
              "outlinewidth": 0,
              "ticks": ""
             }
            },
            "type": "scatter3d"
           }
          ],
          "scattercarpet": [
           {
            "marker": {
             "colorbar": {
              "outlinewidth": 0,
              "ticks": ""
             }
            },
            "type": "scattercarpet"
           }
          ],
          "scattergeo": [
           {
            "marker": {
             "colorbar": {
              "outlinewidth": 0,
              "ticks": ""
             }
            },
            "type": "scattergeo"
           }
          ],
          "scattergl": [
           {
            "marker": {
             "colorbar": {
              "outlinewidth": 0,
              "ticks": ""
             }
            },
            "type": "scattergl"
           }
          ],
          "scattermapbox": [
           {
            "marker": {
             "colorbar": {
              "outlinewidth": 0,
              "ticks": ""
             }
            },
            "type": "scattermapbox"
           }
          ],
          "scatterpolar": [
           {
            "marker": {
             "colorbar": {
              "outlinewidth": 0,
              "ticks": ""
             }
            },
            "type": "scatterpolar"
           }
          ],
          "scatterpolargl": [
           {
            "marker": {
             "colorbar": {
              "outlinewidth": 0,
              "ticks": ""
             }
            },
            "type": "scatterpolargl"
           }
          ],
          "scatterternary": [
           {
            "marker": {
             "colorbar": {
              "outlinewidth": 0,
              "ticks": ""
             }
            },
            "type": "scatterternary"
           }
          ],
          "surface": [
           {
            "colorbar": {
             "outlinewidth": 0,
             "ticks": ""
            },
            "colorscale": [
             [
              0,
              "#0d0887"
             ],
             [
              0.1111111111111111,
              "#46039f"
             ],
             [
              0.2222222222222222,
              "#7201a8"
             ],
             [
              0.3333333333333333,
              "#9c179e"
             ],
             [
              0.4444444444444444,
              "#bd3786"
             ],
             [
              0.5555555555555556,
              "#d8576b"
             ],
             [
              0.6666666666666666,
              "#ed7953"
             ],
             [
              0.7777777777777778,
              "#fb9f3a"
             ],
             [
              0.8888888888888888,
              "#fdca26"
             ],
             [
              1,
              "#f0f921"
             ]
            ],
            "type": "surface"
           }
          ],
          "table": [
           {
            "cells": {
             "fill": {
              "color": "#EBF0F8"
             },
             "line": {
              "color": "white"
             }
            },
            "header": {
             "fill": {
              "color": "#C8D4E3"
             },
             "line": {
              "color": "white"
             }
            },
            "type": "table"
           }
          ]
         },
         "layout": {
          "annotationdefaults": {
           "arrowcolor": "#2a3f5f",
           "arrowhead": 0,
           "arrowwidth": 1
          },
          "autotypenumbers": "strict",
          "coloraxis": {
           "colorbar": {
            "outlinewidth": 0,
            "ticks": ""
           }
          },
          "colorscale": {
           "diverging": [
            [
             0,
             "#8e0152"
            ],
            [
             0.1,
             "#c51b7d"
            ],
            [
             0.2,
             "#de77ae"
            ],
            [
             0.3,
             "#f1b6da"
            ],
            [
             0.4,
             "#fde0ef"
            ],
            [
             0.5,
             "#f7f7f7"
            ],
            [
             0.6,
             "#e6f5d0"
            ],
            [
             0.7,
             "#b8e186"
            ],
            [
             0.8,
             "#7fbc41"
            ],
            [
             0.9,
             "#4d9221"
            ],
            [
             1,
             "#276419"
            ]
           ],
           "sequential": [
            [
             0,
             "#0d0887"
            ],
            [
             0.1111111111111111,
             "#46039f"
            ],
            [
             0.2222222222222222,
             "#7201a8"
            ],
            [
             0.3333333333333333,
             "#9c179e"
            ],
            [
             0.4444444444444444,
             "#bd3786"
            ],
            [
             0.5555555555555556,
             "#d8576b"
            ],
            [
             0.6666666666666666,
             "#ed7953"
            ],
            [
             0.7777777777777778,
             "#fb9f3a"
            ],
            [
             0.8888888888888888,
             "#fdca26"
            ],
            [
             1,
             "#f0f921"
            ]
           ],
           "sequentialminus": [
            [
             0,
             "#0d0887"
            ],
            [
             0.1111111111111111,
             "#46039f"
            ],
            [
             0.2222222222222222,
             "#7201a8"
            ],
            [
             0.3333333333333333,
             "#9c179e"
            ],
            [
             0.4444444444444444,
             "#bd3786"
            ],
            [
             0.5555555555555556,
             "#d8576b"
            ],
            [
             0.6666666666666666,
             "#ed7953"
            ],
            [
             0.7777777777777778,
             "#fb9f3a"
            ],
            [
             0.8888888888888888,
             "#fdca26"
            ],
            [
             1,
             "#f0f921"
            ]
           ]
          },
          "colorway": [
           "#636efa",
           "#EF553B",
           "#00cc96",
           "#ab63fa",
           "#FFA15A",
           "#19d3f3",
           "#FF6692",
           "#B6E880",
           "#FF97FF",
           "#FECB52"
          ],
          "font": {
           "color": "#2a3f5f"
          },
          "geo": {
           "bgcolor": "white",
           "lakecolor": "white",
           "landcolor": "#E5ECF6",
           "showlakes": true,
           "showland": true,
           "subunitcolor": "white"
          },
          "hoverlabel": {
           "align": "left"
          },
          "hovermode": "closest",
          "mapbox": {
           "style": "light"
          },
          "paper_bgcolor": "white",
          "plot_bgcolor": "#E5ECF6",
          "polar": {
           "angularaxis": {
            "gridcolor": "white",
            "linecolor": "white",
            "ticks": ""
           },
           "bgcolor": "#E5ECF6",
           "radialaxis": {
            "gridcolor": "white",
            "linecolor": "white",
            "ticks": ""
           }
          },
          "scene": {
           "xaxis": {
            "backgroundcolor": "#E5ECF6",
            "gridcolor": "white",
            "gridwidth": 2,
            "linecolor": "white",
            "showbackground": true,
            "ticks": "",
            "zerolinecolor": "white"
           },
           "yaxis": {
            "backgroundcolor": "#E5ECF6",
            "gridcolor": "white",
            "gridwidth": 2,
            "linecolor": "white",
            "showbackground": true,
            "ticks": "",
            "zerolinecolor": "white"
           },
           "zaxis": {
            "backgroundcolor": "#E5ECF6",
            "gridcolor": "white",
            "gridwidth": 2,
            "linecolor": "white",
            "showbackground": true,
            "ticks": "",
            "zerolinecolor": "white"
           }
          },
          "shapedefaults": {
           "line": {
            "color": "#2a3f5f"
           }
          },
          "ternary": {
           "aaxis": {
            "gridcolor": "white",
            "linecolor": "white",
            "ticks": ""
           },
           "baxis": {
            "gridcolor": "white",
            "linecolor": "white",
            "ticks": ""
           },
           "bgcolor": "#E5ECF6",
           "caxis": {
            "gridcolor": "white",
            "linecolor": "white",
            "ticks": ""
           }
          },
          "title": {
           "x": 0.05
          },
          "xaxis": {
           "automargin": true,
           "gridcolor": "white",
           "linecolor": "white",
           "ticks": "",
           "title": {
            "standoff": 15
           },
           "zerolinecolor": "white",
           "zerolinewidth": 2
          },
          "yaxis": {
           "automargin": true,
           "gridcolor": "white",
           "linecolor": "white",
           "ticks": "",
           "title": {
            "standoff": 15
           },
           "zerolinecolor": "white",
           "zerolinewidth": 2
          }
         }
        },
        "title": {
         "text": "Temperature vs. Delay"
        },
        "xaxis": {
         "anchor": "y",
         "domain": [
          0,
          1
         ],
         "title": {
          "text": "Temperature °F"
         }
        },
        "yaxis": {
         "anchor": "x",
         "domain": [
          0,
          1
         ],
         "title": {
          "text": "Delayed Flights [%]"
         }
        }
       }
      }
     },
     "metadata": {},
     "output_type": "display_data"
    }
   ],
   "source": [
    "fig = px.scatter(agg_tmax_clean_flight_df, \n",
    "                    x = 'tmax',\n",
    "                    y = 'mean',\n",
    "                    title= 'Temperature vs. Delay'\n",
    "                   )\n",
    "\n",
    "fig.update_xaxes(title_text='Temperature °F')\n",
    "\n",
    "fig.update_yaxes(title_text='Delayed Flights [%]')\n",
    "\n",
    "fig.show()"
   ]
  },
  {
   "cell_type": "markdown",
   "metadata": {},
   "source": [
    "## Comments on the results\n",
    "\n",
    "Temperature affects the percentage of delays up to 40°F, or about 4.4°C, which corresponds to reality, such as the need to de-ice the aircraft, which leads to delays, and the constant maintenance of the runway in conditions for takeoff and landing."
   ]
  }
 ],
 "metadata": {
  "kernelspec": {
   "display_name": "Python 3 (ipykernel)",
   "language": "python",
   "name": "python3"
  },
  "language_info": {
   "codemirror_mode": {
    "name": "ipython",
    "version": 3
   },
   "file_extension": ".py",
   "mimetype": "text/x-python",
   "name": "python",
   "nbconvert_exporter": "python",
   "pygments_lexer": "ipython3",
   "version": "3.11.2"
  },
  "vscode": {
   "interpreter": {
    "hash": "38d75d0df746d7f75dd34c5d1915af59cb55786647bd68b8d9064425d7680b12"
   }
  }
 },
 "nbformat": 4,
 "nbformat_minor": 2
}
