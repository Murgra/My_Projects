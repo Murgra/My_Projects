{
  "cells": [
    {
      "cell_type": "markdown",
      "metadata": {},
      "source": [
        "# Space Mission Analysis"
      ]
    },
    {
      "cell_type": "code",
      "execution_count": 1,
      "metadata": {
        "_cell_guid": "b1076dfc-b9ad-4769-8c92-a6c4dae69d19",
        "_kg_hide-input": true,
        "_kg_hide-output": true,
        "_uuid": "8f2839f25d086af736a60e9eeb907d3b93b6e0e5",
        "colab": {
          "base_uri": "https://localhost:8080/"
        },
        "execution": {
          "iopub.execute_input": "2020-10-20T21:34:02.101551Z",
          "iopub.status.busy": "2020-10-20T21:34:02.101085Z",
          "iopub.status.idle": "2020-10-20T21:34:03.726868Z",
          "shell.execute_reply": "2020-10-20T21:34:03.725783Z"
        },
        "id": "xdolY0-Sa-p1",
        "outputId": "7142dedb-82e9-457d-db44-cea4e121bdfe",
        "papermill": {
          "duration": 1.665326,
          "end_time": "2020-10-20T21:34:03.726995",
          "exception": false,
          "start_time": "2020-10-20T21:34:02.061669",
          "status": "completed"
        },
        "tags": []
      },
      "outputs": [],
      "source": [
        "import numpy as np\n",
        "import pandas as pd\n",
        "import plotly.express as px\n",
        "from iso3166 import countries\n",
        "from dash import Dash, dcc, html, Input, Output"
      ]
    },
    {
      "cell_type": "code",
      "execution_count": 2,
      "metadata": {
        "id": "DHEULCOjxIIm"
      },
      "outputs": [],
      "source": [
        "pd.options.display.float_format = '{:,.2f}'.format"
      ]
    },
    {
      "cell_type": "code",
      "execution_count": 3,
      "metadata": {
        "_cell_guid": "79c7e3d0-c299-4dcb-8224-4455121ee9b0",
        "_kg_hide-input": true,
        "_uuid": "d629ff2d2480ee46fbb7e2d37f6b5fab8052498a",
        "execution": {
          "iopub.execute_input": "2020-10-20T21:34:03.874195Z",
          "iopub.status.busy": "2020-10-20T21:34:03.873775Z",
          "iopub.status.idle": "2020-10-20T21:34:03.921919Z",
          "shell.execute_reply": "2020-10-20T21:34:03.921418Z"
        },
        "id": "0lDOu8aka-p4",
        "papermill": {
          "duration": 0.08876,
          "end_time": "2020-10-20T21:34:03.922028",
          "exception": false,
          "start_time": "2020-10-20T21:34:03.833268",
          "status": "completed"
        },
        "tags": []
      },
      "outputs": [],
      "source": [
        "df = pd.read_csv('mission_launches.csv')"
      ]
    },
    {
      "cell_type": "code",
      "execution_count": 4,
      "metadata": {
        "id": "wWQvnJb0k2Ig"
      },
      "outputs": [],
      "source": [
        "df_clean = df.drop(columns=['Unnamed: 0.1', 'Unnamed: 0'])"
      ]
    },
    {
      "cell_type": "markdown",
      "metadata": {
        "id": "cgCjcpeUkKPW"
      },
      "source": [
        "# Number of Launches per Company"
      ]
    },
    {
      "cell_type": "code",
      "execution_count": 5,
      "metadata": {},
      "outputs": [],
      "source": [
        "df_count_launch = df_clean.groupby('Organisation').count().reset_index()"
      ]
    },
    {
      "cell_type": "code",
      "execution_count": 6,
      "metadata": {
        "id": "rxvcIrtskxYB"
      },
      "outputs": [
        {
          "data": {
            "application/vnd.plotly.v1+json": {
              "config": {
                "plotlyServerURL": "https://plot.ly"
              },
              "data": [
                {
                  "alignmentgroup": "True",
                  "hovertemplate": "Organisation=%{x}<br>Number of Launches=%{text}<extra></extra>",
                  "legendgroup": "",
                  "marker": {
                    "color": "#636efa",
                    "pattern": {
                      "shape": ""
                    }
                  },
                  "name": "",
                  "offsetgroup": "",
                  "orientation": "v",
                  "showlegend": false,
                  "text": [
                    3,
                    8,
                    9,
                    279,
                    4,
                    12,
                    136,
                    251,
                    5,
                    4,
                    8,
                    1,
                    1,
                    13,
                    13,
                    10,
                    4,
                    251,
                    11,
                    46,
                    1,
                    13,
                    30,
                    76,
                    7,
                    3,
                    5,
                    1,
                    22,
                    7,
                    1,
                    79,
                    84,
                    7,
                    114,
                    203,
                    83,
                    2,
                    1,
                    2,
                    1777,
                    13,
                    55,
                    3,
                    1,
                    36,
                    100,
                    1,
                    140,
                    161,
                    17,
                    5,
                    201,
                    1,
                    2,
                    1
                  ],
                  "textposition": "outside",
                  "texttemplate": "%{text}",
                  "type": "bar",
                  "x": [
                    "AEB",
                    "AMBA",
                    "ASI",
                    "Arianespace",
                    "Arm??e de l'Air",
                    "Blue Origin",
                    "Boeing",
                    "CASC",
                    "CASIC",
                    "CECLES",
                    "CNES",
                    "Douglas",
                    "EER",
                    "ESA",
                    "Eurockot",
                    "ExPace",
                    "Exos",
                    "General Dynamics",
                    "IAI",
                    "ILS",
                    "IRGC",
                    "ISA",
                    "ISAS",
                    "ISRO",
                    "JAXA",
                    "KARI",
                    "KCST",
                    "Khrunichev",
                    "Kosmotras",
                    "Land Launch",
                    "Landspace",
                    "Lockheed",
                    "MHI",
                    "MITT",
                    "Martin Marietta",
                    "NASA",
                    "Northrop",
                    "OKB-586",
                    "OneSpace",
                    "RAE",
                    "RVSN USSR",
                    "Rocket Lab",
                    "Roscosmos",
                    "SRC",
                    "Sandia",
                    "Sea Launch",
                    "SpaceX",
                    "Starsem",
                    "ULA",
                    "US Air Force",
                    "US Navy",
                    "UT",
                    "VKS RF",
                    "Virgin Orbit",
                    "Yuzhmash",
                    "i-Space"
                  ],
                  "xaxis": "x",
                  "y": [
                    3,
                    8,
                    9,
                    279,
                    4,
                    12,
                    136,
                    251,
                    5,
                    4,
                    8,
                    1,
                    1,
                    13,
                    13,
                    10,
                    4,
                    251,
                    11,
                    46,
                    1,
                    13,
                    30,
                    76,
                    7,
                    3,
                    5,
                    1,
                    22,
                    7,
                    1,
                    79,
                    84,
                    7,
                    114,
                    203,
                    83,
                    2,
                    1,
                    2,
                    1777,
                    13,
                    55,
                    3,
                    1,
                    36,
                    100,
                    1,
                    140,
                    161,
                    17,
                    5,
                    201,
                    1,
                    2,
                    1
                  ],
                  "yaxis": "y"
                }
              ],
              "layout": {
                "barmode": "relative",
                "legend": {
                  "tracegroupgap": 0
                },
                "template": {
                  "data": {
                    "bar": [
                      {
                        "error_x": {
                          "color": "#2a3f5f"
                        },
                        "error_y": {
                          "color": "#2a3f5f"
                        },
                        "marker": {
                          "line": {
                            "color": "#E5ECF6",
                            "width": 0.5
                          },
                          "pattern": {
                            "fillmode": "overlay",
                            "size": 10,
                            "solidity": 0.2
                          }
                        },
                        "type": "bar"
                      }
                    ],
                    "barpolar": [
                      {
                        "marker": {
                          "line": {
                            "color": "#E5ECF6",
                            "width": 0.5
                          },
                          "pattern": {
                            "fillmode": "overlay",
                            "size": 10,
                            "solidity": 0.2
                          }
                        },
                        "type": "barpolar"
                      }
                    ],
                    "carpet": [
                      {
                        "aaxis": {
                          "endlinecolor": "#2a3f5f",
                          "gridcolor": "white",
                          "linecolor": "white",
                          "minorgridcolor": "white",
                          "startlinecolor": "#2a3f5f"
                        },
                        "baxis": {
                          "endlinecolor": "#2a3f5f",
                          "gridcolor": "white",
                          "linecolor": "white",
                          "minorgridcolor": "white",
                          "startlinecolor": "#2a3f5f"
                        },
                        "type": "carpet"
                      }
                    ],
                    "choropleth": [
                      {
                        "colorbar": {
                          "outlinewidth": 0,
                          "ticks": ""
                        },
                        "type": "choropleth"
                      }
                    ],
                    "contour": [
                      {
                        "colorbar": {
                          "outlinewidth": 0,
                          "ticks": ""
                        },
                        "colorscale": [
                          [
                            0,
                            "#0d0887"
                          ],
                          [
                            0.1111111111111111,
                            "#46039f"
                          ],
                          [
                            0.2222222222222222,
                            "#7201a8"
                          ],
                          [
                            0.3333333333333333,
                            "#9c179e"
                          ],
                          [
                            0.4444444444444444,
                            "#bd3786"
                          ],
                          [
                            0.5555555555555556,
                            "#d8576b"
                          ],
                          [
                            0.6666666666666666,
                            "#ed7953"
                          ],
                          [
                            0.7777777777777778,
                            "#fb9f3a"
                          ],
                          [
                            0.8888888888888888,
                            "#fdca26"
                          ],
                          [
                            1,
                            "#f0f921"
                          ]
                        ],
                        "type": "contour"
                      }
                    ],
                    "contourcarpet": [
                      {
                        "colorbar": {
                          "outlinewidth": 0,
                          "ticks": ""
                        },
                        "type": "contourcarpet"
                      }
                    ],
                    "heatmap": [
                      {
                        "colorbar": {
                          "outlinewidth": 0,
                          "ticks": ""
                        },
                        "colorscale": [
                          [
                            0,
                            "#0d0887"
                          ],
                          [
                            0.1111111111111111,
                            "#46039f"
                          ],
                          [
                            0.2222222222222222,
                            "#7201a8"
                          ],
                          [
                            0.3333333333333333,
                            "#9c179e"
                          ],
                          [
                            0.4444444444444444,
                            "#bd3786"
                          ],
                          [
                            0.5555555555555556,
                            "#d8576b"
                          ],
                          [
                            0.6666666666666666,
                            "#ed7953"
                          ],
                          [
                            0.7777777777777778,
                            "#fb9f3a"
                          ],
                          [
                            0.8888888888888888,
                            "#fdca26"
                          ],
                          [
                            1,
                            "#f0f921"
                          ]
                        ],
                        "type": "heatmap"
                      }
                    ],
                    "heatmapgl": [
                      {
                        "colorbar": {
                          "outlinewidth": 0,
                          "ticks": ""
                        },
                        "colorscale": [
                          [
                            0,
                            "#0d0887"
                          ],
                          [
                            0.1111111111111111,
                            "#46039f"
                          ],
                          [
                            0.2222222222222222,
                            "#7201a8"
                          ],
                          [
                            0.3333333333333333,
                            "#9c179e"
                          ],
                          [
                            0.4444444444444444,
                            "#bd3786"
                          ],
                          [
                            0.5555555555555556,
                            "#d8576b"
                          ],
                          [
                            0.6666666666666666,
                            "#ed7953"
                          ],
                          [
                            0.7777777777777778,
                            "#fb9f3a"
                          ],
                          [
                            0.8888888888888888,
                            "#fdca26"
                          ],
                          [
                            1,
                            "#f0f921"
                          ]
                        ],
                        "type": "heatmapgl"
                      }
                    ],
                    "histogram": [
                      {
                        "marker": {
                          "pattern": {
                            "fillmode": "overlay",
                            "size": 10,
                            "solidity": 0.2
                          }
                        },
                        "type": "histogram"
                      }
                    ],
                    "histogram2d": [
                      {
                        "colorbar": {
                          "outlinewidth": 0,
                          "ticks": ""
                        },
                        "colorscale": [
                          [
                            0,
                            "#0d0887"
                          ],
                          [
                            0.1111111111111111,
                            "#46039f"
                          ],
                          [
                            0.2222222222222222,
                            "#7201a8"
                          ],
                          [
                            0.3333333333333333,
                            "#9c179e"
                          ],
                          [
                            0.4444444444444444,
                            "#bd3786"
                          ],
                          [
                            0.5555555555555556,
                            "#d8576b"
                          ],
                          [
                            0.6666666666666666,
                            "#ed7953"
                          ],
                          [
                            0.7777777777777778,
                            "#fb9f3a"
                          ],
                          [
                            0.8888888888888888,
                            "#fdca26"
                          ],
                          [
                            1,
                            "#f0f921"
                          ]
                        ],
                        "type": "histogram2d"
                      }
                    ],
                    "histogram2dcontour": [
                      {
                        "colorbar": {
                          "outlinewidth": 0,
                          "ticks": ""
                        },
                        "colorscale": [
                          [
                            0,
                            "#0d0887"
                          ],
                          [
                            0.1111111111111111,
                            "#46039f"
                          ],
                          [
                            0.2222222222222222,
                            "#7201a8"
                          ],
                          [
                            0.3333333333333333,
                            "#9c179e"
                          ],
                          [
                            0.4444444444444444,
                            "#bd3786"
                          ],
                          [
                            0.5555555555555556,
                            "#d8576b"
                          ],
                          [
                            0.6666666666666666,
                            "#ed7953"
                          ],
                          [
                            0.7777777777777778,
                            "#fb9f3a"
                          ],
                          [
                            0.8888888888888888,
                            "#fdca26"
                          ],
                          [
                            1,
                            "#f0f921"
                          ]
                        ],
                        "type": "histogram2dcontour"
                      }
                    ],
                    "mesh3d": [
                      {
                        "colorbar": {
                          "outlinewidth": 0,
                          "ticks": ""
                        },
                        "type": "mesh3d"
                      }
                    ],
                    "parcoords": [
                      {
                        "line": {
                          "colorbar": {
                            "outlinewidth": 0,
                            "ticks": ""
                          }
                        },
                        "type": "parcoords"
                      }
                    ],
                    "pie": [
                      {
                        "automargin": true,
                        "type": "pie"
                      }
                    ],
                    "scatter": [
                      {
                        "fillpattern": {
                          "fillmode": "overlay",
                          "size": 10,
                          "solidity": 0.2
                        },
                        "type": "scatter"
                      }
                    ],
                    "scatter3d": [
                      {
                        "line": {
                          "colorbar": {
                            "outlinewidth": 0,
                            "ticks": ""
                          }
                        },
                        "marker": {
                          "colorbar": {
                            "outlinewidth": 0,
                            "ticks": ""
                          }
                        },
                        "type": "scatter3d"
                      }
                    ],
                    "scattercarpet": [
                      {
                        "marker": {
                          "colorbar": {
                            "outlinewidth": 0,
                            "ticks": ""
                          }
                        },
                        "type": "scattercarpet"
                      }
                    ],
                    "scattergeo": [
                      {
                        "marker": {
                          "colorbar": {
                            "outlinewidth": 0,
                            "ticks": ""
                          }
                        },
                        "type": "scattergeo"
                      }
                    ],
                    "scattergl": [
                      {
                        "marker": {
                          "colorbar": {
                            "outlinewidth": 0,
                            "ticks": ""
                          }
                        },
                        "type": "scattergl"
                      }
                    ],
                    "scattermapbox": [
                      {
                        "marker": {
                          "colorbar": {
                            "outlinewidth": 0,
                            "ticks": ""
                          }
                        },
                        "type": "scattermapbox"
                      }
                    ],
                    "scatterpolar": [
                      {
                        "marker": {
                          "colorbar": {
                            "outlinewidth": 0,
                            "ticks": ""
                          }
                        },
                        "type": "scatterpolar"
                      }
                    ],
                    "scatterpolargl": [
                      {
                        "marker": {
                          "colorbar": {
                            "outlinewidth": 0,
                            "ticks": ""
                          }
                        },
                        "type": "scatterpolargl"
                      }
                    ],
                    "scatterternary": [
                      {
                        "marker": {
                          "colorbar": {
                            "outlinewidth": 0,
                            "ticks": ""
                          }
                        },
                        "type": "scatterternary"
                      }
                    ],
                    "surface": [
                      {
                        "colorbar": {
                          "outlinewidth": 0,
                          "ticks": ""
                        },
                        "colorscale": [
                          [
                            0,
                            "#0d0887"
                          ],
                          [
                            0.1111111111111111,
                            "#46039f"
                          ],
                          [
                            0.2222222222222222,
                            "#7201a8"
                          ],
                          [
                            0.3333333333333333,
                            "#9c179e"
                          ],
                          [
                            0.4444444444444444,
                            "#bd3786"
                          ],
                          [
                            0.5555555555555556,
                            "#d8576b"
                          ],
                          [
                            0.6666666666666666,
                            "#ed7953"
                          ],
                          [
                            0.7777777777777778,
                            "#fb9f3a"
                          ],
                          [
                            0.8888888888888888,
                            "#fdca26"
                          ],
                          [
                            1,
                            "#f0f921"
                          ]
                        ],
                        "type": "surface"
                      }
                    ],
                    "table": [
                      {
                        "cells": {
                          "fill": {
                            "color": "#EBF0F8"
                          },
                          "line": {
                            "color": "white"
                          }
                        },
                        "header": {
                          "fill": {
                            "color": "#C8D4E3"
                          },
                          "line": {
                            "color": "white"
                          }
                        },
                        "type": "table"
                      }
                    ]
                  },
                  "layout": {
                    "annotationdefaults": {
                      "arrowcolor": "#2a3f5f",
                      "arrowhead": 0,
                      "arrowwidth": 1
                    },
                    "autotypenumbers": "strict",
                    "coloraxis": {
                      "colorbar": {
                        "outlinewidth": 0,
                        "ticks": ""
                      }
                    },
                    "colorscale": {
                      "diverging": [
                        [
                          0,
                          "#8e0152"
                        ],
                        [
                          0.1,
                          "#c51b7d"
                        ],
                        [
                          0.2,
                          "#de77ae"
                        ],
                        [
                          0.3,
                          "#f1b6da"
                        ],
                        [
                          0.4,
                          "#fde0ef"
                        ],
                        [
                          0.5,
                          "#f7f7f7"
                        ],
                        [
                          0.6,
                          "#e6f5d0"
                        ],
                        [
                          0.7,
                          "#b8e186"
                        ],
                        [
                          0.8,
                          "#7fbc41"
                        ],
                        [
                          0.9,
                          "#4d9221"
                        ],
                        [
                          1,
                          "#276419"
                        ]
                      ],
                      "sequential": [
                        [
                          0,
                          "#0d0887"
                        ],
                        [
                          0.1111111111111111,
                          "#46039f"
                        ],
                        [
                          0.2222222222222222,
                          "#7201a8"
                        ],
                        [
                          0.3333333333333333,
                          "#9c179e"
                        ],
                        [
                          0.4444444444444444,
                          "#bd3786"
                        ],
                        [
                          0.5555555555555556,
                          "#d8576b"
                        ],
                        [
                          0.6666666666666666,
                          "#ed7953"
                        ],
                        [
                          0.7777777777777778,
                          "#fb9f3a"
                        ],
                        [
                          0.8888888888888888,
                          "#fdca26"
                        ],
                        [
                          1,
                          "#f0f921"
                        ]
                      ],
                      "sequentialminus": [
                        [
                          0,
                          "#0d0887"
                        ],
                        [
                          0.1111111111111111,
                          "#46039f"
                        ],
                        [
                          0.2222222222222222,
                          "#7201a8"
                        ],
                        [
                          0.3333333333333333,
                          "#9c179e"
                        ],
                        [
                          0.4444444444444444,
                          "#bd3786"
                        ],
                        [
                          0.5555555555555556,
                          "#d8576b"
                        ],
                        [
                          0.6666666666666666,
                          "#ed7953"
                        ],
                        [
                          0.7777777777777778,
                          "#fb9f3a"
                        ],
                        [
                          0.8888888888888888,
                          "#fdca26"
                        ],
                        [
                          1,
                          "#f0f921"
                        ]
                      ]
                    },
                    "colorway": [
                      "#636efa",
                      "#EF553B",
                      "#00cc96",
                      "#ab63fa",
                      "#FFA15A",
                      "#19d3f3",
                      "#FF6692",
                      "#B6E880",
                      "#FF97FF",
                      "#FECB52"
                    ],
                    "font": {
                      "color": "#2a3f5f"
                    },
                    "geo": {
                      "bgcolor": "white",
                      "lakecolor": "white",
                      "landcolor": "#E5ECF6",
                      "showlakes": true,
                      "showland": true,
                      "subunitcolor": "white"
                    },
                    "hoverlabel": {
                      "align": "left"
                    },
                    "hovermode": "closest",
                    "mapbox": {
                      "style": "light"
                    },
                    "paper_bgcolor": "white",
                    "plot_bgcolor": "#E5ECF6",
                    "polar": {
                      "angularaxis": {
                        "gridcolor": "white",
                        "linecolor": "white",
                        "ticks": ""
                      },
                      "bgcolor": "#E5ECF6",
                      "radialaxis": {
                        "gridcolor": "white",
                        "linecolor": "white",
                        "ticks": ""
                      }
                    },
                    "scene": {
                      "xaxis": {
                        "backgroundcolor": "#E5ECF6",
                        "gridcolor": "white",
                        "gridwidth": 2,
                        "linecolor": "white",
                        "showbackground": true,
                        "ticks": "",
                        "zerolinecolor": "white"
                      },
                      "yaxis": {
                        "backgroundcolor": "#E5ECF6",
                        "gridcolor": "white",
                        "gridwidth": 2,
                        "linecolor": "white",
                        "showbackground": true,
                        "ticks": "",
                        "zerolinecolor": "white"
                      },
                      "zaxis": {
                        "backgroundcolor": "#E5ECF6",
                        "gridcolor": "white",
                        "gridwidth": 2,
                        "linecolor": "white",
                        "showbackground": true,
                        "ticks": "",
                        "zerolinecolor": "white"
                      }
                    },
                    "shapedefaults": {
                      "line": {
                        "color": "#2a3f5f"
                      }
                    },
                    "ternary": {
                      "aaxis": {
                        "gridcolor": "white",
                        "linecolor": "white",
                        "ticks": ""
                      },
                      "baxis": {
                        "gridcolor": "white",
                        "linecolor": "white",
                        "ticks": ""
                      },
                      "bgcolor": "#E5ECF6",
                      "caxis": {
                        "gridcolor": "white",
                        "linecolor": "white",
                        "ticks": ""
                      }
                    },
                    "title": {
                      "x": 0.05
                    },
                    "xaxis": {
                      "automargin": true,
                      "gridcolor": "white",
                      "linecolor": "white",
                      "ticks": "",
                      "title": {
                        "standoff": 15
                      },
                      "zerolinecolor": "white",
                      "zerolinewidth": 2
                    },
                    "yaxis": {
                      "automargin": true,
                      "gridcolor": "white",
                      "linecolor": "white",
                      "ticks": "",
                      "title": {
                        "standoff": 15
                      },
                      "zerolinecolor": "white",
                      "zerolinewidth": 2
                    }
                  }
                },
                "title": {
                  "text": "Number of Launch Per Company"
                },
                "xaxis": {
                  "anchor": "y",
                  "categoryorder": "total descending",
                  "domain": [
                    0,
                    1
                  ],
                  "title": {
                    "text": "Organisation"
                  }
                },
                "yaxis": {
                  "anchor": "x",
                  "domain": [
                    0,
                    1
                  ],
                  "title": {
                    "text": "Number of Launches"
                  }
                }
              }
            }
          },
          "metadata": {},
          "output_type": "display_data"
        }
      ],
      "source": [
        "fig_launch = px.bar(\n",
        "    data_frame=df_count_launch,\n",
        "    x = 'Organisation',\n",
        "    y= 'Location',\n",
        "    labels={'Location': 'Number of Launches'},\n",
        "    text = 'Location',\n",
        "    title='Number of Launch Per Company'\n",
        ")\n",
        "fig_launch.update_layout(xaxis={'categoryorder':'total descending'})\n",
        "fig_launch.update_traces(texttemplate='%{text}', textposition='outside')\n",
        "\n",
        "fig_launch.show()"
      ]
    },
    {
      "cell_type": "markdown",
      "metadata": {
        "id": "7Gwteht2kR_h"
      },
      "source": [
        "# Number of Active versus Retired Rockets"
      ]
    },
    {
      "cell_type": "code",
      "execution_count": 7,
      "metadata": {},
      "outputs": [],
      "source": [
        "df_clean['Rocket_Status'] = np.where(df_clean['Rocket_Status'] == 'StatusActive', 'Active', 'Retired')"
      ]
    },
    {
      "cell_type": "code",
      "execution_count": 8,
      "metadata": {},
      "outputs": [],
      "source": [
        "df_active = df_clean.groupby(['Organisation', 'Rocket_Status']).size().reset_index(name='Number')"
      ]
    },
    {
      "cell_type": "code",
      "execution_count": 9,
      "metadata": {},
      "outputs": [
        {
          "data": {
            "application/vnd.plotly.v1+json": {
              "config": {
                "plotlyServerURL": "https://plot.ly"
              },
              "data": [
                {
                  "alignmentgroup": "True",
                  "hovertemplate": "Status=Active<br>Organisation Name=%{x}<br>Number of rockets=%{text}<extra></extra>",
                  "legendgroup": "Active",
                  "marker": {
                    "color": "#636efa",
                    "pattern": {
                      "shape": ""
                    }
                  },
                  "name": "Active",
                  "offsetgroup": "Active",
                  "orientation": "v",
                  "showlegend": true,
                  "text": [
                    3,
                    114,
                    12,
                    1,
                    211,
                    1,
                    1,
                    10,
                    4,
                    5,
                    13,
                    1,
                    9,
                    50,
                    6,
                    3,
                    1,
                    7,
                    32,
                    6,
                    63,
                    1,
                    13,
                    32,
                    1,
                    36,
                    38,
                    87,
                    27,
                    1,
                    1
                  ],
                  "textposition": "outside",
                  "texttemplate": "%{text}",
                  "type": "bar",
                  "x": [
                    "AEB",
                    "Arianespace",
                    "Blue Origin",
                    "Boeing",
                    "CASC",
                    "CASIC",
                    "ESA",
                    "ExPace",
                    "Exos",
                    "IAI",
                    "ILS",
                    "IRGC",
                    "ISA",
                    "ISRO",
                    "JAXA",
                    "KCST",
                    "Khrunichev",
                    "Land Launch",
                    "MHI",
                    "MITT",
                    "Northrop",
                    "OneSpace",
                    "Rocket Lab",
                    "Roscosmos",
                    "Sandia",
                    "Sea Launch",
                    "SpaceX",
                    "ULA",
                    "VKS RF",
                    "Virgin Orbit",
                    "i-Space"
                  ],
                  "xaxis": "x",
                  "y": [
                    3,
                    114,
                    12,
                    1,
                    211,
                    1,
                    1,
                    10,
                    4,
                    5,
                    13,
                    1,
                    9,
                    50,
                    6,
                    3,
                    1,
                    7,
                    32,
                    6,
                    63,
                    1,
                    13,
                    32,
                    1,
                    36,
                    38,
                    87,
                    27,
                    1,
                    1
                  ],
                  "yaxis": "y"
                },
                {
                  "alignmentgroup": "True",
                  "hovertemplate": "Status=Retired<br>Organisation Name=%{x}<br>Number of rockets=%{text}<extra></extra>",
                  "legendgroup": "Retired",
                  "marker": {
                    "color": "#EF553B",
                    "pattern": {
                      "shape": ""
                    }
                  },
                  "name": "Retired",
                  "offsetgroup": "Retired",
                  "orientation": "v",
                  "showlegend": true,
                  "text": [
                    8,
                    9,
                    165,
                    4,
                    135,
                    40,
                    4,
                    4,
                    8,
                    1,
                    1,
                    12,
                    13,
                    251,
                    6,
                    33,
                    4,
                    30,
                    26,
                    1,
                    3,
                    2,
                    22,
                    1,
                    79,
                    52,
                    1,
                    114,
                    203,
                    20,
                    2,
                    2,
                    1777,
                    23,
                    3,
                    62,
                    1,
                    53,
                    161,
                    17,
                    5,
                    174,
                    2
                  ],
                  "textposition": "outside",
                  "texttemplate": "%{text}",
                  "type": "bar",
                  "x": [
                    "AMBA",
                    "ASI",
                    "Arianespace",
                    "Arm??e de l'Air",
                    "Boeing",
                    "CASC",
                    "CASIC",
                    "CECLES",
                    "CNES",
                    "Douglas",
                    "EER",
                    "ESA",
                    "Eurockot",
                    "General Dynamics",
                    "IAI",
                    "ILS",
                    "ISA",
                    "ISAS",
                    "ISRO",
                    "JAXA",
                    "KARI",
                    "KCST",
                    "Kosmotras",
                    "Landspace",
                    "Lockheed",
                    "MHI",
                    "MITT",
                    "Martin Marietta",
                    "NASA",
                    "Northrop",
                    "OKB-586",
                    "RAE",
                    "RVSN USSR",
                    "Roscosmos",
                    "SRC",
                    "SpaceX",
                    "Starsem",
                    "ULA",
                    "US Air Force",
                    "US Navy",
                    "UT",
                    "VKS RF",
                    "Yuzhmash"
                  ],
                  "xaxis": "x",
                  "y": [
                    8,
                    9,
                    165,
                    4,
                    135,
                    40,
                    4,
                    4,
                    8,
                    1,
                    1,
                    12,
                    13,
                    251,
                    6,
                    33,
                    4,
                    30,
                    26,
                    1,
                    3,
                    2,
                    22,
                    1,
                    79,
                    52,
                    1,
                    114,
                    203,
                    20,
                    2,
                    2,
                    1777,
                    23,
                    3,
                    62,
                    1,
                    53,
                    161,
                    17,
                    5,
                    174,
                    2
                  ],
                  "yaxis": "y"
                }
              ],
              "layout": {
                "barmode": "group",
                "legend": {
                  "title": {
                    "text": "Status"
                  },
                  "tracegroupgap": 0
                },
                "template": {
                  "data": {
                    "bar": [
                      {
                        "error_x": {
                          "color": "#2a3f5f"
                        },
                        "error_y": {
                          "color": "#2a3f5f"
                        },
                        "marker": {
                          "line": {
                            "color": "#E5ECF6",
                            "width": 0.5
                          },
                          "pattern": {
                            "fillmode": "overlay",
                            "size": 10,
                            "solidity": 0.2
                          }
                        },
                        "type": "bar"
                      }
                    ],
                    "barpolar": [
                      {
                        "marker": {
                          "line": {
                            "color": "#E5ECF6",
                            "width": 0.5
                          },
                          "pattern": {
                            "fillmode": "overlay",
                            "size": 10,
                            "solidity": 0.2
                          }
                        },
                        "type": "barpolar"
                      }
                    ],
                    "carpet": [
                      {
                        "aaxis": {
                          "endlinecolor": "#2a3f5f",
                          "gridcolor": "white",
                          "linecolor": "white",
                          "minorgridcolor": "white",
                          "startlinecolor": "#2a3f5f"
                        },
                        "baxis": {
                          "endlinecolor": "#2a3f5f",
                          "gridcolor": "white",
                          "linecolor": "white",
                          "minorgridcolor": "white",
                          "startlinecolor": "#2a3f5f"
                        },
                        "type": "carpet"
                      }
                    ],
                    "choropleth": [
                      {
                        "colorbar": {
                          "outlinewidth": 0,
                          "ticks": ""
                        },
                        "type": "choropleth"
                      }
                    ],
                    "contour": [
                      {
                        "colorbar": {
                          "outlinewidth": 0,
                          "ticks": ""
                        },
                        "colorscale": [
                          [
                            0,
                            "#0d0887"
                          ],
                          [
                            0.1111111111111111,
                            "#46039f"
                          ],
                          [
                            0.2222222222222222,
                            "#7201a8"
                          ],
                          [
                            0.3333333333333333,
                            "#9c179e"
                          ],
                          [
                            0.4444444444444444,
                            "#bd3786"
                          ],
                          [
                            0.5555555555555556,
                            "#d8576b"
                          ],
                          [
                            0.6666666666666666,
                            "#ed7953"
                          ],
                          [
                            0.7777777777777778,
                            "#fb9f3a"
                          ],
                          [
                            0.8888888888888888,
                            "#fdca26"
                          ],
                          [
                            1,
                            "#f0f921"
                          ]
                        ],
                        "type": "contour"
                      }
                    ],
                    "contourcarpet": [
                      {
                        "colorbar": {
                          "outlinewidth": 0,
                          "ticks": ""
                        },
                        "type": "contourcarpet"
                      }
                    ],
                    "heatmap": [
                      {
                        "colorbar": {
                          "outlinewidth": 0,
                          "ticks": ""
                        },
                        "colorscale": [
                          [
                            0,
                            "#0d0887"
                          ],
                          [
                            0.1111111111111111,
                            "#46039f"
                          ],
                          [
                            0.2222222222222222,
                            "#7201a8"
                          ],
                          [
                            0.3333333333333333,
                            "#9c179e"
                          ],
                          [
                            0.4444444444444444,
                            "#bd3786"
                          ],
                          [
                            0.5555555555555556,
                            "#d8576b"
                          ],
                          [
                            0.6666666666666666,
                            "#ed7953"
                          ],
                          [
                            0.7777777777777778,
                            "#fb9f3a"
                          ],
                          [
                            0.8888888888888888,
                            "#fdca26"
                          ],
                          [
                            1,
                            "#f0f921"
                          ]
                        ],
                        "type": "heatmap"
                      }
                    ],
                    "heatmapgl": [
                      {
                        "colorbar": {
                          "outlinewidth": 0,
                          "ticks": ""
                        },
                        "colorscale": [
                          [
                            0,
                            "#0d0887"
                          ],
                          [
                            0.1111111111111111,
                            "#46039f"
                          ],
                          [
                            0.2222222222222222,
                            "#7201a8"
                          ],
                          [
                            0.3333333333333333,
                            "#9c179e"
                          ],
                          [
                            0.4444444444444444,
                            "#bd3786"
                          ],
                          [
                            0.5555555555555556,
                            "#d8576b"
                          ],
                          [
                            0.6666666666666666,
                            "#ed7953"
                          ],
                          [
                            0.7777777777777778,
                            "#fb9f3a"
                          ],
                          [
                            0.8888888888888888,
                            "#fdca26"
                          ],
                          [
                            1,
                            "#f0f921"
                          ]
                        ],
                        "type": "heatmapgl"
                      }
                    ],
                    "histogram": [
                      {
                        "marker": {
                          "pattern": {
                            "fillmode": "overlay",
                            "size": 10,
                            "solidity": 0.2
                          }
                        },
                        "type": "histogram"
                      }
                    ],
                    "histogram2d": [
                      {
                        "colorbar": {
                          "outlinewidth": 0,
                          "ticks": ""
                        },
                        "colorscale": [
                          [
                            0,
                            "#0d0887"
                          ],
                          [
                            0.1111111111111111,
                            "#46039f"
                          ],
                          [
                            0.2222222222222222,
                            "#7201a8"
                          ],
                          [
                            0.3333333333333333,
                            "#9c179e"
                          ],
                          [
                            0.4444444444444444,
                            "#bd3786"
                          ],
                          [
                            0.5555555555555556,
                            "#d8576b"
                          ],
                          [
                            0.6666666666666666,
                            "#ed7953"
                          ],
                          [
                            0.7777777777777778,
                            "#fb9f3a"
                          ],
                          [
                            0.8888888888888888,
                            "#fdca26"
                          ],
                          [
                            1,
                            "#f0f921"
                          ]
                        ],
                        "type": "histogram2d"
                      }
                    ],
                    "histogram2dcontour": [
                      {
                        "colorbar": {
                          "outlinewidth": 0,
                          "ticks": ""
                        },
                        "colorscale": [
                          [
                            0,
                            "#0d0887"
                          ],
                          [
                            0.1111111111111111,
                            "#46039f"
                          ],
                          [
                            0.2222222222222222,
                            "#7201a8"
                          ],
                          [
                            0.3333333333333333,
                            "#9c179e"
                          ],
                          [
                            0.4444444444444444,
                            "#bd3786"
                          ],
                          [
                            0.5555555555555556,
                            "#d8576b"
                          ],
                          [
                            0.6666666666666666,
                            "#ed7953"
                          ],
                          [
                            0.7777777777777778,
                            "#fb9f3a"
                          ],
                          [
                            0.8888888888888888,
                            "#fdca26"
                          ],
                          [
                            1,
                            "#f0f921"
                          ]
                        ],
                        "type": "histogram2dcontour"
                      }
                    ],
                    "mesh3d": [
                      {
                        "colorbar": {
                          "outlinewidth": 0,
                          "ticks": ""
                        },
                        "type": "mesh3d"
                      }
                    ],
                    "parcoords": [
                      {
                        "line": {
                          "colorbar": {
                            "outlinewidth": 0,
                            "ticks": ""
                          }
                        },
                        "type": "parcoords"
                      }
                    ],
                    "pie": [
                      {
                        "automargin": true,
                        "type": "pie"
                      }
                    ],
                    "scatter": [
                      {
                        "fillpattern": {
                          "fillmode": "overlay",
                          "size": 10,
                          "solidity": 0.2
                        },
                        "type": "scatter"
                      }
                    ],
                    "scatter3d": [
                      {
                        "line": {
                          "colorbar": {
                            "outlinewidth": 0,
                            "ticks": ""
                          }
                        },
                        "marker": {
                          "colorbar": {
                            "outlinewidth": 0,
                            "ticks": ""
                          }
                        },
                        "type": "scatter3d"
                      }
                    ],
                    "scattercarpet": [
                      {
                        "marker": {
                          "colorbar": {
                            "outlinewidth": 0,
                            "ticks": ""
                          }
                        },
                        "type": "scattercarpet"
                      }
                    ],
                    "scattergeo": [
                      {
                        "marker": {
                          "colorbar": {
                            "outlinewidth": 0,
                            "ticks": ""
                          }
                        },
                        "type": "scattergeo"
                      }
                    ],
                    "scattergl": [
                      {
                        "marker": {
                          "colorbar": {
                            "outlinewidth": 0,
                            "ticks": ""
                          }
                        },
                        "type": "scattergl"
                      }
                    ],
                    "scattermapbox": [
                      {
                        "marker": {
                          "colorbar": {
                            "outlinewidth": 0,
                            "ticks": ""
                          }
                        },
                        "type": "scattermapbox"
                      }
                    ],
                    "scatterpolar": [
                      {
                        "marker": {
                          "colorbar": {
                            "outlinewidth": 0,
                            "ticks": ""
                          }
                        },
                        "type": "scatterpolar"
                      }
                    ],
                    "scatterpolargl": [
                      {
                        "marker": {
                          "colorbar": {
                            "outlinewidth": 0,
                            "ticks": ""
                          }
                        },
                        "type": "scatterpolargl"
                      }
                    ],
                    "scatterternary": [
                      {
                        "marker": {
                          "colorbar": {
                            "outlinewidth": 0,
                            "ticks": ""
                          }
                        },
                        "type": "scatterternary"
                      }
                    ],
                    "surface": [
                      {
                        "colorbar": {
                          "outlinewidth": 0,
                          "ticks": ""
                        },
                        "colorscale": [
                          [
                            0,
                            "#0d0887"
                          ],
                          [
                            0.1111111111111111,
                            "#46039f"
                          ],
                          [
                            0.2222222222222222,
                            "#7201a8"
                          ],
                          [
                            0.3333333333333333,
                            "#9c179e"
                          ],
                          [
                            0.4444444444444444,
                            "#bd3786"
                          ],
                          [
                            0.5555555555555556,
                            "#d8576b"
                          ],
                          [
                            0.6666666666666666,
                            "#ed7953"
                          ],
                          [
                            0.7777777777777778,
                            "#fb9f3a"
                          ],
                          [
                            0.8888888888888888,
                            "#fdca26"
                          ],
                          [
                            1,
                            "#f0f921"
                          ]
                        ],
                        "type": "surface"
                      }
                    ],
                    "table": [
                      {
                        "cells": {
                          "fill": {
                            "color": "#EBF0F8"
                          },
                          "line": {
                            "color": "white"
                          }
                        },
                        "header": {
                          "fill": {
                            "color": "#C8D4E3"
                          },
                          "line": {
                            "color": "white"
                          }
                        },
                        "type": "table"
                      }
                    ]
                  },
                  "layout": {
                    "annotationdefaults": {
                      "arrowcolor": "#2a3f5f",
                      "arrowhead": 0,
                      "arrowwidth": 1
                    },
                    "autotypenumbers": "strict",
                    "coloraxis": {
                      "colorbar": {
                        "outlinewidth": 0,
                        "ticks": ""
                      }
                    },
                    "colorscale": {
                      "diverging": [
                        [
                          0,
                          "#8e0152"
                        ],
                        [
                          0.1,
                          "#c51b7d"
                        ],
                        [
                          0.2,
                          "#de77ae"
                        ],
                        [
                          0.3,
                          "#f1b6da"
                        ],
                        [
                          0.4,
                          "#fde0ef"
                        ],
                        [
                          0.5,
                          "#f7f7f7"
                        ],
                        [
                          0.6,
                          "#e6f5d0"
                        ],
                        [
                          0.7,
                          "#b8e186"
                        ],
                        [
                          0.8,
                          "#7fbc41"
                        ],
                        [
                          0.9,
                          "#4d9221"
                        ],
                        [
                          1,
                          "#276419"
                        ]
                      ],
                      "sequential": [
                        [
                          0,
                          "#0d0887"
                        ],
                        [
                          0.1111111111111111,
                          "#46039f"
                        ],
                        [
                          0.2222222222222222,
                          "#7201a8"
                        ],
                        [
                          0.3333333333333333,
                          "#9c179e"
                        ],
                        [
                          0.4444444444444444,
                          "#bd3786"
                        ],
                        [
                          0.5555555555555556,
                          "#d8576b"
                        ],
                        [
                          0.6666666666666666,
                          "#ed7953"
                        ],
                        [
                          0.7777777777777778,
                          "#fb9f3a"
                        ],
                        [
                          0.8888888888888888,
                          "#fdca26"
                        ],
                        [
                          1,
                          "#f0f921"
                        ]
                      ],
                      "sequentialminus": [
                        [
                          0,
                          "#0d0887"
                        ],
                        [
                          0.1111111111111111,
                          "#46039f"
                        ],
                        [
                          0.2222222222222222,
                          "#7201a8"
                        ],
                        [
                          0.3333333333333333,
                          "#9c179e"
                        ],
                        [
                          0.4444444444444444,
                          "#bd3786"
                        ],
                        [
                          0.5555555555555556,
                          "#d8576b"
                        ],
                        [
                          0.6666666666666666,
                          "#ed7953"
                        ],
                        [
                          0.7777777777777778,
                          "#fb9f3a"
                        ],
                        [
                          0.8888888888888888,
                          "#fdca26"
                        ],
                        [
                          1,
                          "#f0f921"
                        ]
                      ]
                    },
                    "colorway": [
                      "#636efa",
                      "#EF553B",
                      "#00cc96",
                      "#ab63fa",
                      "#FFA15A",
                      "#19d3f3",
                      "#FF6692",
                      "#B6E880",
                      "#FF97FF",
                      "#FECB52"
                    ],
                    "font": {
                      "color": "#2a3f5f"
                    },
                    "geo": {
                      "bgcolor": "white",
                      "lakecolor": "white",
                      "landcolor": "#E5ECF6",
                      "showlakes": true,
                      "showland": true,
                      "subunitcolor": "white"
                    },
                    "hoverlabel": {
                      "align": "left"
                    },
                    "hovermode": "closest",
                    "mapbox": {
                      "style": "light"
                    },
                    "paper_bgcolor": "white",
                    "plot_bgcolor": "#E5ECF6",
                    "polar": {
                      "angularaxis": {
                        "gridcolor": "white",
                        "linecolor": "white",
                        "ticks": ""
                      },
                      "bgcolor": "#E5ECF6",
                      "radialaxis": {
                        "gridcolor": "white",
                        "linecolor": "white",
                        "ticks": ""
                      }
                    },
                    "scene": {
                      "xaxis": {
                        "backgroundcolor": "#E5ECF6",
                        "gridcolor": "white",
                        "gridwidth": 2,
                        "linecolor": "white",
                        "showbackground": true,
                        "ticks": "",
                        "zerolinecolor": "white"
                      },
                      "yaxis": {
                        "backgroundcolor": "#E5ECF6",
                        "gridcolor": "white",
                        "gridwidth": 2,
                        "linecolor": "white",
                        "showbackground": true,
                        "ticks": "",
                        "zerolinecolor": "white"
                      },
                      "zaxis": {
                        "backgroundcolor": "#E5ECF6",
                        "gridcolor": "white",
                        "gridwidth": 2,
                        "linecolor": "white",
                        "showbackground": true,
                        "ticks": "",
                        "zerolinecolor": "white"
                      }
                    },
                    "shapedefaults": {
                      "line": {
                        "color": "#2a3f5f"
                      }
                    },
                    "ternary": {
                      "aaxis": {
                        "gridcolor": "white",
                        "linecolor": "white",
                        "ticks": ""
                      },
                      "baxis": {
                        "gridcolor": "white",
                        "linecolor": "white",
                        "ticks": ""
                      },
                      "bgcolor": "#E5ECF6",
                      "caxis": {
                        "gridcolor": "white",
                        "linecolor": "white",
                        "ticks": ""
                      }
                    },
                    "title": {
                      "x": 0.05
                    },
                    "xaxis": {
                      "automargin": true,
                      "gridcolor": "white",
                      "linecolor": "white",
                      "ticks": "",
                      "title": {
                        "standoff": 15
                      },
                      "zerolinecolor": "white",
                      "zerolinewidth": 2
                    },
                    "yaxis": {
                      "automargin": true,
                      "gridcolor": "white",
                      "linecolor": "white",
                      "ticks": "",
                      "title": {
                        "standoff": 15
                      },
                      "zerolinecolor": "white",
                      "zerolinewidth": 2
                    }
                  }
                },
                "title": {
                  "text": "Number of Active versus Retired Rockets"
                },
                "xaxis": {
                  "anchor": "y",
                  "categoryorder": "total descending",
                  "domain": [
                    0,
                    1
                  ],
                  "title": {
                    "text": "Organisation Name"
                  }
                },
                "yaxis": {
                  "anchor": "x",
                  "domain": [
                    0,
                    1
                  ],
                  "range": [
                    0,
                    2000
                  ],
                  "title": {
                    "text": "Number of rockets"
                  }
                }
              }
            }
          },
          "metadata": {},
          "output_type": "display_data"
        }
      ],
      "source": [
        "fig_active = px.bar(\n",
        "    data_frame=df_active,\n",
        "    x = 'Organisation',\n",
        "    y = 'Number',\n",
        "    text = 'Number',\n",
        "    color='Rocket_Status',\n",
        "    labels={'Number': 'Number of rockets', 'Organisation': 'Organisation Name', 'Rocket_Status': 'Status'},\n",
        "    title='Number of Active versus Retired Rockets',\n",
        "    barmode='group'\n",
        ")\n",
        "\n",
        "fig_active.update_yaxes(range = [0, 2000])\n",
        "fig_active.update_layout(xaxis={'categoryorder':'total descending'})\n",
        "fig_active.update_traces(texttemplate='%{text}', textposition='outside')\n",
        "\n",
        "fig_active.show()"
      ]
    },
    {
      "cell_type": "markdown",
      "metadata": {
        "id": "y9WtP5xWkYkp"
      },
      "source": [
        "# Distribution of Mission Status"
      ]
    },
    {
      "cell_type": "code",
      "execution_count": 10,
      "metadata": {},
      "outputs": [],
      "source": [
        "df_status = df_clean.groupby('Mission_Status').size().reset_index(name='Number')"
      ]
    },
    {
      "cell_type": "code",
      "execution_count": 11,
      "metadata": {},
      "outputs": [
        {
          "data": {
            "application/vnd.plotly.v1+json": {
              "config": {
                "plotlyServerURL": "https://plot.ly"
              },
              "data": [
                {
                  "alignmentgroup": "True",
                  "hovertemplate": "Mission Status=%{x}<br>Number=%{text}<extra></extra>",
                  "legendgroup": "",
                  "marker": {
                    "color": "#636efa",
                    "pattern": {
                      "shape": ""
                    }
                  },
                  "name": "",
                  "offsetgroup": "",
                  "orientation": "v",
                  "showlegend": false,
                  "text": [
                    339,
                    102,
                    4,
                    3879
                  ],
                  "textposition": "auto",
                  "type": "bar",
                  "x": [
                    "Failure",
                    "Partial Failure",
                    "Prelaunch Failure",
                    "Success"
                  ],
                  "xaxis": "x",
                  "y": [
                    339,
                    102,
                    4,
                    3879
                  ],
                  "yaxis": "y"
                }
              ],
              "layout": {
                "barmode": "relative",
                "legend": {
                  "tracegroupgap": 0
                },
                "template": {
                  "data": {
                    "bar": [
                      {
                        "error_x": {
                          "color": "#2a3f5f"
                        },
                        "error_y": {
                          "color": "#2a3f5f"
                        },
                        "marker": {
                          "line": {
                            "color": "#E5ECF6",
                            "width": 0.5
                          },
                          "pattern": {
                            "fillmode": "overlay",
                            "size": 10,
                            "solidity": 0.2
                          }
                        },
                        "type": "bar"
                      }
                    ],
                    "barpolar": [
                      {
                        "marker": {
                          "line": {
                            "color": "#E5ECF6",
                            "width": 0.5
                          },
                          "pattern": {
                            "fillmode": "overlay",
                            "size": 10,
                            "solidity": 0.2
                          }
                        },
                        "type": "barpolar"
                      }
                    ],
                    "carpet": [
                      {
                        "aaxis": {
                          "endlinecolor": "#2a3f5f",
                          "gridcolor": "white",
                          "linecolor": "white",
                          "minorgridcolor": "white",
                          "startlinecolor": "#2a3f5f"
                        },
                        "baxis": {
                          "endlinecolor": "#2a3f5f",
                          "gridcolor": "white",
                          "linecolor": "white",
                          "minorgridcolor": "white",
                          "startlinecolor": "#2a3f5f"
                        },
                        "type": "carpet"
                      }
                    ],
                    "choropleth": [
                      {
                        "colorbar": {
                          "outlinewidth": 0,
                          "ticks": ""
                        },
                        "type": "choropleth"
                      }
                    ],
                    "contour": [
                      {
                        "colorbar": {
                          "outlinewidth": 0,
                          "ticks": ""
                        },
                        "colorscale": [
                          [
                            0,
                            "#0d0887"
                          ],
                          [
                            0.1111111111111111,
                            "#46039f"
                          ],
                          [
                            0.2222222222222222,
                            "#7201a8"
                          ],
                          [
                            0.3333333333333333,
                            "#9c179e"
                          ],
                          [
                            0.4444444444444444,
                            "#bd3786"
                          ],
                          [
                            0.5555555555555556,
                            "#d8576b"
                          ],
                          [
                            0.6666666666666666,
                            "#ed7953"
                          ],
                          [
                            0.7777777777777778,
                            "#fb9f3a"
                          ],
                          [
                            0.8888888888888888,
                            "#fdca26"
                          ],
                          [
                            1,
                            "#f0f921"
                          ]
                        ],
                        "type": "contour"
                      }
                    ],
                    "contourcarpet": [
                      {
                        "colorbar": {
                          "outlinewidth": 0,
                          "ticks": ""
                        },
                        "type": "contourcarpet"
                      }
                    ],
                    "heatmap": [
                      {
                        "colorbar": {
                          "outlinewidth": 0,
                          "ticks": ""
                        },
                        "colorscale": [
                          [
                            0,
                            "#0d0887"
                          ],
                          [
                            0.1111111111111111,
                            "#46039f"
                          ],
                          [
                            0.2222222222222222,
                            "#7201a8"
                          ],
                          [
                            0.3333333333333333,
                            "#9c179e"
                          ],
                          [
                            0.4444444444444444,
                            "#bd3786"
                          ],
                          [
                            0.5555555555555556,
                            "#d8576b"
                          ],
                          [
                            0.6666666666666666,
                            "#ed7953"
                          ],
                          [
                            0.7777777777777778,
                            "#fb9f3a"
                          ],
                          [
                            0.8888888888888888,
                            "#fdca26"
                          ],
                          [
                            1,
                            "#f0f921"
                          ]
                        ],
                        "type": "heatmap"
                      }
                    ],
                    "heatmapgl": [
                      {
                        "colorbar": {
                          "outlinewidth": 0,
                          "ticks": ""
                        },
                        "colorscale": [
                          [
                            0,
                            "#0d0887"
                          ],
                          [
                            0.1111111111111111,
                            "#46039f"
                          ],
                          [
                            0.2222222222222222,
                            "#7201a8"
                          ],
                          [
                            0.3333333333333333,
                            "#9c179e"
                          ],
                          [
                            0.4444444444444444,
                            "#bd3786"
                          ],
                          [
                            0.5555555555555556,
                            "#d8576b"
                          ],
                          [
                            0.6666666666666666,
                            "#ed7953"
                          ],
                          [
                            0.7777777777777778,
                            "#fb9f3a"
                          ],
                          [
                            0.8888888888888888,
                            "#fdca26"
                          ],
                          [
                            1,
                            "#f0f921"
                          ]
                        ],
                        "type": "heatmapgl"
                      }
                    ],
                    "histogram": [
                      {
                        "marker": {
                          "pattern": {
                            "fillmode": "overlay",
                            "size": 10,
                            "solidity": 0.2
                          }
                        },
                        "type": "histogram"
                      }
                    ],
                    "histogram2d": [
                      {
                        "colorbar": {
                          "outlinewidth": 0,
                          "ticks": ""
                        },
                        "colorscale": [
                          [
                            0,
                            "#0d0887"
                          ],
                          [
                            0.1111111111111111,
                            "#46039f"
                          ],
                          [
                            0.2222222222222222,
                            "#7201a8"
                          ],
                          [
                            0.3333333333333333,
                            "#9c179e"
                          ],
                          [
                            0.4444444444444444,
                            "#bd3786"
                          ],
                          [
                            0.5555555555555556,
                            "#d8576b"
                          ],
                          [
                            0.6666666666666666,
                            "#ed7953"
                          ],
                          [
                            0.7777777777777778,
                            "#fb9f3a"
                          ],
                          [
                            0.8888888888888888,
                            "#fdca26"
                          ],
                          [
                            1,
                            "#f0f921"
                          ]
                        ],
                        "type": "histogram2d"
                      }
                    ],
                    "histogram2dcontour": [
                      {
                        "colorbar": {
                          "outlinewidth": 0,
                          "ticks": ""
                        },
                        "colorscale": [
                          [
                            0,
                            "#0d0887"
                          ],
                          [
                            0.1111111111111111,
                            "#46039f"
                          ],
                          [
                            0.2222222222222222,
                            "#7201a8"
                          ],
                          [
                            0.3333333333333333,
                            "#9c179e"
                          ],
                          [
                            0.4444444444444444,
                            "#bd3786"
                          ],
                          [
                            0.5555555555555556,
                            "#d8576b"
                          ],
                          [
                            0.6666666666666666,
                            "#ed7953"
                          ],
                          [
                            0.7777777777777778,
                            "#fb9f3a"
                          ],
                          [
                            0.8888888888888888,
                            "#fdca26"
                          ],
                          [
                            1,
                            "#f0f921"
                          ]
                        ],
                        "type": "histogram2dcontour"
                      }
                    ],
                    "mesh3d": [
                      {
                        "colorbar": {
                          "outlinewidth": 0,
                          "ticks": ""
                        },
                        "type": "mesh3d"
                      }
                    ],
                    "parcoords": [
                      {
                        "line": {
                          "colorbar": {
                            "outlinewidth": 0,
                            "ticks": ""
                          }
                        },
                        "type": "parcoords"
                      }
                    ],
                    "pie": [
                      {
                        "automargin": true,
                        "type": "pie"
                      }
                    ],
                    "scatter": [
                      {
                        "fillpattern": {
                          "fillmode": "overlay",
                          "size": 10,
                          "solidity": 0.2
                        },
                        "type": "scatter"
                      }
                    ],
                    "scatter3d": [
                      {
                        "line": {
                          "colorbar": {
                            "outlinewidth": 0,
                            "ticks": ""
                          }
                        },
                        "marker": {
                          "colorbar": {
                            "outlinewidth": 0,
                            "ticks": ""
                          }
                        },
                        "type": "scatter3d"
                      }
                    ],
                    "scattercarpet": [
                      {
                        "marker": {
                          "colorbar": {
                            "outlinewidth": 0,
                            "ticks": ""
                          }
                        },
                        "type": "scattercarpet"
                      }
                    ],
                    "scattergeo": [
                      {
                        "marker": {
                          "colorbar": {
                            "outlinewidth": 0,
                            "ticks": ""
                          }
                        },
                        "type": "scattergeo"
                      }
                    ],
                    "scattergl": [
                      {
                        "marker": {
                          "colorbar": {
                            "outlinewidth": 0,
                            "ticks": ""
                          }
                        },
                        "type": "scattergl"
                      }
                    ],
                    "scattermapbox": [
                      {
                        "marker": {
                          "colorbar": {
                            "outlinewidth": 0,
                            "ticks": ""
                          }
                        },
                        "type": "scattermapbox"
                      }
                    ],
                    "scatterpolar": [
                      {
                        "marker": {
                          "colorbar": {
                            "outlinewidth": 0,
                            "ticks": ""
                          }
                        },
                        "type": "scatterpolar"
                      }
                    ],
                    "scatterpolargl": [
                      {
                        "marker": {
                          "colorbar": {
                            "outlinewidth": 0,
                            "ticks": ""
                          }
                        },
                        "type": "scatterpolargl"
                      }
                    ],
                    "scatterternary": [
                      {
                        "marker": {
                          "colorbar": {
                            "outlinewidth": 0,
                            "ticks": ""
                          }
                        },
                        "type": "scatterternary"
                      }
                    ],
                    "surface": [
                      {
                        "colorbar": {
                          "outlinewidth": 0,
                          "ticks": ""
                        },
                        "colorscale": [
                          [
                            0,
                            "#0d0887"
                          ],
                          [
                            0.1111111111111111,
                            "#46039f"
                          ],
                          [
                            0.2222222222222222,
                            "#7201a8"
                          ],
                          [
                            0.3333333333333333,
                            "#9c179e"
                          ],
                          [
                            0.4444444444444444,
                            "#bd3786"
                          ],
                          [
                            0.5555555555555556,
                            "#d8576b"
                          ],
                          [
                            0.6666666666666666,
                            "#ed7953"
                          ],
                          [
                            0.7777777777777778,
                            "#fb9f3a"
                          ],
                          [
                            0.8888888888888888,
                            "#fdca26"
                          ],
                          [
                            1,
                            "#f0f921"
                          ]
                        ],
                        "type": "surface"
                      }
                    ],
                    "table": [
                      {
                        "cells": {
                          "fill": {
                            "color": "#EBF0F8"
                          },
                          "line": {
                            "color": "white"
                          }
                        },
                        "header": {
                          "fill": {
                            "color": "#C8D4E3"
                          },
                          "line": {
                            "color": "white"
                          }
                        },
                        "type": "table"
                      }
                    ]
                  },
                  "layout": {
                    "annotationdefaults": {
                      "arrowcolor": "#2a3f5f",
                      "arrowhead": 0,
                      "arrowwidth": 1
                    },
                    "autotypenumbers": "strict",
                    "coloraxis": {
                      "colorbar": {
                        "outlinewidth": 0,
                        "ticks": ""
                      }
                    },
                    "colorscale": {
                      "diverging": [
                        [
                          0,
                          "#8e0152"
                        ],
                        [
                          0.1,
                          "#c51b7d"
                        ],
                        [
                          0.2,
                          "#de77ae"
                        ],
                        [
                          0.3,
                          "#f1b6da"
                        ],
                        [
                          0.4,
                          "#fde0ef"
                        ],
                        [
                          0.5,
                          "#f7f7f7"
                        ],
                        [
                          0.6,
                          "#e6f5d0"
                        ],
                        [
                          0.7,
                          "#b8e186"
                        ],
                        [
                          0.8,
                          "#7fbc41"
                        ],
                        [
                          0.9,
                          "#4d9221"
                        ],
                        [
                          1,
                          "#276419"
                        ]
                      ],
                      "sequential": [
                        [
                          0,
                          "#0d0887"
                        ],
                        [
                          0.1111111111111111,
                          "#46039f"
                        ],
                        [
                          0.2222222222222222,
                          "#7201a8"
                        ],
                        [
                          0.3333333333333333,
                          "#9c179e"
                        ],
                        [
                          0.4444444444444444,
                          "#bd3786"
                        ],
                        [
                          0.5555555555555556,
                          "#d8576b"
                        ],
                        [
                          0.6666666666666666,
                          "#ed7953"
                        ],
                        [
                          0.7777777777777778,
                          "#fb9f3a"
                        ],
                        [
                          0.8888888888888888,
                          "#fdca26"
                        ],
                        [
                          1,
                          "#f0f921"
                        ]
                      ],
                      "sequentialminus": [
                        [
                          0,
                          "#0d0887"
                        ],
                        [
                          0.1111111111111111,
                          "#46039f"
                        ],
                        [
                          0.2222222222222222,
                          "#7201a8"
                        ],
                        [
                          0.3333333333333333,
                          "#9c179e"
                        ],
                        [
                          0.4444444444444444,
                          "#bd3786"
                        ],
                        [
                          0.5555555555555556,
                          "#d8576b"
                        ],
                        [
                          0.6666666666666666,
                          "#ed7953"
                        ],
                        [
                          0.7777777777777778,
                          "#fb9f3a"
                        ],
                        [
                          0.8888888888888888,
                          "#fdca26"
                        ],
                        [
                          1,
                          "#f0f921"
                        ]
                      ]
                    },
                    "colorway": [
                      "#636efa",
                      "#EF553B",
                      "#00cc96",
                      "#ab63fa",
                      "#FFA15A",
                      "#19d3f3",
                      "#FF6692",
                      "#B6E880",
                      "#FF97FF",
                      "#FECB52"
                    ],
                    "font": {
                      "color": "#2a3f5f"
                    },
                    "geo": {
                      "bgcolor": "white",
                      "lakecolor": "white",
                      "landcolor": "#E5ECF6",
                      "showlakes": true,
                      "showland": true,
                      "subunitcolor": "white"
                    },
                    "hoverlabel": {
                      "align": "left"
                    },
                    "hovermode": "closest",
                    "mapbox": {
                      "style": "light"
                    },
                    "paper_bgcolor": "white",
                    "plot_bgcolor": "#E5ECF6",
                    "polar": {
                      "angularaxis": {
                        "gridcolor": "white",
                        "linecolor": "white",
                        "ticks": ""
                      },
                      "bgcolor": "#E5ECF6",
                      "radialaxis": {
                        "gridcolor": "white",
                        "linecolor": "white",
                        "ticks": ""
                      }
                    },
                    "scene": {
                      "xaxis": {
                        "backgroundcolor": "#E5ECF6",
                        "gridcolor": "white",
                        "gridwidth": 2,
                        "linecolor": "white",
                        "showbackground": true,
                        "ticks": "",
                        "zerolinecolor": "white"
                      },
                      "yaxis": {
                        "backgroundcolor": "#E5ECF6",
                        "gridcolor": "white",
                        "gridwidth": 2,
                        "linecolor": "white",
                        "showbackground": true,
                        "ticks": "",
                        "zerolinecolor": "white"
                      },
                      "zaxis": {
                        "backgroundcolor": "#E5ECF6",
                        "gridcolor": "white",
                        "gridwidth": 2,
                        "linecolor": "white",
                        "showbackground": true,
                        "ticks": "",
                        "zerolinecolor": "white"
                      }
                    },
                    "shapedefaults": {
                      "line": {
                        "color": "#2a3f5f"
                      }
                    },
                    "ternary": {
                      "aaxis": {
                        "gridcolor": "white",
                        "linecolor": "white",
                        "ticks": ""
                      },
                      "baxis": {
                        "gridcolor": "white",
                        "linecolor": "white",
                        "ticks": ""
                      },
                      "bgcolor": "#E5ECF6",
                      "caxis": {
                        "gridcolor": "white",
                        "linecolor": "white",
                        "ticks": ""
                      }
                    },
                    "title": {
                      "x": 0.05
                    },
                    "xaxis": {
                      "automargin": true,
                      "gridcolor": "white",
                      "linecolor": "white",
                      "ticks": "",
                      "title": {
                        "standoff": 15
                      },
                      "zerolinecolor": "white",
                      "zerolinewidth": 2
                    },
                    "yaxis": {
                      "automargin": true,
                      "gridcolor": "white",
                      "linecolor": "white",
                      "ticks": "",
                      "title": {
                        "standoff": 15
                      },
                      "zerolinecolor": "white",
                      "zerolinewidth": 2
                    }
                  }
                },
                "title": {
                  "text": "Distribution of Mission Status"
                },
                "xaxis": {
                  "anchor": "y",
                  "categoryorder": "total descending",
                  "domain": [
                    0,
                    1
                  ],
                  "title": {
                    "text": "Mission Status"
                  }
                },
                "yaxis": {
                  "anchor": "x",
                  "domain": [
                    0,
                    1
                  ],
                  "title": {
                    "text": "Number"
                  }
                }
              }
            }
          },
          "metadata": {},
          "output_type": "display_data"
        }
      ],
      "source": [
        "fig_status = px.bar(\n",
        "    data_frame= df_status,\n",
        "    x = 'Mission_Status',\n",
        "    y = 'Number',\n",
        "    labels={'Mission_Status': 'Mission Status'},\n",
        "    text= 'Number',\n",
        "    title= 'Distribution of Mission Status'\n",
        ")\n",
        "\n",
        "fig_status.update_layout(xaxis={'categoryorder':'total descending'})\n",
        "\n",
        "fig_status.show()"
      ]
    },
    {
      "cell_type": "markdown",
      "metadata": {
        "id": "jgTCihuoa-qH",
        "papermill": {
          "duration": 0.03854,
          "end_time": "2020-10-20T21:34:05.968626",
          "exception": false,
          "start_time": "2020-10-20T21:34:05.930086",
          "status": "completed"
        },
        "tags": []
      },
      "source": [
        "# How Expensive are the Launches? "
      ]
    },
    {
      "cell_type": "code",
      "execution_count": 12,
      "metadata": {},
      "outputs": [],
      "source": [
        "df_price = df_clean.dropna(subset=['Price'])"
      ]
    },
    {
      "cell_type": "code",
      "execution_count": null,
      "metadata": {},
      "outputs": [],
      "source": [
        "df_price['Price'] = df_price['Price'].replace({',': ''}, regex=True).astype(float)"
      ]
    },
    {
      "cell_type": "code",
      "execution_count": 14,
      "metadata": {},
      "outputs": [
        {
          "data": {
            "application/vnd.plotly.v1+json": {
              "config": {
                "plotlyServerURL": "https://plot.ly"
              },
              "data": [
                {
                  "alignmentgroup": "True",
                  "bingroup": "x",
                  "hovertemplate": "Price [mln]=%{x}<br>count=%{y}<extra></extra>",
                  "legendgroup": "",
                  "marker": {
                    "color": "#636efa",
                    "pattern": {
                      "shape": ""
                    }
                  },
                  "name": "",
                  "nbinsx": 250,
                  "offsetgroup": "",
                  "orientation": "v",
                  "showlegend": false,
                  "type": "histogram",
                  "x": [
                    50,
                    29.75,
                    65,
                    145,
                    64.68,
                    48.5,
                    50,
                    90,
                    46,
                    28.3,
                    29.15,
                    29.75,
                    7.5,
                    64.68,
                    50,
                    29.15,
                    29.75,
                    50,
                    7.5,
                    30.8,
                    50,
                    29.75,
                    50,
                    5.3,
                    12,
                    112.5,
                    120,
                    48.5,
                    50,
                    29.15,
                    48.5,
                    153,
                    30.8,
                    48.5,
                    50,
                    29.15,
                    50,
                    48.5,
                    29.75,
                    200,
                    50,
                    85,
                    115,
                    90,
                    48.5,
                    7.5,
                    50,
                    50,
                    200,
                    29.75,
                    29.15,
                    50,
                    41.8,
                    65,
                    64.68,
                    50,
                    21,
                    48.5,
                    48.5,
                    7.5,
                    50,
                    64.68,
                    31,
                    200,
                    50,
                    29.15,
                    64.68,
                    85,
                    29.15,
                    7.5,
                    40,
                    65,
                    64.68,
                    48.5,
                    29.75,
                    112.5,
                    5.3,
                    64.68,
                    41.8,
                    164,
                    48.5,
                    7.5,
                    29.15,
                    7.5,
                    153,
                    50,
                    200,
                    65,
                    48.5,
                    48.5,
                    30.8,
                    50,
                    62,
                    65,
                    37,
                    7.5,
                    90,
                    29.15,
                    200,
                    50,
                    5.3,
                    65,
                    50,
                    64.68,
                    21,
                    7.5,
                    50,
                    64.68,
                    29.15,
                    85,
                    90,
                    48.5,
                    21,
                    29.15,
                    7.5,
                    37,
                    29.15,
                    50,
                    50,
                    200,
                    5.3,
                    350,
                    39,
                    50,
                    29.15,
                    48.5,
                    50,
                    5.3,
                    65,
                    47,
                    7.5,
                    29.15,
                    29.75,
                    50,
                    200,
                    50,
                    41.8,
                    21,
                    37,
                    29.75,
                    85,
                    50,
                    62,
                    7.5,
                    48.5,
                    29.15,
                    90,
                    30.8,
                    35,
                    64.68,
                    200,
                    153,
                    30.8,
                    50,
                    200,
                    112.5,
                    21,
                    50,
                    30.8,
                    37,
                    350,
                    50,
                    64.68,
                    50,
                    50,
                    48.5,
                    69.7,
                    30.8,
                    62,
                    30.8,
                    90,
                    69.7,
                    62,
                    29.75,
                    62,
                    85,
                    64.68,
                    50,
                    64.68,
                    109,
                    29.15,
                    5.3,
                    41.8,
                    62,
                    65,
                    153,
                    31,
                    64.68,
                    200,
                    62,
                    64.68,
                    62,
                    47,
                    29.75,
                    62,
                    145,
                    90,
                    62,
                    48.5,
                    90,
                    29.75,
                    48.5,
                    62,
                    200,
                    30.8,
                    7.5,
                    115,
                    5.3,
                    39,
                    29.75,
                    31,
                    29.75,
                    62,
                    30.8,
                    29.75,
                    62,
                    90,
                    62,
                    29.15,
                    29.75,
                    35,
                    30.8,
                    64.68,
                    85,
                    37,
                    45,
                    62,
                    123,
                    48.5,
                    41.8,
                    62,
                    90,
                    62,
                    29.75,
                    200,
                    30.8,
                    65,
                    145,
                    65,
                    62,
                    31,
                    46,
                    62,
                    109,
                    65,
                    62,
                    37,
                    48.5,
                    62,
                    200,
                    62,
                    62,
                    31,
                    29.15,
                    64.68,
                    48.5,
                    65,
                    62,
                    62,
                    200,
                    90,
                    7.5,
                    62,
                    47,
                    200,
                    62,
                    109,
                    29.15,
                    62,
                    90,
                    62,
                    37,
                    109,
                    62,
                    31,
                    200,
                    109,
                    62,
                    29.15,
                    29.75,
                    200,
                    29.75,
                    130,
                    40,
                    29.15,
                    112.5,
                    31,
                    37,
                    145,
                    29.75,
                    109,
                    5.3,
                    90,
                    85,
                    200,
                    25,
                    37,
                    115,
                    47,
                    62,
                    64.68,
                    200,
                    164,
                    29.75,
                    62,
                    64.68,
                    29.15,
                    123,
                    62,
                    64.68,
                    153,
                    31,
                    200,
                    62,
                    350,
                    65,
                    41.8,
                    64.68,
                    48.5,
                    62,
                    29.75,
                    62,
                    31,
                    62,
                    29.75,
                    48.5,
                    69.7,
                    48.5,
                    109,
                    65,
                    35,
                    31,
                    200,
                    62,
                    90,
                    41.8,
                    48.5,
                    109,
                    65,
                    200,
                    31,
                    56.5,
                    29.15,
                    62,
                    21,
                    109,
                    37,
                    200,
                    15,
                    109,
                    109,
                    123,
                    200,
                    31,
                    5.3,
                    41.8,
                    153,
                    47,
                    200,
                    112.5,
                    200,
                    109,
                    31,
                    56.5,
                    37,
                    200,
                    120,
                    56.5,
                    200,
                    56.5,
                    41.8,
                    31,
                    90,
                    29,
                    164,
                    123,
                    56.5,
                    56.5,
                    37,
                    90,
                    153,
                    56.5,
                    62,
                    145,
                    200,
                    350,
                    90,
                    29,
                    109,
                    80,
                    200,
                    31,
                    90,
                    56.5,
                    109,
                    200,
                    56.5,
                    109,
                    56.5,
                    109,
                    164,
                    56.5,
                    80,
                    41.8,
                    21,
                    29,
                    90,
                    41.8,
                    109,
                    164,
                    37,
                    56.5,
                    145,
                    31,
                    109,
                    200,
                    90,
                    164,
                    200,
                    109,
                    80,
                    56.5,
                    47,
                    41.8,
                    120,
                    56.5,
                    41.8,
                    29,
                    40,
                    109,
                    31,
                    56.5,
                    140,
                    80,
                    41.8,
                    55,
                    200,
                    350,
                    29,
                    112.5,
                    200,
                    153,
                    65,
                    31,
                    40,
                    109,
                    37,
                    80,
                    109,
                    59.5,
                    21,
                    109,
                    200,
                    109,
                    90,
                    41.8,
                    200,
                    120,
                    80,
                    200,
                    59.5,
                    164,
                    200,
                    109,
                    21,
                    109,
                    200,
                    41.8,
                    112.5,
                    200,
                    350,
                    109,
                    40,
                    59.5,
                    90,
                    200,
                    140,
                    31,
                    31,
                    153,
                    37,
                    80,
                    90,
                    145,
                    21,
                    46,
                    90,
                    200,
                    90,
                    29,
                    200,
                    153,
                    164,
                    31,
                    450,
                    40,
                    200,
                    450,
                    109,
                    200,
                    25,
                    115,
                    164,
                    120,
                    45,
                    450,
                    40,
                    41.8,
                    112.5,
                    350,
                    200,
                    47,
                    59.5,
                    200,
                    350,
                    46,
                    200,
                    46,
                    120,
                    41.8,
                    140,
                    200,
                    21,
                    200,
                    29,
                    29,
                    59.5,
                    41.8,
                    164,
                    200,
                    450,
                    90,
                    120,
                    47,
                    29,
                    450,
                    164,
                    109,
                    450,
                    90,
                    130,
                    450,
                    41.8,
                    200,
                    450,
                    109,
                    200,
                    21,
                    112.5,
                    109,
                    450,
                    200,
                    29,
                    450,
                    7,
                    41.8,
                    200,
                    164,
                    123,
                    40,
                    200,
                    450,
                    21,
                    123,
                    41.8,
                    450,
                    45,
                    200,
                    90,
                    350,
                    200,
                    450,
                    29.75,
                    29.75,
                    29.15,
                    64.68,
                    31,
                    40,
                    29,
                    7,
                    29,
                    200,
                    7,
                    200,
                    200,
                    450,
                    64.68,
                    41.8,
                    21,
                    20.14,
                    200,
                    40,
                    123,
                    115,
                    450,
                    90,
                    450,
                    21,
                    109,
                    200,
                    64.68,
                    350,
                    450,
                    123,
                    64.68,
                    47,
                    200,
                    450,
                    29,
                    109,
                    29,
                    450,
                    69.7,
                    29.75,
                    29.15,
                    200,
                    40,
                    40,
                    21,
                    29,
                    69.7,
                    30.8,
                    7,
                    200,
                    109,
                    69.7,
                    25,
                    40,
                    450,
                    200,
                    69.7,
                    133,
                    64.68,
                    200,
                    69.7,
                    90,
                    450,
                    30.8,
                    200,
                    41.8,
                    29,
                    29,
                    47,
                    450,
                    164,
                    200,
                    164,
                    64.68,
                    115,
                    40,
                    40,
                    7,
                    200,
                    153,
                    200,
                    41.8,
                    40,
                    29.75,
                    41.8,
                    29,
                    109,
                    30.8,
                    450,
                    29.75,
                    25,
                    40,
                    40,
                    130,
                    200,
                    350,
                    190,
                    135,
                    30.8,
                    48.5,
                    64.68,
                    69.7,
                    29.75,
                    47,
                    64.68,
                    30.8,
                    30.8,
                    190,
                    29,
                    45,
                    30.8,
                    190,
                    30.8,
                    69.7,
                    29.75,
                    41.8,
                    64.68,
                    35,
                    25,
                    133,
                    40,
                    135,
                    41.8,
                    40,
                    69.7,
                    109,
                    47,
                    40,
                    133,
                    40,
                    450,
                    35,
                    29,
                    90,
                    200,
                    450,
                    164,
                    64.68,
                    450,
                    25,
                    109,
                    35,
                    41.8,
                    450,
                    64.68,
                    450,
                    41.8,
                    450,
                    40,
                    450,
                    25,
                    45,
                    90,
                    450,
                    450,
                    450,
                    47,
                    450,
                    450,
                    69.7,
                    450,
                    69.7,
                    450,
                    40,
                    29,
                    35,
                    450,
                    40,
                    40,
                    450,
                    41.8,
                    45,
                    450,
                    40,
                    69.7,
                    45,
                    450,
                    35,
                    40,
                    64.68,
                    450,
                    35,
                    30.8,
                    25,
                    450,
                    40,
                    64.68,
                    29,
                    40,
                    30.8,
                    40,
                    450,
                    450,
                    40,
                    45,
                    40,
                    30.8,
                    40,
                    450,
                    35,
                    30.8,
                    450,
                    40,
                    30.8,
                    40,
                    45,
                    450,
                    40,
                    30.8,
                    450,
                    40,
                    25,
                    450,
                    30.8,
                    40,
                    450,
                    40,
                    450,
                    450,
                    69.7,
                    40,
                    450,
                    35,
                    450,
                    450,
                    450,
                    40,
                    29.75,
                    450,
                    40,
                    40,
                    450,
                    450,
                    40,
                    450,
                    25,
                    40,
                    450,
                    450,
                    450,
                    20,
                    450,
                    450,
                    450,
                    450,
                    40,
                    40,
                    450,
                    450,
                    69.7,
                    450,
                    25,
                    450,
                    450,
                    40,
                    450,
                    29.75,
                    40,
                    40,
                    450,
                    45,
                    450,
                    69.7,
                    450,
                    35,
                    450,
                    450,
                    30.8,
                    35,
                    25,
                    450,
                    450,
                    450,
                    40,
                    450,
                    40,
                    450,
                    450,
                    450,
                    30.8,
                    136.6,
                    450,
                    29.75,
                    450,
                    450,
                    450,
                    35,
                    450,
                    450,
                    450,
                    450,
                    450,
                    40,
                    450,
                    450,
                    450,
                    450,
                    450,
                    450,
                    30.8,
                    136.6,
                    450,
                    40,
                    136.6,
                    450,
                    450,
                    136.6,
                    450,
                    450,
                    35,
                    450,
                    450,
                    450,
                    450,
                    5000,
                    450,
                    35,
                    30.8,
                    30.8,
                    30.8,
                    5000,
                    30.8,
                    450,
                    450,
                    450,
                    450,
                    30.8,
                    450,
                    450,
                    450,
                    450,
                    450,
                    450,
                    450,
                    450,
                    450,
                    30.8,
                    450,
                    450,
                    450,
                    450,
                    450,
                    30.8,
                    450,
                    450,
                    450,
                    30.8,
                    450,
                    450,
                    450,
                    450,
                    1160,
                    1160,
                    1160,
                    1160,
                    1160,
                    1160,
                    1160,
                    1160,
                    59,
                    1160,
                    59,
                    59,
                    1160,
                    59,
                    1160,
                    59,
                    59,
                    59,
                    59,
                    59,
                    59,
                    1160,
                    59,
                    59,
                    59,
                    1160,
                    59,
                    59,
                    59,
                    59,
                    59,
                    59,
                    59,
                    59,
                    59,
                    63.23,
                    63.23,
                    63.23,
                    63.23
                  ],
                  "xaxis": "x",
                  "yaxis": "y"
                }
              ],
              "layout": {
                "bargap": 0.01,
                "barmode": "relative",
                "legend": {
                  "tracegroupgap": 0
                },
                "template": {
                  "data": {
                    "bar": [
                      {
                        "error_x": {
                          "color": "#2a3f5f"
                        },
                        "error_y": {
                          "color": "#2a3f5f"
                        },
                        "marker": {
                          "line": {
                            "color": "#E5ECF6",
                            "width": 0.5
                          },
                          "pattern": {
                            "fillmode": "overlay",
                            "size": 10,
                            "solidity": 0.2
                          }
                        },
                        "type": "bar"
                      }
                    ],
                    "barpolar": [
                      {
                        "marker": {
                          "line": {
                            "color": "#E5ECF6",
                            "width": 0.5
                          },
                          "pattern": {
                            "fillmode": "overlay",
                            "size": 10,
                            "solidity": 0.2
                          }
                        },
                        "type": "barpolar"
                      }
                    ],
                    "carpet": [
                      {
                        "aaxis": {
                          "endlinecolor": "#2a3f5f",
                          "gridcolor": "white",
                          "linecolor": "white",
                          "minorgridcolor": "white",
                          "startlinecolor": "#2a3f5f"
                        },
                        "baxis": {
                          "endlinecolor": "#2a3f5f",
                          "gridcolor": "white",
                          "linecolor": "white",
                          "minorgridcolor": "white",
                          "startlinecolor": "#2a3f5f"
                        },
                        "type": "carpet"
                      }
                    ],
                    "choropleth": [
                      {
                        "colorbar": {
                          "outlinewidth": 0,
                          "ticks": ""
                        },
                        "type": "choropleth"
                      }
                    ],
                    "contour": [
                      {
                        "colorbar": {
                          "outlinewidth": 0,
                          "ticks": ""
                        },
                        "colorscale": [
                          [
                            0,
                            "#0d0887"
                          ],
                          [
                            0.1111111111111111,
                            "#46039f"
                          ],
                          [
                            0.2222222222222222,
                            "#7201a8"
                          ],
                          [
                            0.3333333333333333,
                            "#9c179e"
                          ],
                          [
                            0.4444444444444444,
                            "#bd3786"
                          ],
                          [
                            0.5555555555555556,
                            "#d8576b"
                          ],
                          [
                            0.6666666666666666,
                            "#ed7953"
                          ],
                          [
                            0.7777777777777778,
                            "#fb9f3a"
                          ],
                          [
                            0.8888888888888888,
                            "#fdca26"
                          ],
                          [
                            1,
                            "#f0f921"
                          ]
                        ],
                        "type": "contour"
                      }
                    ],
                    "contourcarpet": [
                      {
                        "colorbar": {
                          "outlinewidth": 0,
                          "ticks": ""
                        },
                        "type": "contourcarpet"
                      }
                    ],
                    "heatmap": [
                      {
                        "colorbar": {
                          "outlinewidth": 0,
                          "ticks": ""
                        },
                        "colorscale": [
                          [
                            0,
                            "#0d0887"
                          ],
                          [
                            0.1111111111111111,
                            "#46039f"
                          ],
                          [
                            0.2222222222222222,
                            "#7201a8"
                          ],
                          [
                            0.3333333333333333,
                            "#9c179e"
                          ],
                          [
                            0.4444444444444444,
                            "#bd3786"
                          ],
                          [
                            0.5555555555555556,
                            "#d8576b"
                          ],
                          [
                            0.6666666666666666,
                            "#ed7953"
                          ],
                          [
                            0.7777777777777778,
                            "#fb9f3a"
                          ],
                          [
                            0.8888888888888888,
                            "#fdca26"
                          ],
                          [
                            1,
                            "#f0f921"
                          ]
                        ],
                        "type": "heatmap"
                      }
                    ],
                    "heatmapgl": [
                      {
                        "colorbar": {
                          "outlinewidth": 0,
                          "ticks": ""
                        },
                        "colorscale": [
                          [
                            0,
                            "#0d0887"
                          ],
                          [
                            0.1111111111111111,
                            "#46039f"
                          ],
                          [
                            0.2222222222222222,
                            "#7201a8"
                          ],
                          [
                            0.3333333333333333,
                            "#9c179e"
                          ],
                          [
                            0.4444444444444444,
                            "#bd3786"
                          ],
                          [
                            0.5555555555555556,
                            "#d8576b"
                          ],
                          [
                            0.6666666666666666,
                            "#ed7953"
                          ],
                          [
                            0.7777777777777778,
                            "#fb9f3a"
                          ],
                          [
                            0.8888888888888888,
                            "#fdca26"
                          ],
                          [
                            1,
                            "#f0f921"
                          ]
                        ],
                        "type": "heatmapgl"
                      }
                    ],
                    "histogram": [
                      {
                        "marker": {
                          "pattern": {
                            "fillmode": "overlay",
                            "size": 10,
                            "solidity": 0.2
                          }
                        },
                        "type": "histogram"
                      }
                    ],
                    "histogram2d": [
                      {
                        "colorbar": {
                          "outlinewidth": 0,
                          "ticks": ""
                        },
                        "colorscale": [
                          [
                            0,
                            "#0d0887"
                          ],
                          [
                            0.1111111111111111,
                            "#46039f"
                          ],
                          [
                            0.2222222222222222,
                            "#7201a8"
                          ],
                          [
                            0.3333333333333333,
                            "#9c179e"
                          ],
                          [
                            0.4444444444444444,
                            "#bd3786"
                          ],
                          [
                            0.5555555555555556,
                            "#d8576b"
                          ],
                          [
                            0.6666666666666666,
                            "#ed7953"
                          ],
                          [
                            0.7777777777777778,
                            "#fb9f3a"
                          ],
                          [
                            0.8888888888888888,
                            "#fdca26"
                          ],
                          [
                            1,
                            "#f0f921"
                          ]
                        ],
                        "type": "histogram2d"
                      }
                    ],
                    "histogram2dcontour": [
                      {
                        "colorbar": {
                          "outlinewidth": 0,
                          "ticks": ""
                        },
                        "colorscale": [
                          [
                            0,
                            "#0d0887"
                          ],
                          [
                            0.1111111111111111,
                            "#46039f"
                          ],
                          [
                            0.2222222222222222,
                            "#7201a8"
                          ],
                          [
                            0.3333333333333333,
                            "#9c179e"
                          ],
                          [
                            0.4444444444444444,
                            "#bd3786"
                          ],
                          [
                            0.5555555555555556,
                            "#d8576b"
                          ],
                          [
                            0.6666666666666666,
                            "#ed7953"
                          ],
                          [
                            0.7777777777777778,
                            "#fb9f3a"
                          ],
                          [
                            0.8888888888888888,
                            "#fdca26"
                          ],
                          [
                            1,
                            "#f0f921"
                          ]
                        ],
                        "type": "histogram2dcontour"
                      }
                    ],
                    "mesh3d": [
                      {
                        "colorbar": {
                          "outlinewidth": 0,
                          "ticks": ""
                        },
                        "type": "mesh3d"
                      }
                    ],
                    "parcoords": [
                      {
                        "line": {
                          "colorbar": {
                            "outlinewidth": 0,
                            "ticks": ""
                          }
                        },
                        "type": "parcoords"
                      }
                    ],
                    "pie": [
                      {
                        "automargin": true,
                        "type": "pie"
                      }
                    ],
                    "scatter": [
                      {
                        "fillpattern": {
                          "fillmode": "overlay",
                          "size": 10,
                          "solidity": 0.2
                        },
                        "type": "scatter"
                      }
                    ],
                    "scatter3d": [
                      {
                        "line": {
                          "colorbar": {
                            "outlinewidth": 0,
                            "ticks": ""
                          }
                        },
                        "marker": {
                          "colorbar": {
                            "outlinewidth": 0,
                            "ticks": ""
                          }
                        },
                        "type": "scatter3d"
                      }
                    ],
                    "scattercarpet": [
                      {
                        "marker": {
                          "colorbar": {
                            "outlinewidth": 0,
                            "ticks": ""
                          }
                        },
                        "type": "scattercarpet"
                      }
                    ],
                    "scattergeo": [
                      {
                        "marker": {
                          "colorbar": {
                            "outlinewidth": 0,
                            "ticks": ""
                          }
                        },
                        "type": "scattergeo"
                      }
                    ],
                    "scattergl": [
                      {
                        "marker": {
                          "colorbar": {
                            "outlinewidth": 0,
                            "ticks": ""
                          }
                        },
                        "type": "scattergl"
                      }
                    ],
                    "scattermapbox": [
                      {
                        "marker": {
                          "colorbar": {
                            "outlinewidth": 0,
                            "ticks": ""
                          }
                        },
                        "type": "scattermapbox"
                      }
                    ],
                    "scatterpolar": [
                      {
                        "marker": {
                          "colorbar": {
                            "outlinewidth": 0,
                            "ticks": ""
                          }
                        },
                        "type": "scatterpolar"
                      }
                    ],
                    "scatterpolargl": [
                      {
                        "marker": {
                          "colorbar": {
                            "outlinewidth": 0,
                            "ticks": ""
                          }
                        },
                        "type": "scatterpolargl"
                      }
                    ],
                    "scatterternary": [
                      {
                        "marker": {
                          "colorbar": {
                            "outlinewidth": 0,
                            "ticks": ""
                          }
                        },
                        "type": "scatterternary"
                      }
                    ],
                    "surface": [
                      {
                        "colorbar": {
                          "outlinewidth": 0,
                          "ticks": ""
                        },
                        "colorscale": [
                          [
                            0,
                            "#0d0887"
                          ],
                          [
                            0.1111111111111111,
                            "#46039f"
                          ],
                          [
                            0.2222222222222222,
                            "#7201a8"
                          ],
                          [
                            0.3333333333333333,
                            "#9c179e"
                          ],
                          [
                            0.4444444444444444,
                            "#bd3786"
                          ],
                          [
                            0.5555555555555556,
                            "#d8576b"
                          ],
                          [
                            0.6666666666666666,
                            "#ed7953"
                          ],
                          [
                            0.7777777777777778,
                            "#fb9f3a"
                          ],
                          [
                            0.8888888888888888,
                            "#fdca26"
                          ],
                          [
                            1,
                            "#f0f921"
                          ]
                        ],
                        "type": "surface"
                      }
                    ],
                    "table": [
                      {
                        "cells": {
                          "fill": {
                            "color": "#EBF0F8"
                          },
                          "line": {
                            "color": "white"
                          }
                        },
                        "header": {
                          "fill": {
                            "color": "#C8D4E3"
                          },
                          "line": {
                            "color": "white"
                          }
                        },
                        "type": "table"
                      }
                    ]
                  },
                  "layout": {
                    "annotationdefaults": {
                      "arrowcolor": "#2a3f5f",
                      "arrowhead": 0,
                      "arrowwidth": 1
                    },
                    "autotypenumbers": "strict",
                    "coloraxis": {
                      "colorbar": {
                        "outlinewidth": 0,
                        "ticks": ""
                      }
                    },
                    "colorscale": {
                      "diverging": [
                        [
                          0,
                          "#8e0152"
                        ],
                        [
                          0.1,
                          "#c51b7d"
                        ],
                        [
                          0.2,
                          "#de77ae"
                        ],
                        [
                          0.3,
                          "#f1b6da"
                        ],
                        [
                          0.4,
                          "#fde0ef"
                        ],
                        [
                          0.5,
                          "#f7f7f7"
                        ],
                        [
                          0.6,
                          "#e6f5d0"
                        ],
                        [
                          0.7,
                          "#b8e186"
                        ],
                        [
                          0.8,
                          "#7fbc41"
                        ],
                        [
                          0.9,
                          "#4d9221"
                        ],
                        [
                          1,
                          "#276419"
                        ]
                      ],
                      "sequential": [
                        [
                          0,
                          "#0d0887"
                        ],
                        [
                          0.1111111111111111,
                          "#46039f"
                        ],
                        [
                          0.2222222222222222,
                          "#7201a8"
                        ],
                        [
                          0.3333333333333333,
                          "#9c179e"
                        ],
                        [
                          0.4444444444444444,
                          "#bd3786"
                        ],
                        [
                          0.5555555555555556,
                          "#d8576b"
                        ],
                        [
                          0.6666666666666666,
                          "#ed7953"
                        ],
                        [
                          0.7777777777777778,
                          "#fb9f3a"
                        ],
                        [
                          0.8888888888888888,
                          "#fdca26"
                        ],
                        [
                          1,
                          "#f0f921"
                        ]
                      ],
                      "sequentialminus": [
                        [
                          0,
                          "#0d0887"
                        ],
                        [
                          0.1111111111111111,
                          "#46039f"
                        ],
                        [
                          0.2222222222222222,
                          "#7201a8"
                        ],
                        [
                          0.3333333333333333,
                          "#9c179e"
                        ],
                        [
                          0.4444444444444444,
                          "#bd3786"
                        ],
                        [
                          0.5555555555555556,
                          "#d8576b"
                        ],
                        [
                          0.6666666666666666,
                          "#ed7953"
                        ],
                        [
                          0.7777777777777778,
                          "#fb9f3a"
                        ],
                        [
                          0.8888888888888888,
                          "#fdca26"
                        ],
                        [
                          1,
                          "#f0f921"
                        ]
                      ]
                    },
                    "colorway": [
                      "#636efa",
                      "#EF553B",
                      "#00cc96",
                      "#ab63fa",
                      "#FFA15A",
                      "#19d3f3",
                      "#FF6692",
                      "#B6E880",
                      "#FF97FF",
                      "#FECB52"
                    ],
                    "font": {
                      "color": "#2a3f5f"
                    },
                    "geo": {
                      "bgcolor": "white",
                      "lakecolor": "white",
                      "landcolor": "#E5ECF6",
                      "showlakes": true,
                      "showland": true,
                      "subunitcolor": "white"
                    },
                    "hoverlabel": {
                      "align": "left"
                    },
                    "hovermode": "closest",
                    "mapbox": {
                      "style": "light"
                    },
                    "paper_bgcolor": "white",
                    "plot_bgcolor": "#E5ECF6",
                    "polar": {
                      "angularaxis": {
                        "gridcolor": "white",
                        "linecolor": "white",
                        "ticks": ""
                      },
                      "bgcolor": "#E5ECF6",
                      "radialaxis": {
                        "gridcolor": "white",
                        "linecolor": "white",
                        "ticks": ""
                      }
                    },
                    "scene": {
                      "xaxis": {
                        "backgroundcolor": "#E5ECF6",
                        "gridcolor": "white",
                        "gridwidth": 2,
                        "linecolor": "white",
                        "showbackground": true,
                        "ticks": "",
                        "zerolinecolor": "white"
                      },
                      "yaxis": {
                        "backgroundcolor": "#E5ECF6",
                        "gridcolor": "white",
                        "gridwidth": 2,
                        "linecolor": "white",
                        "showbackground": true,
                        "ticks": "",
                        "zerolinecolor": "white"
                      },
                      "zaxis": {
                        "backgroundcolor": "#E5ECF6",
                        "gridcolor": "white",
                        "gridwidth": 2,
                        "linecolor": "white",
                        "showbackground": true,
                        "ticks": "",
                        "zerolinecolor": "white"
                      }
                    },
                    "shapedefaults": {
                      "line": {
                        "color": "#2a3f5f"
                      }
                    },
                    "ternary": {
                      "aaxis": {
                        "gridcolor": "white",
                        "linecolor": "white",
                        "ticks": ""
                      },
                      "baxis": {
                        "gridcolor": "white",
                        "linecolor": "white",
                        "ticks": ""
                      },
                      "bgcolor": "#E5ECF6",
                      "caxis": {
                        "gridcolor": "white",
                        "linecolor": "white",
                        "ticks": ""
                      }
                    },
                    "title": {
                      "x": 0.05
                    },
                    "xaxis": {
                      "automargin": true,
                      "gridcolor": "white",
                      "linecolor": "white",
                      "ticks": "",
                      "title": {
                        "standoff": 15
                      },
                      "zerolinecolor": "white",
                      "zerolinewidth": 2
                    },
                    "yaxis": {
                      "automargin": true,
                      "gridcolor": "white",
                      "linecolor": "white",
                      "ticks": "",
                      "title": {
                        "standoff": 15
                      },
                      "zerolinecolor": "white",
                      "zerolinewidth": 2
                    }
                  }
                },
                "title": {
                  "text": "Launch price"
                },
                "xaxis": {
                  "anchor": "y",
                  "domain": [
                    0,
                    1
                  ],
                  "title": {
                    "text": "Price [mln]"
                  }
                },
                "yaxis": {
                  "anchor": "x",
                  "domain": [
                    0,
                    1
                  ],
                  "title": {
                    "text": "count"
                  }
                }
              }
            }
          },
          "metadata": {},
          "output_type": "display_data"
        }
      ],
      "source": [
        "fig_price = px.histogram(\n",
        "    data_frame= df_price,\n",
        "    x = 'Price',\n",
        "    nbins= 250,\n",
        "    title= 'Launch price',\n",
        "    labels={'Price': 'Price [mln]', 'count': 'Count'},  \n",
        ")\n",
        "\n",
        "fig_price.update_layout(bargap=0.01)\n",
        "\n",
        "fig_price.show()"
      ]
    },
    {
      "cell_type": "code",
      "execution_count": 15,
      "metadata": {},
      "outputs": [],
      "source": [
        "df_price_small = df_price[df_price['Price'] < 1000] "
      ]
    },
    {
      "cell_type": "code",
      "execution_count": 16,
      "metadata": {},
      "outputs": [
        {
          "data": {
            "application/vnd.plotly.v1+json": {
              "config": {
                "plotlyServerURL": "https://plot.ly"
              },
              "data": [
                {
                  "alignmentgroup": "True",
                  "bingroup": "x",
                  "hovertemplate": "Price [mln]=%{x}<br>count=%{y}<extra></extra>",
                  "legendgroup": "",
                  "marker": {
                    "color": "#636efa",
                    "pattern": {
                      "shape": ""
                    }
                  },
                  "name": "",
                  "nbinsx": 20,
                  "offsetgroup": "",
                  "orientation": "v",
                  "showlegend": false,
                  "type": "histogram",
                  "x": [
                    50,
                    29.75,
                    65,
                    145,
                    64.68,
                    48.5,
                    50,
                    90,
                    46,
                    28.3,
                    29.15,
                    29.75,
                    7.5,
                    64.68,
                    50,
                    29.15,
                    29.75,
                    50,
                    7.5,
                    30.8,
                    50,
                    29.75,
                    50,
                    5.3,
                    12,
                    112.5,
                    120,
                    48.5,
                    50,
                    29.15,
                    48.5,
                    153,
                    30.8,
                    48.5,
                    50,
                    29.15,
                    50,
                    48.5,
                    29.75,
                    200,
                    50,
                    85,
                    115,
                    90,
                    48.5,
                    7.5,
                    50,
                    50,
                    200,
                    29.75,
                    29.15,
                    50,
                    41.8,
                    65,
                    64.68,
                    50,
                    21,
                    48.5,
                    48.5,
                    7.5,
                    50,
                    64.68,
                    31,
                    200,
                    50,
                    29.15,
                    64.68,
                    85,
                    29.15,
                    7.5,
                    40,
                    65,
                    64.68,
                    48.5,
                    29.75,
                    112.5,
                    5.3,
                    64.68,
                    41.8,
                    164,
                    48.5,
                    7.5,
                    29.15,
                    7.5,
                    153,
                    50,
                    200,
                    65,
                    48.5,
                    48.5,
                    30.8,
                    50,
                    62,
                    65,
                    37,
                    7.5,
                    90,
                    29.15,
                    200,
                    50,
                    5.3,
                    65,
                    50,
                    64.68,
                    21,
                    7.5,
                    50,
                    64.68,
                    29.15,
                    85,
                    90,
                    48.5,
                    21,
                    29.15,
                    7.5,
                    37,
                    29.15,
                    50,
                    50,
                    200,
                    5.3,
                    350,
                    39,
                    50,
                    29.15,
                    48.5,
                    50,
                    5.3,
                    65,
                    47,
                    7.5,
                    29.15,
                    29.75,
                    50,
                    200,
                    50,
                    41.8,
                    21,
                    37,
                    29.75,
                    85,
                    50,
                    62,
                    7.5,
                    48.5,
                    29.15,
                    90,
                    30.8,
                    35,
                    64.68,
                    200,
                    153,
                    30.8,
                    50,
                    200,
                    112.5,
                    21,
                    50,
                    30.8,
                    37,
                    350,
                    50,
                    64.68,
                    50,
                    50,
                    48.5,
                    69.7,
                    30.8,
                    62,
                    30.8,
                    90,
                    69.7,
                    62,
                    29.75,
                    62,
                    85,
                    64.68,
                    50,
                    64.68,
                    109,
                    29.15,
                    5.3,
                    41.8,
                    62,
                    65,
                    153,
                    31,
                    64.68,
                    200,
                    62,
                    64.68,
                    62,
                    47,
                    29.75,
                    62,
                    145,
                    90,
                    62,
                    48.5,
                    90,
                    29.75,
                    48.5,
                    62,
                    200,
                    30.8,
                    7.5,
                    115,
                    5.3,
                    39,
                    29.75,
                    31,
                    29.75,
                    62,
                    30.8,
                    29.75,
                    62,
                    90,
                    62,
                    29.15,
                    29.75,
                    35,
                    30.8,
                    64.68,
                    85,
                    37,
                    45,
                    62,
                    123,
                    48.5,
                    41.8,
                    62,
                    90,
                    62,
                    29.75,
                    200,
                    30.8,
                    65,
                    145,
                    65,
                    62,
                    31,
                    46,
                    62,
                    109,
                    65,
                    62,
                    37,
                    48.5,
                    62,
                    200,
                    62,
                    62,
                    31,
                    29.15,
                    64.68,
                    48.5,
                    65,
                    62,
                    62,
                    200,
                    90,
                    7.5,
                    62,
                    47,
                    200,
                    62,
                    109,
                    29.15,
                    62,
                    90,
                    62,
                    37,
                    109,
                    62,
                    31,
                    200,
                    109,
                    62,
                    29.15,
                    29.75,
                    200,
                    29.75,
                    130,
                    40,
                    29.15,
                    112.5,
                    31,
                    37,
                    145,
                    29.75,
                    109,
                    5.3,
                    90,
                    85,
                    200,
                    25,
                    37,
                    115,
                    47,
                    62,
                    64.68,
                    200,
                    164,
                    29.75,
                    62,
                    64.68,
                    29.15,
                    123,
                    62,
                    64.68,
                    153,
                    31,
                    200,
                    62,
                    350,
                    65,
                    41.8,
                    64.68,
                    48.5,
                    62,
                    29.75,
                    62,
                    31,
                    62,
                    29.75,
                    48.5,
                    69.7,
                    48.5,
                    109,
                    65,
                    35,
                    31,
                    200,
                    62,
                    90,
                    41.8,
                    48.5,
                    109,
                    65,
                    200,
                    31,
                    56.5,
                    29.15,
                    62,
                    21,
                    109,
                    37,
                    200,
                    15,
                    109,
                    109,
                    123,
                    200,
                    31,
                    5.3,
                    41.8,
                    153,
                    47,
                    200,
                    112.5,
                    200,
                    109,
                    31,
                    56.5,
                    37,
                    200,
                    120,
                    56.5,
                    200,
                    56.5,
                    41.8,
                    31,
                    90,
                    29,
                    164,
                    123,
                    56.5,
                    56.5,
                    37,
                    90,
                    153,
                    56.5,
                    62,
                    145,
                    200,
                    350,
                    90,
                    29,
                    109,
                    80,
                    200,
                    31,
                    90,
                    56.5,
                    109,
                    200,
                    56.5,
                    109,
                    56.5,
                    109,
                    164,
                    56.5,
                    80,
                    41.8,
                    21,
                    29,
                    90,
                    41.8,
                    109,
                    164,
                    37,
                    56.5,
                    145,
                    31,
                    109,
                    200,
                    90,
                    164,
                    200,
                    109,
                    80,
                    56.5,
                    47,
                    41.8,
                    120,
                    56.5,
                    41.8,
                    29,
                    40,
                    109,
                    31,
                    56.5,
                    140,
                    80,
                    41.8,
                    55,
                    200,
                    350,
                    29,
                    112.5,
                    200,
                    153,
                    65,
                    31,
                    40,
                    109,
                    37,
                    80,
                    109,
                    59.5,
                    21,
                    109,
                    200,
                    109,
                    90,
                    41.8,
                    200,
                    120,
                    80,
                    200,
                    59.5,
                    164,
                    200,
                    109,
                    21,
                    109,
                    200,
                    41.8,
                    112.5,
                    200,
                    350,
                    109,
                    40,
                    59.5,
                    90,
                    200,
                    140,
                    31,
                    31,
                    153,
                    37,
                    80,
                    90,
                    145,
                    21,
                    46,
                    90,
                    200,
                    90,
                    29,
                    200,
                    153,
                    164,
                    31,
                    450,
                    40,
                    200,
                    450,
                    109,
                    200,
                    25,
                    115,
                    164,
                    120,
                    45,
                    450,
                    40,
                    41.8,
                    112.5,
                    350,
                    200,
                    47,
                    59.5,
                    200,
                    350,
                    46,
                    200,
                    46,
                    120,
                    41.8,
                    140,
                    200,
                    21,
                    200,
                    29,
                    29,
                    59.5,
                    41.8,
                    164,
                    200,
                    450,
                    90,
                    120,
                    47,
                    29,
                    450,
                    164,
                    109,
                    450,
                    90,
                    130,
                    450,
                    41.8,
                    200,
                    450,
                    109,
                    200,
                    21,
                    112.5,
                    109,
                    450,
                    200,
                    29,
                    450,
                    7,
                    41.8,
                    200,
                    164,
                    123,
                    40,
                    200,
                    450,
                    21,
                    123,
                    41.8,
                    450,
                    45,
                    200,
                    90,
                    350,
                    200,
                    450,
                    29.75,
                    29.75,
                    29.15,
                    64.68,
                    31,
                    40,
                    29,
                    7,
                    29,
                    200,
                    7,
                    200,
                    200,
                    450,
                    64.68,
                    41.8,
                    21,
                    20.14,
                    200,
                    40,
                    123,
                    115,
                    450,
                    90,
                    450,
                    21,
                    109,
                    200,
                    64.68,
                    350,
                    450,
                    123,
                    64.68,
                    47,
                    200,
                    450,
                    29,
                    109,
                    29,
                    450,
                    69.7,
                    29.75,
                    29.15,
                    200,
                    40,
                    40,
                    21,
                    29,
                    69.7,
                    30.8,
                    7,
                    200,
                    109,
                    69.7,
                    25,
                    40,
                    450,
                    200,
                    69.7,
                    133,
                    64.68,
                    200,
                    69.7,
                    90,
                    450,
                    30.8,
                    200,
                    41.8,
                    29,
                    29,
                    47,
                    450,
                    164,
                    200,
                    164,
                    64.68,
                    115,
                    40,
                    40,
                    7,
                    200,
                    153,
                    200,
                    41.8,
                    40,
                    29.75,
                    41.8,
                    29,
                    109,
                    30.8,
                    450,
                    29.75,
                    25,
                    40,
                    40,
                    130,
                    200,
                    350,
                    190,
                    135,
                    30.8,
                    48.5,
                    64.68,
                    69.7,
                    29.75,
                    47,
                    64.68,
                    30.8,
                    30.8,
                    190,
                    29,
                    45,
                    30.8,
                    190,
                    30.8,
                    69.7,
                    29.75,
                    41.8,
                    64.68,
                    35,
                    25,
                    133,
                    40,
                    135,
                    41.8,
                    40,
                    69.7,
                    109,
                    47,
                    40,
                    133,
                    40,
                    450,
                    35,
                    29,
                    90,
                    200,
                    450,
                    164,
                    64.68,
                    450,
                    25,
                    109,
                    35,
                    41.8,
                    450,
                    64.68,
                    450,
                    41.8,
                    450,
                    40,
                    450,
                    25,
                    45,
                    90,
                    450,
                    450,
                    450,
                    47,
                    450,
                    450,
                    69.7,
                    450,
                    69.7,
                    450,
                    40,
                    29,
                    35,
                    450,
                    40,
                    40,
                    450,
                    41.8,
                    45,
                    450,
                    40,
                    69.7,
                    45,
                    450,
                    35,
                    40,
                    64.68,
                    450,
                    35,
                    30.8,
                    25,
                    450,
                    40,
                    64.68,
                    29,
                    40,
                    30.8,
                    40,
                    450,
                    450,
                    40,
                    45,
                    40,
                    30.8,
                    40,
                    450,
                    35,
                    30.8,
                    450,
                    40,
                    30.8,
                    40,
                    45,
                    450,
                    40,
                    30.8,
                    450,
                    40,
                    25,
                    450,
                    30.8,
                    40,
                    450,
                    40,
                    450,
                    450,
                    69.7,
                    40,
                    450,
                    35,
                    450,
                    450,
                    450,
                    40,
                    29.75,
                    450,
                    40,
                    40,
                    450,
                    450,
                    40,
                    450,
                    25,
                    40,
                    450,
                    450,
                    450,
                    20,
                    450,
                    450,
                    450,
                    450,
                    40,
                    40,
                    450,
                    450,
                    69.7,
                    450,
                    25,
                    450,
                    450,
                    40,
                    450,
                    29.75,
                    40,
                    40,
                    450,
                    45,
                    450,
                    69.7,
                    450,
                    35,
                    450,
                    450,
                    30.8,
                    35,
                    25,
                    450,
                    450,
                    450,
                    40,
                    450,
                    40,
                    450,
                    450,
                    450,
                    30.8,
                    136.6,
                    450,
                    29.75,
                    450,
                    450,
                    450,
                    35,
                    450,
                    450,
                    450,
                    450,
                    450,
                    40,
                    450,
                    450,
                    450,
                    450,
                    450,
                    450,
                    30.8,
                    136.6,
                    450,
                    40,
                    136.6,
                    450,
                    450,
                    136.6,
                    450,
                    450,
                    35,
                    450,
                    450,
                    450,
                    450,
                    450,
                    35,
                    30.8,
                    30.8,
                    30.8,
                    30.8,
                    450,
                    450,
                    450,
                    450,
                    30.8,
                    450,
                    450,
                    450,
                    450,
                    450,
                    450,
                    450,
                    450,
                    450,
                    30.8,
                    450,
                    450,
                    450,
                    450,
                    450,
                    30.8,
                    450,
                    450,
                    450,
                    30.8,
                    450,
                    450,
                    450,
                    450,
                    59,
                    59,
                    59,
                    59,
                    59,
                    59,
                    59,
                    59,
                    59,
                    59,
                    59,
                    59,
                    59,
                    59,
                    59,
                    59,
                    59,
                    59,
                    59,
                    59,
                    59,
                    59,
                    63.23,
                    63.23,
                    63.23,
                    63.23
                  ],
                  "xaxis": "x",
                  "yaxis": "y"
                }
              ],
              "layout": {
                "bargap": 0.01,
                "barmode": "relative",
                "legend": {
                  "tracegroupgap": 0
                },
                "template": {
                  "data": {
                    "bar": [
                      {
                        "error_x": {
                          "color": "#2a3f5f"
                        },
                        "error_y": {
                          "color": "#2a3f5f"
                        },
                        "marker": {
                          "line": {
                            "color": "#E5ECF6",
                            "width": 0.5
                          },
                          "pattern": {
                            "fillmode": "overlay",
                            "size": 10,
                            "solidity": 0.2
                          }
                        },
                        "type": "bar"
                      }
                    ],
                    "barpolar": [
                      {
                        "marker": {
                          "line": {
                            "color": "#E5ECF6",
                            "width": 0.5
                          },
                          "pattern": {
                            "fillmode": "overlay",
                            "size": 10,
                            "solidity": 0.2
                          }
                        },
                        "type": "barpolar"
                      }
                    ],
                    "carpet": [
                      {
                        "aaxis": {
                          "endlinecolor": "#2a3f5f",
                          "gridcolor": "white",
                          "linecolor": "white",
                          "minorgridcolor": "white",
                          "startlinecolor": "#2a3f5f"
                        },
                        "baxis": {
                          "endlinecolor": "#2a3f5f",
                          "gridcolor": "white",
                          "linecolor": "white",
                          "minorgridcolor": "white",
                          "startlinecolor": "#2a3f5f"
                        },
                        "type": "carpet"
                      }
                    ],
                    "choropleth": [
                      {
                        "colorbar": {
                          "outlinewidth": 0,
                          "ticks": ""
                        },
                        "type": "choropleth"
                      }
                    ],
                    "contour": [
                      {
                        "colorbar": {
                          "outlinewidth": 0,
                          "ticks": ""
                        },
                        "colorscale": [
                          [
                            0,
                            "#0d0887"
                          ],
                          [
                            0.1111111111111111,
                            "#46039f"
                          ],
                          [
                            0.2222222222222222,
                            "#7201a8"
                          ],
                          [
                            0.3333333333333333,
                            "#9c179e"
                          ],
                          [
                            0.4444444444444444,
                            "#bd3786"
                          ],
                          [
                            0.5555555555555556,
                            "#d8576b"
                          ],
                          [
                            0.6666666666666666,
                            "#ed7953"
                          ],
                          [
                            0.7777777777777778,
                            "#fb9f3a"
                          ],
                          [
                            0.8888888888888888,
                            "#fdca26"
                          ],
                          [
                            1,
                            "#f0f921"
                          ]
                        ],
                        "type": "contour"
                      }
                    ],
                    "contourcarpet": [
                      {
                        "colorbar": {
                          "outlinewidth": 0,
                          "ticks": ""
                        },
                        "type": "contourcarpet"
                      }
                    ],
                    "heatmap": [
                      {
                        "colorbar": {
                          "outlinewidth": 0,
                          "ticks": ""
                        },
                        "colorscale": [
                          [
                            0,
                            "#0d0887"
                          ],
                          [
                            0.1111111111111111,
                            "#46039f"
                          ],
                          [
                            0.2222222222222222,
                            "#7201a8"
                          ],
                          [
                            0.3333333333333333,
                            "#9c179e"
                          ],
                          [
                            0.4444444444444444,
                            "#bd3786"
                          ],
                          [
                            0.5555555555555556,
                            "#d8576b"
                          ],
                          [
                            0.6666666666666666,
                            "#ed7953"
                          ],
                          [
                            0.7777777777777778,
                            "#fb9f3a"
                          ],
                          [
                            0.8888888888888888,
                            "#fdca26"
                          ],
                          [
                            1,
                            "#f0f921"
                          ]
                        ],
                        "type": "heatmap"
                      }
                    ],
                    "heatmapgl": [
                      {
                        "colorbar": {
                          "outlinewidth": 0,
                          "ticks": ""
                        },
                        "colorscale": [
                          [
                            0,
                            "#0d0887"
                          ],
                          [
                            0.1111111111111111,
                            "#46039f"
                          ],
                          [
                            0.2222222222222222,
                            "#7201a8"
                          ],
                          [
                            0.3333333333333333,
                            "#9c179e"
                          ],
                          [
                            0.4444444444444444,
                            "#bd3786"
                          ],
                          [
                            0.5555555555555556,
                            "#d8576b"
                          ],
                          [
                            0.6666666666666666,
                            "#ed7953"
                          ],
                          [
                            0.7777777777777778,
                            "#fb9f3a"
                          ],
                          [
                            0.8888888888888888,
                            "#fdca26"
                          ],
                          [
                            1,
                            "#f0f921"
                          ]
                        ],
                        "type": "heatmapgl"
                      }
                    ],
                    "histogram": [
                      {
                        "marker": {
                          "pattern": {
                            "fillmode": "overlay",
                            "size": 10,
                            "solidity": 0.2
                          }
                        },
                        "type": "histogram"
                      }
                    ],
                    "histogram2d": [
                      {
                        "colorbar": {
                          "outlinewidth": 0,
                          "ticks": ""
                        },
                        "colorscale": [
                          [
                            0,
                            "#0d0887"
                          ],
                          [
                            0.1111111111111111,
                            "#46039f"
                          ],
                          [
                            0.2222222222222222,
                            "#7201a8"
                          ],
                          [
                            0.3333333333333333,
                            "#9c179e"
                          ],
                          [
                            0.4444444444444444,
                            "#bd3786"
                          ],
                          [
                            0.5555555555555556,
                            "#d8576b"
                          ],
                          [
                            0.6666666666666666,
                            "#ed7953"
                          ],
                          [
                            0.7777777777777778,
                            "#fb9f3a"
                          ],
                          [
                            0.8888888888888888,
                            "#fdca26"
                          ],
                          [
                            1,
                            "#f0f921"
                          ]
                        ],
                        "type": "histogram2d"
                      }
                    ],
                    "histogram2dcontour": [
                      {
                        "colorbar": {
                          "outlinewidth": 0,
                          "ticks": ""
                        },
                        "colorscale": [
                          [
                            0,
                            "#0d0887"
                          ],
                          [
                            0.1111111111111111,
                            "#46039f"
                          ],
                          [
                            0.2222222222222222,
                            "#7201a8"
                          ],
                          [
                            0.3333333333333333,
                            "#9c179e"
                          ],
                          [
                            0.4444444444444444,
                            "#bd3786"
                          ],
                          [
                            0.5555555555555556,
                            "#d8576b"
                          ],
                          [
                            0.6666666666666666,
                            "#ed7953"
                          ],
                          [
                            0.7777777777777778,
                            "#fb9f3a"
                          ],
                          [
                            0.8888888888888888,
                            "#fdca26"
                          ],
                          [
                            1,
                            "#f0f921"
                          ]
                        ],
                        "type": "histogram2dcontour"
                      }
                    ],
                    "mesh3d": [
                      {
                        "colorbar": {
                          "outlinewidth": 0,
                          "ticks": ""
                        },
                        "type": "mesh3d"
                      }
                    ],
                    "parcoords": [
                      {
                        "line": {
                          "colorbar": {
                            "outlinewidth": 0,
                            "ticks": ""
                          }
                        },
                        "type": "parcoords"
                      }
                    ],
                    "pie": [
                      {
                        "automargin": true,
                        "type": "pie"
                      }
                    ],
                    "scatter": [
                      {
                        "fillpattern": {
                          "fillmode": "overlay",
                          "size": 10,
                          "solidity": 0.2
                        },
                        "type": "scatter"
                      }
                    ],
                    "scatter3d": [
                      {
                        "line": {
                          "colorbar": {
                            "outlinewidth": 0,
                            "ticks": ""
                          }
                        },
                        "marker": {
                          "colorbar": {
                            "outlinewidth": 0,
                            "ticks": ""
                          }
                        },
                        "type": "scatter3d"
                      }
                    ],
                    "scattercarpet": [
                      {
                        "marker": {
                          "colorbar": {
                            "outlinewidth": 0,
                            "ticks": ""
                          }
                        },
                        "type": "scattercarpet"
                      }
                    ],
                    "scattergeo": [
                      {
                        "marker": {
                          "colorbar": {
                            "outlinewidth": 0,
                            "ticks": ""
                          }
                        },
                        "type": "scattergeo"
                      }
                    ],
                    "scattergl": [
                      {
                        "marker": {
                          "colorbar": {
                            "outlinewidth": 0,
                            "ticks": ""
                          }
                        },
                        "type": "scattergl"
                      }
                    ],
                    "scattermapbox": [
                      {
                        "marker": {
                          "colorbar": {
                            "outlinewidth": 0,
                            "ticks": ""
                          }
                        },
                        "type": "scattermapbox"
                      }
                    ],
                    "scatterpolar": [
                      {
                        "marker": {
                          "colorbar": {
                            "outlinewidth": 0,
                            "ticks": ""
                          }
                        },
                        "type": "scatterpolar"
                      }
                    ],
                    "scatterpolargl": [
                      {
                        "marker": {
                          "colorbar": {
                            "outlinewidth": 0,
                            "ticks": ""
                          }
                        },
                        "type": "scatterpolargl"
                      }
                    ],
                    "scatterternary": [
                      {
                        "marker": {
                          "colorbar": {
                            "outlinewidth": 0,
                            "ticks": ""
                          }
                        },
                        "type": "scatterternary"
                      }
                    ],
                    "surface": [
                      {
                        "colorbar": {
                          "outlinewidth": 0,
                          "ticks": ""
                        },
                        "colorscale": [
                          [
                            0,
                            "#0d0887"
                          ],
                          [
                            0.1111111111111111,
                            "#46039f"
                          ],
                          [
                            0.2222222222222222,
                            "#7201a8"
                          ],
                          [
                            0.3333333333333333,
                            "#9c179e"
                          ],
                          [
                            0.4444444444444444,
                            "#bd3786"
                          ],
                          [
                            0.5555555555555556,
                            "#d8576b"
                          ],
                          [
                            0.6666666666666666,
                            "#ed7953"
                          ],
                          [
                            0.7777777777777778,
                            "#fb9f3a"
                          ],
                          [
                            0.8888888888888888,
                            "#fdca26"
                          ],
                          [
                            1,
                            "#f0f921"
                          ]
                        ],
                        "type": "surface"
                      }
                    ],
                    "table": [
                      {
                        "cells": {
                          "fill": {
                            "color": "#EBF0F8"
                          },
                          "line": {
                            "color": "white"
                          }
                        },
                        "header": {
                          "fill": {
                            "color": "#C8D4E3"
                          },
                          "line": {
                            "color": "white"
                          }
                        },
                        "type": "table"
                      }
                    ]
                  },
                  "layout": {
                    "annotationdefaults": {
                      "arrowcolor": "#2a3f5f",
                      "arrowhead": 0,
                      "arrowwidth": 1
                    },
                    "autotypenumbers": "strict",
                    "coloraxis": {
                      "colorbar": {
                        "outlinewidth": 0,
                        "ticks": ""
                      }
                    },
                    "colorscale": {
                      "diverging": [
                        [
                          0,
                          "#8e0152"
                        ],
                        [
                          0.1,
                          "#c51b7d"
                        ],
                        [
                          0.2,
                          "#de77ae"
                        ],
                        [
                          0.3,
                          "#f1b6da"
                        ],
                        [
                          0.4,
                          "#fde0ef"
                        ],
                        [
                          0.5,
                          "#f7f7f7"
                        ],
                        [
                          0.6,
                          "#e6f5d0"
                        ],
                        [
                          0.7,
                          "#b8e186"
                        ],
                        [
                          0.8,
                          "#7fbc41"
                        ],
                        [
                          0.9,
                          "#4d9221"
                        ],
                        [
                          1,
                          "#276419"
                        ]
                      ],
                      "sequential": [
                        [
                          0,
                          "#0d0887"
                        ],
                        [
                          0.1111111111111111,
                          "#46039f"
                        ],
                        [
                          0.2222222222222222,
                          "#7201a8"
                        ],
                        [
                          0.3333333333333333,
                          "#9c179e"
                        ],
                        [
                          0.4444444444444444,
                          "#bd3786"
                        ],
                        [
                          0.5555555555555556,
                          "#d8576b"
                        ],
                        [
                          0.6666666666666666,
                          "#ed7953"
                        ],
                        [
                          0.7777777777777778,
                          "#fb9f3a"
                        ],
                        [
                          0.8888888888888888,
                          "#fdca26"
                        ],
                        [
                          1,
                          "#f0f921"
                        ]
                      ],
                      "sequentialminus": [
                        [
                          0,
                          "#0d0887"
                        ],
                        [
                          0.1111111111111111,
                          "#46039f"
                        ],
                        [
                          0.2222222222222222,
                          "#7201a8"
                        ],
                        [
                          0.3333333333333333,
                          "#9c179e"
                        ],
                        [
                          0.4444444444444444,
                          "#bd3786"
                        ],
                        [
                          0.5555555555555556,
                          "#d8576b"
                        ],
                        [
                          0.6666666666666666,
                          "#ed7953"
                        ],
                        [
                          0.7777777777777778,
                          "#fb9f3a"
                        ],
                        [
                          0.8888888888888888,
                          "#fdca26"
                        ],
                        [
                          1,
                          "#f0f921"
                        ]
                      ]
                    },
                    "colorway": [
                      "#636efa",
                      "#EF553B",
                      "#00cc96",
                      "#ab63fa",
                      "#FFA15A",
                      "#19d3f3",
                      "#FF6692",
                      "#B6E880",
                      "#FF97FF",
                      "#FECB52"
                    ],
                    "font": {
                      "color": "#2a3f5f"
                    },
                    "geo": {
                      "bgcolor": "white",
                      "lakecolor": "white",
                      "landcolor": "#E5ECF6",
                      "showlakes": true,
                      "showland": true,
                      "subunitcolor": "white"
                    },
                    "hoverlabel": {
                      "align": "left"
                    },
                    "hovermode": "closest",
                    "mapbox": {
                      "style": "light"
                    },
                    "paper_bgcolor": "white",
                    "plot_bgcolor": "#E5ECF6",
                    "polar": {
                      "angularaxis": {
                        "gridcolor": "white",
                        "linecolor": "white",
                        "ticks": ""
                      },
                      "bgcolor": "#E5ECF6",
                      "radialaxis": {
                        "gridcolor": "white",
                        "linecolor": "white",
                        "ticks": ""
                      }
                    },
                    "scene": {
                      "xaxis": {
                        "backgroundcolor": "#E5ECF6",
                        "gridcolor": "white",
                        "gridwidth": 2,
                        "linecolor": "white",
                        "showbackground": true,
                        "ticks": "",
                        "zerolinecolor": "white"
                      },
                      "yaxis": {
                        "backgroundcolor": "#E5ECF6",
                        "gridcolor": "white",
                        "gridwidth": 2,
                        "linecolor": "white",
                        "showbackground": true,
                        "ticks": "",
                        "zerolinecolor": "white"
                      },
                      "zaxis": {
                        "backgroundcolor": "#E5ECF6",
                        "gridcolor": "white",
                        "gridwidth": 2,
                        "linecolor": "white",
                        "showbackground": true,
                        "ticks": "",
                        "zerolinecolor": "white"
                      }
                    },
                    "shapedefaults": {
                      "line": {
                        "color": "#2a3f5f"
                      }
                    },
                    "ternary": {
                      "aaxis": {
                        "gridcolor": "white",
                        "linecolor": "white",
                        "ticks": ""
                      },
                      "baxis": {
                        "gridcolor": "white",
                        "linecolor": "white",
                        "ticks": ""
                      },
                      "bgcolor": "#E5ECF6",
                      "caxis": {
                        "gridcolor": "white",
                        "linecolor": "white",
                        "ticks": ""
                      }
                    },
                    "title": {
                      "x": 0.05
                    },
                    "xaxis": {
                      "automargin": true,
                      "gridcolor": "white",
                      "linecolor": "white",
                      "ticks": "",
                      "title": {
                        "standoff": 15
                      },
                      "zerolinecolor": "white",
                      "zerolinewidth": 2
                    },
                    "yaxis": {
                      "automargin": true,
                      "gridcolor": "white",
                      "linecolor": "white",
                      "ticks": "",
                      "title": {
                        "standoff": 15
                      },
                      "zerolinecolor": "white",
                      "zerolinewidth": 2
                    }
                  }
                },
                "title": {
                  "text": "Launch price"
                },
                "xaxis": {
                  "anchor": "y",
                  "domain": [
                    0,
                    1
                  ],
                  "title": {
                    "text": "Price [mln]"
                  }
                },
                "yaxis": {
                  "anchor": "x",
                  "domain": [
                    0,
                    1
                  ],
                  "title": {
                    "text": "count"
                  }
                }
              }
            }
          },
          "metadata": {},
          "output_type": "display_data"
        }
      ],
      "source": [
        "fig_price_small = px.histogram(\n",
        "    data_frame= df_price_small,\n",
        "    x = 'Price',\n",
        "    nbins= 20,\n",
        "    title= 'Launch price',\n",
        "    labels={'Price': 'Price [mln]', 'count': 'Count'},\n",
        ")\n",
        "\n",
        "fig_price_small.update_layout(bargap=0.01)\n",
        "\n",
        "mean_value = df_price_small['Price'].mean()\n",
        "\n",
        "fig_price_small.show()"
      ]
    },
    {
      "cell_type": "markdown",
      "metadata": {
        "id": "QiNtigQDne3E"
      },
      "source": [
        "# Number of Launches by Country\n"
      ]
    },
    {
      "cell_type": "code",
      "execution_count": 17,
      "metadata": {
        "id": "ESGRWiX6ozZG"
      },
      "outputs": [],
      "source": [
        "df_location = df_clean\n",
        "\n",
        "df_location[['Code', 'Base', 'Country', 'Country_Name']] = df_location['Location'].str.split(',', expand=True) "
      ]
    },
    {
      "cell_type": "code",
      "execution_count": 18,
      "metadata": {},
      "outputs": [],
      "source": [
        "df_location['Country_Name'] = df_location['Country_Name'].fillna(df_location['Country'])\n",
        "df_location['Country_Name'] = df_location['Country_Name'].fillna(df_location['Base'])\n",
        "\n",
        "df_location = df_location.drop(columns=['Country', 'Location', 'Base'])"
      ]
    },
    {
      "cell_type": "code",
      "execution_count": 19,
      "metadata": {},
      "outputs": [],
      "source": [
        "new_country_names = {\n",
        "    ' Russia': 'Russian Federation',\n",
        "    ' New Mexico': 'USA',\n",
        "    ' Yellow Sea': 'China',\n",
        "    ' Shahrud Missile Test Site': 'Iran',\n",
        "    ' Pacific Missile Range Facility': 'USA',\n",
        "    ' Barents Sea': 'Russian Federation',\n",
        "    ' Gran Canaria': 'USA',\n",
        "    ' Pacific Ocean': 'Kiribati'\n",
        "}\n",
        "\n",
        "df_location['Country_Name'] = df_location['Country_Name'].replace(new_country_names, regex=True)\n",
        "df_location['Country_Name'] = df_location['Country_Name'].str.lstrip()"
      ]
    },
    {
      "cell_type": "code",
      "execution_count": 20,
      "metadata": {},
      "outputs": [],
      "source": [
        "country_code = {country.name: country.alpha3 for country in countries}\n",
        "df_location['Country_Code'] = df_location['Country_Name'].map(country_code)\n",
        "\n",
        "df_location['Country_Code'] = df_location['Country_Code'].fillna(df_location['Country_Name'])"
      ]
    },
    {
      "cell_type": "code",
      "execution_count": 21,
      "metadata": {},
      "outputs": [],
      "source": [
        "missing_codes = {\n",
        "    'USA': 'USA',\n",
        "    'Iran': 'IRN',\n",
        "    'North Korea': 'PRK',\n",
        "    'South Korea': 'KOR'\n",
        "}\n",
        "\n",
        "df_location['Country_Code'] = df_location['Country_Code'].replace(missing_codes)"
      ]
    },
    {
      "cell_type": "code",
      "execution_count": 22,
      "metadata": {},
      "outputs": [],
      "source": [
        "df_location_count = df_location.groupby('Country_Code').agg({'Country_Name': 'first', 'Code': 'count'}).reset_index()\n",
        "df_location_count = df_location_count.rename(columns={'Code': 'Count'})"
      ]
    },
    {
      "cell_type": "code",
      "execution_count": 23,
      "metadata": {},
      "outputs": [
        {
          "data": {
            "application/vnd.plotly.v1+json": {
              "config": {
                "plotlyServerURL": "https://plot.ly"
              },
              "data": [
                {
                  "coloraxis": "coloraxis",
                  "geo": "geo",
                  "hovertemplate": "<b>%{hovertext}</b><br><br>Country Code=%{location}<br>Number of Launches=%{z}<extra></extra>",
                  "hovertext": [
                    "Australia",
                    "Brazil",
                    "China",
                    "France",
                    "India",
                    "Iran",
                    "Israel",
                    "Japan",
                    "Kazakhstan",
                    "Kenya",
                    "Kiribati",
                    "South Korea",
                    "New Zealand",
                    "North Korea",
                    "Russian Federation",
                    "USA"
                  ],
                  "locations": [
                    "AUS",
                    "BRA",
                    "CHN",
                    "FRA",
                    "IND",
                    "IRN",
                    "ISR",
                    "JPN",
                    "KAZ",
                    "KEN",
                    "KIR",
                    "KOR",
                    "NZL",
                    "PRK",
                    "RUS",
                    "USA"
                  ],
                  "name": "",
                  "type": "choropleth",
                  "z": [
                    6,
                    3,
                    269,
                    303,
                    76,
                    14,
                    11,
                    126,
                    701,
                    9,
                    36,
                    3,
                    13,
                    5,
                    1398,
                    1351
                  ]
                }
              ],
              "layout": {
                "coloraxis": {
                  "colorbar": {
                    "title": {
                      "text": "Number of Launches"
                    }
                  },
                  "colorscale": [
                    [
                      0,
                      "#440154"
                    ],
                    [
                      0.1111111111111111,
                      "#482878"
                    ],
                    [
                      0.2222222222222222,
                      "#3e4989"
                    ],
                    [
                      0.3333333333333333,
                      "#31688e"
                    ],
                    [
                      0.4444444444444444,
                      "#26828e"
                    ],
                    [
                      0.5555555555555556,
                      "#1f9e89"
                    ],
                    [
                      0.6666666666666666,
                      "#35b779"
                    ],
                    [
                      0.7777777777777778,
                      "#6ece58"
                    ],
                    [
                      0.8888888888888888,
                      "#b5de2b"
                    ],
                    [
                      1,
                      "#fde725"
                    ]
                  ]
                },
                "geo": {
                  "center": {},
                  "coastlinecolor": "white",
                  "domain": {
                    "x": [
                      0,
                      1
                    ],
                    "y": [
                      0,
                      1
                    ]
                  },
                  "landcolor": "lightgray",
                  "showcoastlines": true,
                  "showland": true
                },
                "legend": {
                  "tracegroupgap": 0
                },
                "template": {
                  "data": {
                    "bar": [
                      {
                        "error_x": {
                          "color": "#2a3f5f"
                        },
                        "error_y": {
                          "color": "#2a3f5f"
                        },
                        "marker": {
                          "line": {
                            "color": "#E5ECF6",
                            "width": 0.5
                          },
                          "pattern": {
                            "fillmode": "overlay",
                            "size": 10,
                            "solidity": 0.2
                          }
                        },
                        "type": "bar"
                      }
                    ],
                    "barpolar": [
                      {
                        "marker": {
                          "line": {
                            "color": "#E5ECF6",
                            "width": 0.5
                          },
                          "pattern": {
                            "fillmode": "overlay",
                            "size": 10,
                            "solidity": 0.2
                          }
                        },
                        "type": "barpolar"
                      }
                    ],
                    "carpet": [
                      {
                        "aaxis": {
                          "endlinecolor": "#2a3f5f",
                          "gridcolor": "white",
                          "linecolor": "white",
                          "minorgridcolor": "white",
                          "startlinecolor": "#2a3f5f"
                        },
                        "baxis": {
                          "endlinecolor": "#2a3f5f",
                          "gridcolor": "white",
                          "linecolor": "white",
                          "minorgridcolor": "white",
                          "startlinecolor": "#2a3f5f"
                        },
                        "type": "carpet"
                      }
                    ],
                    "choropleth": [
                      {
                        "colorbar": {
                          "outlinewidth": 0,
                          "ticks": ""
                        },
                        "type": "choropleth"
                      }
                    ],
                    "contour": [
                      {
                        "colorbar": {
                          "outlinewidth": 0,
                          "ticks": ""
                        },
                        "colorscale": [
                          [
                            0,
                            "#0d0887"
                          ],
                          [
                            0.1111111111111111,
                            "#46039f"
                          ],
                          [
                            0.2222222222222222,
                            "#7201a8"
                          ],
                          [
                            0.3333333333333333,
                            "#9c179e"
                          ],
                          [
                            0.4444444444444444,
                            "#bd3786"
                          ],
                          [
                            0.5555555555555556,
                            "#d8576b"
                          ],
                          [
                            0.6666666666666666,
                            "#ed7953"
                          ],
                          [
                            0.7777777777777778,
                            "#fb9f3a"
                          ],
                          [
                            0.8888888888888888,
                            "#fdca26"
                          ],
                          [
                            1,
                            "#f0f921"
                          ]
                        ],
                        "type": "contour"
                      }
                    ],
                    "contourcarpet": [
                      {
                        "colorbar": {
                          "outlinewidth": 0,
                          "ticks": ""
                        },
                        "type": "contourcarpet"
                      }
                    ],
                    "heatmap": [
                      {
                        "colorbar": {
                          "outlinewidth": 0,
                          "ticks": ""
                        },
                        "colorscale": [
                          [
                            0,
                            "#0d0887"
                          ],
                          [
                            0.1111111111111111,
                            "#46039f"
                          ],
                          [
                            0.2222222222222222,
                            "#7201a8"
                          ],
                          [
                            0.3333333333333333,
                            "#9c179e"
                          ],
                          [
                            0.4444444444444444,
                            "#bd3786"
                          ],
                          [
                            0.5555555555555556,
                            "#d8576b"
                          ],
                          [
                            0.6666666666666666,
                            "#ed7953"
                          ],
                          [
                            0.7777777777777778,
                            "#fb9f3a"
                          ],
                          [
                            0.8888888888888888,
                            "#fdca26"
                          ],
                          [
                            1,
                            "#f0f921"
                          ]
                        ],
                        "type": "heatmap"
                      }
                    ],
                    "heatmapgl": [
                      {
                        "colorbar": {
                          "outlinewidth": 0,
                          "ticks": ""
                        },
                        "colorscale": [
                          [
                            0,
                            "#0d0887"
                          ],
                          [
                            0.1111111111111111,
                            "#46039f"
                          ],
                          [
                            0.2222222222222222,
                            "#7201a8"
                          ],
                          [
                            0.3333333333333333,
                            "#9c179e"
                          ],
                          [
                            0.4444444444444444,
                            "#bd3786"
                          ],
                          [
                            0.5555555555555556,
                            "#d8576b"
                          ],
                          [
                            0.6666666666666666,
                            "#ed7953"
                          ],
                          [
                            0.7777777777777778,
                            "#fb9f3a"
                          ],
                          [
                            0.8888888888888888,
                            "#fdca26"
                          ],
                          [
                            1,
                            "#f0f921"
                          ]
                        ],
                        "type": "heatmapgl"
                      }
                    ],
                    "histogram": [
                      {
                        "marker": {
                          "pattern": {
                            "fillmode": "overlay",
                            "size": 10,
                            "solidity": 0.2
                          }
                        },
                        "type": "histogram"
                      }
                    ],
                    "histogram2d": [
                      {
                        "colorbar": {
                          "outlinewidth": 0,
                          "ticks": ""
                        },
                        "colorscale": [
                          [
                            0,
                            "#0d0887"
                          ],
                          [
                            0.1111111111111111,
                            "#46039f"
                          ],
                          [
                            0.2222222222222222,
                            "#7201a8"
                          ],
                          [
                            0.3333333333333333,
                            "#9c179e"
                          ],
                          [
                            0.4444444444444444,
                            "#bd3786"
                          ],
                          [
                            0.5555555555555556,
                            "#d8576b"
                          ],
                          [
                            0.6666666666666666,
                            "#ed7953"
                          ],
                          [
                            0.7777777777777778,
                            "#fb9f3a"
                          ],
                          [
                            0.8888888888888888,
                            "#fdca26"
                          ],
                          [
                            1,
                            "#f0f921"
                          ]
                        ],
                        "type": "histogram2d"
                      }
                    ],
                    "histogram2dcontour": [
                      {
                        "colorbar": {
                          "outlinewidth": 0,
                          "ticks": ""
                        },
                        "colorscale": [
                          [
                            0,
                            "#0d0887"
                          ],
                          [
                            0.1111111111111111,
                            "#46039f"
                          ],
                          [
                            0.2222222222222222,
                            "#7201a8"
                          ],
                          [
                            0.3333333333333333,
                            "#9c179e"
                          ],
                          [
                            0.4444444444444444,
                            "#bd3786"
                          ],
                          [
                            0.5555555555555556,
                            "#d8576b"
                          ],
                          [
                            0.6666666666666666,
                            "#ed7953"
                          ],
                          [
                            0.7777777777777778,
                            "#fb9f3a"
                          ],
                          [
                            0.8888888888888888,
                            "#fdca26"
                          ],
                          [
                            1,
                            "#f0f921"
                          ]
                        ],
                        "type": "histogram2dcontour"
                      }
                    ],
                    "mesh3d": [
                      {
                        "colorbar": {
                          "outlinewidth": 0,
                          "ticks": ""
                        },
                        "type": "mesh3d"
                      }
                    ],
                    "parcoords": [
                      {
                        "line": {
                          "colorbar": {
                            "outlinewidth": 0,
                            "ticks": ""
                          }
                        },
                        "type": "parcoords"
                      }
                    ],
                    "pie": [
                      {
                        "automargin": true,
                        "type": "pie"
                      }
                    ],
                    "scatter": [
                      {
                        "fillpattern": {
                          "fillmode": "overlay",
                          "size": 10,
                          "solidity": 0.2
                        },
                        "type": "scatter"
                      }
                    ],
                    "scatter3d": [
                      {
                        "line": {
                          "colorbar": {
                            "outlinewidth": 0,
                            "ticks": ""
                          }
                        },
                        "marker": {
                          "colorbar": {
                            "outlinewidth": 0,
                            "ticks": ""
                          }
                        },
                        "type": "scatter3d"
                      }
                    ],
                    "scattercarpet": [
                      {
                        "marker": {
                          "colorbar": {
                            "outlinewidth": 0,
                            "ticks": ""
                          }
                        },
                        "type": "scattercarpet"
                      }
                    ],
                    "scattergeo": [
                      {
                        "marker": {
                          "colorbar": {
                            "outlinewidth": 0,
                            "ticks": ""
                          }
                        },
                        "type": "scattergeo"
                      }
                    ],
                    "scattergl": [
                      {
                        "marker": {
                          "colorbar": {
                            "outlinewidth": 0,
                            "ticks": ""
                          }
                        },
                        "type": "scattergl"
                      }
                    ],
                    "scattermapbox": [
                      {
                        "marker": {
                          "colorbar": {
                            "outlinewidth": 0,
                            "ticks": ""
                          }
                        },
                        "type": "scattermapbox"
                      }
                    ],
                    "scatterpolar": [
                      {
                        "marker": {
                          "colorbar": {
                            "outlinewidth": 0,
                            "ticks": ""
                          }
                        },
                        "type": "scatterpolar"
                      }
                    ],
                    "scatterpolargl": [
                      {
                        "marker": {
                          "colorbar": {
                            "outlinewidth": 0,
                            "ticks": ""
                          }
                        },
                        "type": "scatterpolargl"
                      }
                    ],
                    "scatterternary": [
                      {
                        "marker": {
                          "colorbar": {
                            "outlinewidth": 0,
                            "ticks": ""
                          }
                        },
                        "type": "scatterternary"
                      }
                    ],
                    "surface": [
                      {
                        "colorbar": {
                          "outlinewidth": 0,
                          "ticks": ""
                        },
                        "colorscale": [
                          [
                            0,
                            "#0d0887"
                          ],
                          [
                            0.1111111111111111,
                            "#46039f"
                          ],
                          [
                            0.2222222222222222,
                            "#7201a8"
                          ],
                          [
                            0.3333333333333333,
                            "#9c179e"
                          ],
                          [
                            0.4444444444444444,
                            "#bd3786"
                          ],
                          [
                            0.5555555555555556,
                            "#d8576b"
                          ],
                          [
                            0.6666666666666666,
                            "#ed7953"
                          ],
                          [
                            0.7777777777777778,
                            "#fb9f3a"
                          ],
                          [
                            0.8888888888888888,
                            "#fdca26"
                          ],
                          [
                            1,
                            "#f0f921"
                          ]
                        ],
                        "type": "surface"
                      }
                    ],
                    "table": [
                      {
                        "cells": {
                          "fill": {
                            "color": "#EBF0F8"
                          },
                          "line": {
                            "color": "white"
                          }
                        },
                        "header": {
                          "fill": {
                            "color": "#C8D4E3"
                          },
                          "line": {
                            "color": "white"
                          }
                        },
                        "type": "table"
                      }
                    ]
                  },
                  "layout": {
                    "annotationdefaults": {
                      "arrowcolor": "#2a3f5f",
                      "arrowhead": 0,
                      "arrowwidth": 1
                    },
                    "autotypenumbers": "strict",
                    "coloraxis": {
                      "colorbar": {
                        "outlinewidth": 0,
                        "ticks": ""
                      }
                    },
                    "colorscale": {
                      "diverging": [
                        [
                          0,
                          "#8e0152"
                        ],
                        [
                          0.1,
                          "#c51b7d"
                        ],
                        [
                          0.2,
                          "#de77ae"
                        ],
                        [
                          0.3,
                          "#f1b6da"
                        ],
                        [
                          0.4,
                          "#fde0ef"
                        ],
                        [
                          0.5,
                          "#f7f7f7"
                        ],
                        [
                          0.6,
                          "#e6f5d0"
                        ],
                        [
                          0.7,
                          "#b8e186"
                        ],
                        [
                          0.8,
                          "#7fbc41"
                        ],
                        [
                          0.9,
                          "#4d9221"
                        ],
                        [
                          1,
                          "#276419"
                        ]
                      ],
                      "sequential": [
                        [
                          0,
                          "#0d0887"
                        ],
                        [
                          0.1111111111111111,
                          "#46039f"
                        ],
                        [
                          0.2222222222222222,
                          "#7201a8"
                        ],
                        [
                          0.3333333333333333,
                          "#9c179e"
                        ],
                        [
                          0.4444444444444444,
                          "#bd3786"
                        ],
                        [
                          0.5555555555555556,
                          "#d8576b"
                        ],
                        [
                          0.6666666666666666,
                          "#ed7953"
                        ],
                        [
                          0.7777777777777778,
                          "#fb9f3a"
                        ],
                        [
                          0.8888888888888888,
                          "#fdca26"
                        ],
                        [
                          1,
                          "#f0f921"
                        ]
                      ],
                      "sequentialminus": [
                        [
                          0,
                          "#0d0887"
                        ],
                        [
                          0.1111111111111111,
                          "#46039f"
                        ],
                        [
                          0.2222222222222222,
                          "#7201a8"
                        ],
                        [
                          0.3333333333333333,
                          "#9c179e"
                        ],
                        [
                          0.4444444444444444,
                          "#bd3786"
                        ],
                        [
                          0.5555555555555556,
                          "#d8576b"
                        ],
                        [
                          0.6666666666666666,
                          "#ed7953"
                        ],
                        [
                          0.7777777777777778,
                          "#fb9f3a"
                        ],
                        [
                          0.8888888888888888,
                          "#fdca26"
                        ],
                        [
                          1,
                          "#f0f921"
                        ]
                      ]
                    },
                    "colorway": [
                      "#636efa",
                      "#EF553B",
                      "#00cc96",
                      "#ab63fa",
                      "#FFA15A",
                      "#19d3f3",
                      "#FF6692",
                      "#B6E880",
                      "#FF97FF",
                      "#FECB52"
                    ],
                    "font": {
                      "color": "#2a3f5f"
                    },
                    "geo": {
                      "bgcolor": "white",
                      "lakecolor": "white",
                      "landcolor": "#E5ECF6",
                      "showlakes": true,
                      "showland": true,
                      "subunitcolor": "white"
                    },
                    "hoverlabel": {
                      "align": "left"
                    },
                    "hovermode": "closest",
                    "mapbox": {
                      "style": "light"
                    },
                    "paper_bgcolor": "white",
                    "plot_bgcolor": "#E5ECF6",
                    "polar": {
                      "angularaxis": {
                        "gridcolor": "white",
                        "linecolor": "white",
                        "ticks": ""
                      },
                      "bgcolor": "#E5ECF6",
                      "radialaxis": {
                        "gridcolor": "white",
                        "linecolor": "white",
                        "ticks": ""
                      }
                    },
                    "scene": {
                      "xaxis": {
                        "backgroundcolor": "#E5ECF6",
                        "gridcolor": "white",
                        "gridwidth": 2,
                        "linecolor": "white",
                        "showbackground": true,
                        "ticks": "",
                        "zerolinecolor": "white"
                      },
                      "yaxis": {
                        "backgroundcolor": "#E5ECF6",
                        "gridcolor": "white",
                        "gridwidth": 2,
                        "linecolor": "white",
                        "showbackground": true,
                        "ticks": "",
                        "zerolinecolor": "white"
                      },
                      "zaxis": {
                        "backgroundcolor": "#E5ECF6",
                        "gridcolor": "white",
                        "gridwidth": 2,
                        "linecolor": "white",
                        "showbackground": true,
                        "ticks": "",
                        "zerolinecolor": "white"
                      }
                    },
                    "shapedefaults": {
                      "line": {
                        "color": "#2a3f5f"
                      }
                    },
                    "ternary": {
                      "aaxis": {
                        "gridcolor": "white",
                        "linecolor": "white",
                        "ticks": ""
                      },
                      "baxis": {
                        "gridcolor": "white",
                        "linecolor": "white",
                        "ticks": ""
                      },
                      "bgcolor": "#E5ECF6",
                      "caxis": {
                        "gridcolor": "white",
                        "linecolor": "white",
                        "ticks": ""
                      }
                    },
                    "title": {
                      "x": 0.05
                    },
                    "xaxis": {
                      "automargin": true,
                      "gridcolor": "white",
                      "linecolor": "white",
                      "ticks": "",
                      "title": {
                        "standoff": 15
                      },
                      "zerolinecolor": "white",
                      "zerolinewidth": 2
                    },
                    "yaxis": {
                      "automargin": true,
                      "gridcolor": "white",
                      "linecolor": "white",
                      "ticks": "",
                      "title": {
                        "standoff": 15
                      },
                      "zerolinecolor": "white",
                      "zerolinewidth": 2
                    }
                  }
                },
                "title": {
                  "text": "Number of Launches by Country"
                }
              }
            }
          },
          "metadata": {},
          "output_type": "display_data"
        }
      ],
      "source": [
        "fig_map = px.choropleth(\n",
        "    data_frame=df_location_count,\n",
        "    locations='Country_Code',\n",
        "    color= 'Count',\n",
        "    hover_name= 'Country_Name',\n",
        "    color_continuous_scale='viridis',\n",
        "    title='Number of Launches by Country',\n",
        "    labels={'Country_Code': 'Country Code', 'Count': 'Number of Launches'}\n",
        "    )\n",
        "\n",
        "fig_map.update_layout(\n",
        "    geo=dict(\n",
        "        showcoastlines=True,  \n",
        "        coastlinecolor=\"white\",  \n",
        "        showland=True,  \n",
        "        landcolor=\"lightgray\"\n",
        "    ),\n",
        "\n",
        ")\n",
        "\n",
        "fig_map.show()"
      ]
    },
    {
      "cell_type": "markdown",
      "metadata": {
        "id": "F3pwYSUlo_AK"
      },
      "source": [
        "# Number of Failures by Country\n"
      ]
    },
    {
      "cell_type": "code",
      "execution_count": 24,
      "metadata": {},
      "outputs": [],
      "source": [
        "df_count_fail = df_location.groupby(['Country_Code', 'Country_Name', 'Mission_Status']).count().reset_index()\n",
        "df_count_fail = df_count_fail.rename(columns={'Code': 'Count'})"
      ]
    },
    {
      "cell_type": "code",
      "execution_count": 25,
      "metadata": {
        "id": "sfw-q7Obo9GM"
      },
      "outputs": [
        {
          "data": {
            "text/html": [
              "\n",
              "        <iframe\n",
              "            width=\"100%\"\n",
              "            height=\"650\"\n",
              "            src=\"http://127.0.0.1:8050/\"\n",
              "            frameborder=\"0\"\n",
              "            allowfullscreen\n",
              "            \n",
              "        ></iframe>\n",
              "        "
            ],
            "text/plain": [
              "<IPython.lib.display.IFrame at 0x262e6e28210>"
            ]
          },
          "metadata": {},
          "output_type": "display_data"
        }
      ],
      "source": [
        "app = Dash(__name__)\n",
        "\n",
        "status_options = [{'label': status, 'value': status} for status in df_count_fail['Mission_Status'].unique()]\n",
        "\n",
        "app.layout = html.Div([\n",
        "    html.H1('Number and Mission Status by Country'),\n",
        "    dcc.Dropdown(\n",
        "        id='status-dropdown',\n",
        "        options=status_options,\n",
        "        value='Success',  \n",
        "        clearable=False,\n",
        "        style={'width': '50%'}\n",
        "    ),\n",
        "    dcc.Graph(id='choropleth-map')\n",
        "])\n",
        "\n",
        "@app.callback(\n",
        "    Output('choropleth-map', 'figure'),\n",
        "    [Input('status-dropdown', 'value')]\n",
        ")\n",
        "def update_map(selected_status):\n",
        "    filtered_df = df_count_fail[df_count_fail['Mission_Status'] == selected_status]\n",
        "\n",
        "    fig = px.choropleth(\n",
        "        data_frame= filtered_df,\n",
        "        locations='Country_Code',\n",
        "        color='Count',\n",
        "        hover_name='Country_Code',\n",
        "        locationmode='ISO-3',\n",
        "        color_continuous_scale=px.colors.sequential.Plasma,\n",
        "        title=f'Number of mission with status: {selected_status}',\n",
        "        labels={'Country_Code': 'Country Code', 'Count': 'Number of mission'},\n",
        "        hover_data=['Country_Name', 'Count']\n",
        "    )\n",
        "    fig.update_traces(hovertemplate='<br>Country: %{customdata[0]}  <br>Number of Missions: %{customdata[1]} ')\n",
        "    return fig\n",
        "\n",
        "if __name__ == '__main__':\n",
        "    app.run_server(debug=True)"
      ]
    },
    {
      "cell_type": "markdown",
      "metadata": {
        "id": "9LqcqSrKa-qN",
        "papermill": {
          "duration": 0.039343,
          "end_time": "2020-10-20T21:34:06.591694",
          "exception": false,
          "start_time": "2020-10-20T21:34:06.552351",
          "status": "completed"
        },
        "tags": []
      },
      "source": [
        "#Chart of the countries, organisations, and mission status. "
      ]
    },
    {
      "cell_type": "code",
      "execution_count": 26,
      "metadata": {},
      "outputs": [],
      "source": [
        "df_sunburs = df_location.groupby(['Country_Name', 'Organisation', 'Mission_Status']).count().reset_index()\n",
        "df_sunburs = df_sunburs.rename(columns={'Code': 'Count'})"
      ]
    },
    {
      "cell_type": "code",
      "execution_count": 27,
      "metadata": {
        "id": "-ZwZkx1ro4X9"
      },
      "outputs": [
        {
          "data": {
            "application/vnd.plotly.v1+json": {
              "config": {
                "plotlyServerURL": "https://plot.ly"
              },
              "data": [
                {
                  "branchvalues": "total",
                  "customdata": [
                    [
                      "Brazil"
                    ],
                    [
                      "USA"
                    ],
                    [
                      "France"
                    ],
                    [
                      "USA"
                    ],
                    [
                      "China"
                    ],
                    [
                      "China"
                    ],
                    [
                      "Australia"
                    ],
                    [
                      "Iran"
                    ],
                    [
                      "Israel"
                    ],
                    [
                      "USA"
                    ],
                    [
                      "USA"
                    ],
                    [
                      "China"
                    ],
                    [
                      "France"
                    ],
                    [
                      "USA"
                    ],
                    [
                      "France"
                    ],
                    [
                      "France"
                    ],
                    [
                      "Russian Federation"
                    ],
                    [
                      "China"
                    ],
                    [
                      "Russian Federation"
                    ],
                    [
                      "Japan"
                    ],
                    [
                      "USA"
                    ],
                    [
                      "Kazakhstan"
                    ],
                    [
                      "USA"
                    ],
                    [
                      "South Korea"
                    ],
                    [
                      "Japan"
                    ],
                    [
                      "India"
                    ],
                    [
                      "Japan"
                    ],
                    [
                      "North Korea"
                    ],
                    [
                      "USA"
                    ],
                    [
                      "USA"
                    ],
                    [
                      "China"
                    ],
                    [
                      "New Zealand"
                    ],
                    [
                      "Russian Federation"
                    ],
                    [
                      "Kazakhstan"
                    ],
                    [
                      "Australia"
                    ],
                    [
                      "Kazakhstan"
                    ],
                    [
                      "Russian Federation"
                    ],
                    [
                      "Russian Federation"
                    ],
                    [
                      "Kazakhstan"
                    ],
                    [
                      "USA"
                    ],
                    [
                      "Japan"
                    ],
                    [
                      "USA"
                    ],
                    [
                      "Kiribati"
                    ],
                    [
                      "USA"
                    ],
                    [
                      "USA"
                    ],
                    [
                      "Russian Federation"
                    ],
                    [
                      "USA"
                    ],
                    [
                      "India"
                    ],
                    [
                      "Russian Federation"
                    ],
                    [
                      "Kazakhstan"
                    ],
                    [
                      "USA"
                    ],
                    [
                      "USA"
                    ],
                    [
                      "USA"
                    ],
                    [
                      "Japan"
                    ],
                    [
                      "Kazakhstan"
                    ],
                    [
                      "Japan"
                    ],
                    [
                      "Kazakhstan"
                    ],
                    [
                      "USA"
                    ],
                    [
                      "USA"
                    ],
                    [
                      "France"
                    ],
                    [
                      "China"
                    ],
                    [
                      "USA"
                    ],
                    [
                      "France"
                    ],
                    [
                      "France"
                    ],
                    [
                      "USA"
                    ],
                    [
                      "Kazakhstan"
                    ],
                    [
                      "USA"
                    ],
                    [
                      "USA"
                    ],
                    [
                      "USA"
                    ],
                    [
                      "USA"
                    ],
                    [
                      "Russian Federation"
                    ],
                    [
                      "Brazil"
                    ],
                    [
                      "Iran"
                    ],
                    [
                      "USA"
                    ],
                    [
                      "Russian Federation"
                    ],
                    [
                      "France"
                    ],
                    [
                      "USA"
                    ],
                    [
                      "France"
                    ],
                    [
                      "Australia"
                    ],
                    [
                      "China"
                    ],
                    [
                      "USA"
                    ],
                    [
                      "China"
                    ],
                    [
                      "Kazakhstan"
                    ],
                    [
                      "France"
                    ],
                    [
                      "France"
                    ],
                    [
                      "Kenya"
                    ],
                    [
                      "USA"
                    ],
                    [
                      "Australia"
                    ],
                    [
                      "USA"
                    ],
                    [
                      "Kazakhstan"
                    ],
                    [
                      "USA"
                    ],
                    [
                      "China"
                    ],
                    [
                      "Kazakhstan"
                    ],
                    [
                      "Russian Federation"
                    ],
                    [
                      "New Zealand"
                    ],
                    [
                      "Kazakhstan"
                    ],
                    [
                      "Australia"
                    ],
                    [
                      "Russian Federation"
                    ],
                    [
                      "Russian Federation"
                    ],
                    [
                      "Kiribati"
                    ],
                    [
                      "USA"
                    ],
                    [
                      "Kazakhstan"
                    ],
                    [
                      "USA"
                    ],
                    [
                      "USA"
                    ],
                    [
                      "Japan"
                    ],
                    [
                      "Kazakhstan"
                    ],
                    [
                      "Kazakhstan"
                    ],
                    [
                      "Russian Federation"
                    ],
                    [
                      "Kazakhstan"
                    ],
                    [
                      "USA"
                    ],
                    [
                      "USA"
                    ],
                    [
                      "USA"
                    ],
                    [
                      "USA"
                    ],
                    [
                      "Russian Federation"
                    ],
                    [
                      "Israel"
                    ],
                    [
                      "Kazakhstan"
                    ],
                    [
                      "Iran"
                    ],
                    [
                      "Iran"
                    ],
                    [
                      "Japan"
                    ],
                    [
                      "India"
                    ],
                    [
                      "Japan"
                    ],
                    [
                      "South Korea"
                    ],
                    [
                      "North Korea"
                    ],
                    [
                      "Russian Federation"
                    ],
                    [
                      "Kazakhstan"
                    ],
                    [
                      "Russian Federation"
                    ],
                    [
                      "Kazakhstan"
                    ],
                    [
                      "USA"
                    ],
                    [
                      "Japan"
                    ],
                    [
                      "Russian Federation"
                    ],
                    [
                      "USA"
                    ],
                    [
                      "China"
                    ],
                    [
                      "Brazil"
                    ],
                    [
                      "Australia"
                    ],
                    [
                      "USA"
                    ],
                    [
                      "Kenya"
                    ],
                    [
                      "France"
                    ],
                    [
                      "Kazakhstan"
                    ],
                    [
                      "France"
                    ],
                    [
                      "USA"
                    ],
                    [
                      "USA"
                    ],
                    [
                      "China"
                    ],
                    [
                      "China"
                    ],
                    [
                      "Australia"
                    ],
                    [
                      "France"
                    ],
                    [
                      "France"
                    ],
                    [
                      "USA"
                    ],
                    [
                      "USA"
                    ],
                    [
                      "France"
                    ],
                    [
                      "Russian Federation"
                    ],
                    [
                      "China"
                    ],
                    [
                      "USA"
                    ],
                    [
                      "USA"
                    ],
                    [
                      "Israel"
                    ],
                    [
                      "Kazakhstan"
                    ],
                    [
                      "USA"
                    ],
                    [
                      "Iran"
                    ],
                    [
                      "Iran"
                    ],
                    [
                      "Japan"
                    ],
                    [
                      "India"
                    ],
                    [
                      "Japan"
                    ],
                    [
                      "South Korea"
                    ],
                    [
                      "North Korea"
                    ],
                    [
                      "Russian Federation"
                    ],
                    [
                      "Kazakhstan"
                    ],
                    [
                      "Russian Federation"
                    ],
                    [
                      "Kazakhstan"
                    ],
                    [
                      "China"
                    ],
                    [
                      "USA"
                    ],
                    [
                      "Japan"
                    ],
                    [
                      "Russian Federation"
                    ],
                    [
                      "USA"
                    ],
                    [
                      "USA"
                    ],
                    [
                      "USA"
                    ],
                    [
                      "Kazakhstan"
                    ],
                    [
                      "China"
                    ],
                    [
                      "Australia"
                    ],
                    [
                      "Kazakhstan"
                    ],
                    [
                      "Russian Federation"
                    ],
                    [
                      "New Zealand"
                    ],
                    [
                      "Kazakhstan"
                    ],
                    [
                      "Russian Federation"
                    ],
                    [
                      "Russian Federation"
                    ],
                    [
                      "USA"
                    ],
                    [
                      "Kiribati"
                    ],
                    [
                      "USA"
                    ],
                    [
                      "Kazakhstan"
                    ],
                    [
                      "USA"
                    ],
                    [
                      "USA"
                    ],
                    [
                      "USA"
                    ],
                    [
                      "Japan"
                    ],
                    [
                      "Kazakhstan"
                    ],
                    [
                      "Russian Federation"
                    ],
                    [
                      "USA"
                    ],
                    [
                      "Kazakhstan"
                    ],
                    [
                      "Russian Federation"
                    ],
                    [
                      "China"
                    ],
                    [
                      "Australia"
                    ],
                    [
                      "Brazil"
                    ],
                    [
                      "China"
                    ],
                    [
                      "France"
                    ],
                    [
                      "India"
                    ],
                    [
                      "Iran"
                    ],
                    [
                      "Israel"
                    ],
                    [
                      "Japan"
                    ],
                    [
                      "Kazakhstan"
                    ],
                    [
                      "Kenya"
                    ],
                    [
                      "Kiribati"
                    ],
                    [
                      "New Zealand"
                    ],
                    [
                      "North Korea"
                    ],
                    [
                      "Russian Federation"
                    ],
                    [
                      "South Korea"
                    ],
                    [
                      "USA"
                    ]
                  ],
                  "domain": {
                    "x": [
                      0,
                      1
                    ],
                    "y": [
                      0,
                      1
                    ]
                  },
                  "hovertemplate": "<br><b>Country Name</b>: %{customdata[0]}<br><br><b>Number of Missions</b>: %{value}<br>",
                  "ids": [
                    "Brazil/AEB/Failure",
                    "USA/AMBA/Failure",
                    "France/Arianespace/Failure",
                    "USA/Boeing/Failure",
                    "China/CASC/Failure",
                    "China/CASIC/Failure",
                    "Australia/CECLES/Failure",
                    "Iran/ISA/Failure",
                    "Israel/IAI/Failure",
                    "USA/General Dynamics/Failure",
                    "USA/Exos/Failure",
                    "China/ExPace/Failure",
                    "France/ESA/Failure",
                    "USA/EER/Failure",
                    "France/CNES/Failure",
                    "France/CECLES/Failure",
                    "Russian Federation/Eurockot/Failure",
                    "China/Landspace/Failure",
                    "Russian Federation/MITT/Failure",
                    "Japan/MHI/Failure",
                    "USA/Lockheed/Failure",
                    "Kazakhstan/Kosmotras/Failure",
                    "USA/Martin Marietta/Failure",
                    "South Korea/KARI/Failure",
                    "Japan/JAXA/Failure",
                    "India/ISRO/Failure",
                    "Japan/ISAS/Failure",
                    "North Korea/KCST/Failure",
                    "USA/NASA/Failure",
                    "USA/Northrop/Failure",
                    "China/OneSpace/Failure",
                    "New Zealand/Rocket Lab/Failure",
                    "Russian Federation/RVSN USSR/Failure",
                    "Kazakhstan/RVSN USSR/Failure",
                    "Australia/RAE/Failure",
                    "Kazakhstan/Roscosmos/Failure",
                    "Russian Federation/Roscosmos/Failure",
                    "Russian Federation/VKS RF/Failure",
                    "Kazakhstan/VKS RF/Failure",
                    "USA/Virgin Orbit/Failure",
                    "Japan/UT/Failure",
                    "USA/US Navy/Failure",
                    "Kiribati/Sea Launch/Failure",
                    "USA/SpaceX/Failure",
                    "USA/Sandia/Failure",
                    "Russian Federation/SRC/Failure",
                    "USA/US Air Force/Failure",
                    "India/ISRO/Partial Failure",
                    "Russian Federation/RVSN USSR/Partial Failure",
                    "Kazakhstan/RVSN USSR/Partial Failure",
                    "USA/Northrop/Partial Failure",
                    "USA/NASA/Partial Failure",
                    "USA/Martin Marietta/Partial Failure",
                    "Japan/MHI/Partial Failure",
                    "Kazakhstan/Land Launch/Partial Failure",
                    "Japan/ISAS/Partial Failure",
                    "Kazakhstan/Roscosmos/Partial Failure",
                    "USA/General Dynamics/Partial Failure",
                    "USA/Exos/Partial Failure",
                    "France/ESA/Partial Failure",
                    "China/CASC/Partial Failure",
                    "USA/Boeing/Partial Failure",
                    "France/Arm??e de l'Air/Partial Failure",
                    "France/Arianespace/Partial Failure",
                    "USA/AMBA/Partial Failure",
                    "Kazakhstan/ILS/Partial Failure",
                    "USA/SpaceX/Partial Failure",
                    "USA/US Air Force/Partial Failure",
                    "USA/ULA/Partial Failure",
                    "USA/US Navy/Partial Failure",
                    "Russian Federation/VKS RF/Partial Failure",
                    "Brazil/AEB/Prelaunch Failure",
                    "Iran/ISA/Prelaunch Failure",
                    "USA/Boeing/Success",
                    "Russian Federation/Eurockot/Success",
                    "France/ESA/Success",
                    "USA/Douglas/Success",
                    "France/CNES/Success",
                    "Australia/CECLES/Success",
                    "China/CASIC/Success",
                    "USA/Blue Origin/Success",
                    "China/CASC/Success",
                    "Kazakhstan/Arianespace/Success",
                    "France/Arm??e de l'Air/Success",
                    "France/Arianespace/Success",
                    "Kenya/ASI/Success",
                    "USA/AMBA/Success",
                    "Australia/AMBA/Success",
                    "USA/SpaceX/Prelaunch Failure",
                    "Kazakhstan/RVSN USSR/Prelaunch Failure",
                    "USA/General Dynamics/Success",
                    "China/ExPace/Success",
                    "Kazakhstan/RVSN USSR/Success",
                    "Russian Federation/RVSN USSR/Success",
                    "New Zealand/Rocket Lab/Success",
                    "Kazakhstan/Roscosmos/Success",
                    "Australia/RAE/Success",
                    "Russian Federation/Roscosmos/Success",
                    "Russian Federation/SRC/Success",
                    "Kiribati/Sea Launch/Success",
                    "USA/US Navy/Success",
                    "Kazakhstan/Starsem/Success",
                    "USA/ULA/Success",
                    "USA/US Air Force/Success",
                    "Japan/UT/Success",
                    "Kazakhstan/Yuzhmash/Success",
                    "Kazakhstan/VKS RF/Success",
                    "Russian Federation/VKS RF/Success",
                    "Kazakhstan/OKB-586/Success",
                    "USA/SpaceX/Success",
                    "USA/Northrop/Success",
                    "USA/ILS/Success",
                    "USA/Martin Marietta/Success",
                    "Russian Federation/Yuzhmash/Success",
                    "Israel/IAI/Success",
                    "Kazakhstan/ILS/Success",
                    "Iran/IRGC/Success",
                    "Iran/ISA/Success",
                    "Japan/ISAS/Success",
                    "India/ISRO/Success",
                    "Japan/JAXA/Success",
                    "South Korea/KARI/Success",
                    "North Korea/KCST/Success",
                    "Russian Federation/Khrunichev/Success",
                    "Kazakhstan/Kosmotras/Success",
                    "Russian Federation/Kosmotras/Success",
                    "Kazakhstan/Land Launch/Success",
                    "USA/Lockheed/Success",
                    "Japan/MHI/Success",
                    "Russian Federation/MITT/Success",
                    "USA/NASA/Success",
                    "China/i-Space/Success",
                    "Brazil/AEB",
                    "Australia/AMBA",
                    "USA/AMBA",
                    "Kenya/ASI",
                    "France/Arianespace",
                    "Kazakhstan/Arianespace",
                    "France/Arm??e de l'Air",
                    "USA/Blue Origin",
                    "USA/Boeing",
                    "China/CASC",
                    "China/CASIC",
                    "Australia/CECLES",
                    "France/CECLES",
                    "France/CNES",
                    "USA/Douglas",
                    "USA/EER",
                    "France/ESA",
                    "Russian Federation/Eurockot",
                    "China/ExPace",
                    "USA/Exos",
                    "USA/General Dynamics",
                    "Israel/IAI",
                    "Kazakhstan/ILS",
                    "USA/ILS",
                    "Iran/IRGC",
                    "Iran/ISA",
                    "Japan/ISAS",
                    "India/ISRO",
                    "Japan/JAXA",
                    "South Korea/KARI",
                    "North Korea/KCST",
                    "Russian Federation/Khrunichev",
                    "Kazakhstan/Kosmotras",
                    "Russian Federation/Kosmotras",
                    "Kazakhstan/Land Launch",
                    "China/Landspace",
                    "USA/Lockheed",
                    "Japan/MHI",
                    "Russian Federation/MITT",
                    "USA/Martin Marietta",
                    "USA/NASA",
                    "USA/Northrop",
                    "Kazakhstan/OKB-586",
                    "China/OneSpace",
                    "Australia/RAE",
                    "Kazakhstan/RVSN USSR",
                    "Russian Federation/RVSN USSR",
                    "New Zealand/Rocket Lab",
                    "Kazakhstan/Roscosmos",
                    "Russian Federation/Roscosmos",
                    "Russian Federation/SRC",
                    "USA/Sandia",
                    "Kiribati/Sea Launch",
                    "USA/SpaceX",
                    "Kazakhstan/Starsem",
                    "USA/ULA",
                    "USA/US Air Force",
                    "USA/US Navy",
                    "Japan/UT",
                    "Kazakhstan/VKS RF",
                    "Russian Federation/VKS RF",
                    "USA/Virgin Orbit",
                    "Kazakhstan/Yuzhmash",
                    "Russian Federation/Yuzhmash",
                    "China/i-Space",
                    "Australia",
                    "Brazil",
                    "China",
                    "France",
                    "India",
                    "Iran",
                    "Israel",
                    "Japan",
                    "Kazakhstan",
                    "Kenya",
                    "Kiribati",
                    "New Zealand",
                    "North Korea",
                    "Russian Federation",
                    "South Korea",
                    "USA"
                  ],
                  "labels": [
                    "Failure",
                    "Failure",
                    "Failure",
                    "Failure",
                    "Failure",
                    "Failure",
                    "Failure",
                    "Failure",
                    "Failure",
                    "Failure",
                    "Failure",
                    "Failure",
                    "Failure",
                    "Failure",
                    "Failure",
                    "Failure",
                    "Failure",
                    "Failure",
                    "Failure",
                    "Failure",
                    "Failure",
                    "Failure",
                    "Failure",
                    "Failure",
                    "Failure",
                    "Failure",
                    "Failure",
                    "Failure",
                    "Failure",
                    "Failure",
                    "Failure",
                    "Failure",
                    "Failure",
                    "Failure",
                    "Failure",
                    "Failure",
                    "Failure",
                    "Failure",
                    "Failure",
                    "Failure",
                    "Failure",
                    "Failure",
                    "Failure",
                    "Failure",
                    "Failure",
                    "Failure",
                    "Failure",
                    "Partial Failure",
                    "Partial Failure",
                    "Partial Failure",
                    "Partial Failure",
                    "Partial Failure",
                    "Partial Failure",
                    "Partial Failure",
                    "Partial Failure",
                    "Partial Failure",
                    "Partial Failure",
                    "Partial Failure",
                    "Partial Failure",
                    "Partial Failure",
                    "Partial Failure",
                    "Partial Failure",
                    "Partial Failure",
                    "Partial Failure",
                    "Partial Failure",
                    "Partial Failure",
                    "Partial Failure",
                    "Partial Failure",
                    "Partial Failure",
                    "Partial Failure",
                    "Partial Failure",
                    "Prelaunch Failure",
                    "Prelaunch Failure",
                    "Success",
                    "Success",
                    "Success",
                    "Success",
                    "Success",
                    "Success",
                    "Success",
                    "Success",
                    "Success",
                    "Success",
                    "Success",
                    "Success",
                    "Success",
                    "Success",
                    "Success",
                    "Prelaunch Failure",
                    "Prelaunch Failure",
                    "Success",
                    "Success",
                    "Success",
                    "Success",
                    "Success",
                    "Success",
                    "Success",
                    "Success",
                    "Success",
                    "Success",
                    "Success",
                    "Success",
                    "Success",
                    "Success",
                    "Success",
                    "Success",
                    "Success",
                    "Success",
                    "Success",
                    "Success",
                    "Success",
                    "Success",
                    "Success",
                    "Success",
                    "Success",
                    "Success",
                    "Success",
                    "Success",
                    "Success",
                    "Success",
                    "Success",
                    "Success",
                    "Success",
                    "Success",
                    "Success",
                    "Success",
                    "Success",
                    "Success",
                    "Success",
                    "Success",
                    "Success",
                    "Success",
                    "AEB",
                    "AMBA",
                    "AMBA",
                    "ASI",
                    "Arianespace",
                    "Arianespace",
                    "Arm??e de l'Air",
                    "Blue Origin",
                    "Boeing",
                    "CASC",
                    "CASIC",
                    "CECLES",
                    "CECLES",
                    "CNES",
                    "Douglas",
                    "EER",
                    "ESA",
                    "Eurockot",
                    "ExPace",
                    "Exos",
                    "General Dynamics",
                    "IAI",
                    "ILS",
                    "ILS",
                    "IRGC",
                    "ISA",
                    "ISAS",
                    "ISRO",
                    "JAXA",
                    "KARI",
                    "KCST",
                    "Khrunichev",
                    "Kosmotras",
                    "Kosmotras",
                    "Land Launch",
                    "Landspace",
                    "Lockheed",
                    "MHI",
                    "MITT",
                    "Martin Marietta",
                    "NASA",
                    "Northrop",
                    "OKB-586",
                    "OneSpace",
                    "RAE",
                    "RVSN USSR",
                    "RVSN USSR",
                    "Rocket Lab",
                    "Roscosmos",
                    "Roscosmos",
                    "SRC",
                    "Sandia",
                    "Sea Launch",
                    "SpaceX",
                    "Starsem",
                    "ULA",
                    "US Air Force",
                    "US Navy",
                    "UT",
                    "VKS RF",
                    "VKS RF",
                    "Virgin Orbit",
                    "Yuzhmash",
                    "Yuzhmash",
                    "i-Space",
                    "Australia",
                    "Brazil",
                    "China",
                    "France",
                    "India",
                    "Iran",
                    "Israel",
                    "Japan",
                    "Kazakhstan",
                    "Kenya",
                    "Kiribati",
                    "New Zealand",
                    "North Korea",
                    "Russian Federation",
                    "South Korea",
                    "USA"
                  ],
                  "marker": {
                    "colors": [
                      "#636efa",
                      "#EF553B",
                      "#00cc96",
                      "#EF553B",
                      "#ab63fa",
                      "#ab63fa",
                      "#FFA15A",
                      "#19d3f3",
                      "#FF6692",
                      "#EF553B",
                      "#EF553B",
                      "#ab63fa",
                      "#00cc96",
                      "#EF553B",
                      "#00cc96",
                      "#00cc96",
                      "#B6E880",
                      "#ab63fa",
                      "#B6E880",
                      "#FF97FF",
                      "#EF553B",
                      "#FECB52",
                      "#EF553B",
                      "#636efa",
                      "#FF97FF",
                      "#EF553B",
                      "#FF97FF",
                      "#00cc96",
                      "#EF553B",
                      "#EF553B",
                      "#ab63fa",
                      "#ab63fa",
                      "#B6E880",
                      "#FECB52",
                      "#FFA15A",
                      "#FECB52",
                      "#B6E880",
                      "#B6E880",
                      "#FECB52",
                      "#EF553B",
                      "#FF97FF",
                      "#EF553B",
                      "#FFA15A",
                      "#EF553B",
                      "#EF553B",
                      "#B6E880",
                      "#EF553B",
                      "#EF553B",
                      "#B6E880",
                      "#FECB52",
                      "#EF553B",
                      "#EF553B",
                      "#EF553B",
                      "#FF97FF",
                      "#FECB52",
                      "#FF97FF",
                      "#FECB52",
                      "#EF553B",
                      "#EF553B",
                      "#00cc96",
                      "#ab63fa",
                      "#EF553B",
                      "#00cc96",
                      "#00cc96",
                      "#EF553B",
                      "#FECB52",
                      "#EF553B",
                      "#EF553B",
                      "#EF553B",
                      "#EF553B",
                      "#B6E880",
                      "#636efa",
                      "#19d3f3",
                      "#EF553B",
                      "#B6E880",
                      "#00cc96",
                      "#EF553B",
                      "#00cc96",
                      "#FFA15A",
                      "#ab63fa",
                      "#EF553B",
                      "#ab63fa",
                      "#FECB52",
                      "#00cc96",
                      "#00cc96",
                      "#19d3f3",
                      "#EF553B",
                      "#FFA15A",
                      "#EF553B",
                      "#FECB52",
                      "#EF553B",
                      "#ab63fa",
                      "#FECB52",
                      "#B6E880",
                      "#ab63fa",
                      "#FECB52",
                      "#FFA15A",
                      "#B6E880",
                      "#B6E880",
                      "#FFA15A",
                      "#EF553B",
                      "#FECB52",
                      "#EF553B",
                      "#EF553B",
                      "#FF97FF",
                      "#FECB52",
                      "#FECB52",
                      "#B6E880",
                      "#FECB52",
                      "#EF553B",
                      "#EF553B",
                      "#EF553B",
                      "#EF553B",
                      "#B6E880",
                      "#FF6692",
                      "#FECB52",
                      "#19d3f3",
                      "#19d3f3",
                      "#FF97FF",
                      "#EF553B",
                      "#FF97FF",
                      "#636efa",
                      "#00cc96",
                      "#B6E880",
                      "#FECB52",
                      "#B6E880",
                      "#FECB52",
                      "#EF553B",
                      "#FF97FF",
                      "#B6E880",
                      "#EF553B",
                      "#ab63fa",
                      "#636efa",
                      "#FFA15A",
                      "#EF553B",
                      "#19d3f3",
                      "#00cc96",
                      "#FECB52",
                      "#00cc96",
                      "#EF553B",
                      "#EF553B",
                      "#ab63fa",
                      "#ab63fa",
                      "#FFA15A",
                      "#00cc96",
                      "#00cc96",
                      "#EF553B",
                      "#EF553B",
                      "#00cc96",
                      "#B6E880",
                      "#ab63fa",
                      "#EF553B",
                      "#EF553B",
                      "#FF6692",
                      "#FECB52",
                      "#EF553B",
                      "#19d3f3",
                      "#19d3f3",
                      "#FF97FF",
                      "#EF553B",
                      "#FF97FF",
                      "#636efa",
                      "#00cc96",
                      "#B6E880",
                      "#FECB52",
                      "#B6E880",
                      "#FECB52",
                      "#ab63fa",
                      "#EF553B",
                      "#FF97FF",
                      "#B6E880",
                      "#EF553B",
                      "#EF553B",
                      "#EF553B",
                      "#FECB52",
                      "#ab63fa",
                      "#FFA15A",
                      "#FECB52",
                      "#B6E880",
                      "#ab63fa",
                      "#FECB52",
                      "#B6E880",
                      "#B6E880",
                      "#EF553B",
                      "#FFA15A",
                      "#EF553B",
                      "#FECB52",
                      "#EF553B",
                      "#EF553B",
                      "#EF553B",
                      "#FF97FF",
                      "#FECB52",
                      "#B6E880",
                      "#EF553B",
                      "#FECB52",
                      "#B6E880",
                      "#ab63fa",
                      "#FFA15A",
                      "#636efa",
                      "#ab63fa",
                      "#00cc96",
                      "#EF553B",
                      "#19d3f3",
                      "#FF6692",
                      "#FF97FF",
                      "#FECB52",
                      "#19d3f3",
                      "#FFA15A",
                      "#ab63fa",
                      "#00cc96",
                      "#B6E880",
                      "#636efa",
                      "#EF553B"
                    ]
                  },
                  "name": "",
                  "parents": [
                    "Brazil/AEB",
                    "USA/AMBA",
                    "France/Arianespace",
                    "USA/Boeing",
                    "China/CASC",
                    "China/CASIC",
                    "Australia/CECLES",
                    "Iran/ISA",
                    "Israel/IAI",
                    "USA/General Dynamics",
                    "USA/Exos",
                    "China/ExPace",
                    "France/ESA",
                    "USA/EER",
                    "France/CNES",
                    "France/CECLES",
                    "Russian Federation/Eurockot",
                    "China/Landspace",
                    "Russian Federation/MITT",
                    "Japan/MHI",
                    "USA/Lockheed",
                    "Kazakhstan/Kosmotras",
                    "USA/Martin Marietta",
                    "South Korea/KARI",
                    "Japan/JAXA",
                    "India/ISRO",
                    "Japan/ISAS",
                    "North Korea/KCST",
                    "USA/NASA",
                    "USA/Northrop",
                    "China/OneSpace",
                    "New Zealand/Rocket Lab",
                    "Russian Federation/RVSN USSR",
                    "Kazakhstan/RVSN USSR",
                    "Australia/RAE",
                    "Kazakhstan/Roscosmos",
                    "Russian Federation/Roscosmos",
                    "Russian Federation/VKS RF",
                    "Kazakhstan/VKS RF",
                    "USA/Virgin Orbit",
                    "Japan/UT",
                    "USA/US Navy",
                    "Kiribati/Sea Launch",
                    "USA/SpaceX",
                    "USA/Sandia",
                    "Russian Federation/SRC",
                    "USA/US Air Force",
                    "India/ISRO",
                    "Russian Federation/RVSN USSR",
                    "Kazakhstan/RVSN USSR",
                    "USA/Northrop",
                    "USA/NASA",
                    "USA/Martin Marietta",
                    "Japan/MHI",
                    "Kazakhstan/Land Launch",
                    "Japan/ISAS",
                    "Kazakhstan/Roscosmos",
                    "USA/General Dynamics",
                    "USA/Exos",
                    "France/ESA",
                    "China/CASC",
                    "USA/Boeing",
                    "France/Arm??e de l'Air",
                    "France/Arianespace",
                    "USA/AMBA",
                    "Kazakhstan/ILS",
                    "USA/SpaceX",
                    "USA/US Air Force",
                    "USA/ULA",
                    "USA/US Navy",
                    "Russian Federation/VKS RF",
                    "Brazil/AEB",
                    "Iran/ISA",
                    "USA/Boeing",
                    "Russian Federation/Eurockot",
                    "France/ESA",
                    "USA/Douglas",
                    "France/CNES",
                    "Australia/CECLES",
                    "China/CASIC",
                    "USA/Blue Origin",
                    "China/CASC",
                    "Kazakhstan/Arianespace",
                    "France/Arm??e de l'Air",
                    "France/Arianespace",
                    "Kenya/ASI",
                    "USA/AMBA",
                    "Australia/AMBA",
                    "USA/SpaceX",
                    "Kazakhstan/RVSN USSR",
                    "USA/General Dynamics",
                    "China/ExPace",
                    "Kazakhstan/RVSN USSR",
                    "Russian Federation/RVSN USSR",
                    "New Zealand/Rocket Lab",
                    "Kazakhstan/Roscosmos",
                    "Australia/RAE",
                    "Russian Federation/Roscosmos",
                    "Russian Federation/SRC",
                    "Kiribati/Sea Launch",
                    "USA/US Navy",
                    "Kazakhstan/Starsem",
                    "USA/ULA",
                    "USA/US Air Force",
                    "Japan/UT",
                    "Kazakhstan/Yuzhmash",
                    "Kazakhstan/VKS RF",
                    "Russian Federation/VKS RF",
                    "Kazakhstan/OKB-586",
                    "USA/SpaceX",
                    "USA/Northrop",
                    "USA/ILS",
                    "USA/Martin Marietta",
                    "Russian Federation/Yuzhmash",
                    "Israel/IAI",
                    "Kazakhstan/ILS",
                    "Iran/IRGC",
                    "Iran/ISA",
                    "Japan/ISAS",
                    "India/ISRO",
                    "Japan/JAXA",
                    "South Korea/KARI",
                    "North Korea/KCST",
                    "Russian Federation/Khrunichev",
                    "Kazakhstan/Kosmotras",
                    "Russian Federation/Kosmotras",
                    "Kazakhstan/Land Launch",
                    "USA/Lockheed",
                    "Japan/MHI",
                    "Russian Federation/MITT",
                    "USA/NASA",
                    "China/i-Space",
                    "Brazil",
                    "Australia",
                    "USA",
                    "Kenya",
                    "France",
                    "Kazakhstan",
                    "France",
                    "USA",
                    "USA",
                    "China",
                    "China",
                    "Australia",
                    "France",
                    "France",
                    "USA",
                    "USA",
                    "France",
                    "Russian Federation",
                    "China",
                    "USA",
                    "USA",
                    "Israel",
                    "Kazakhstan",
                    "USA",
                    "Iran",
                    "Iran",
                    "Japan",
                    "India",
                    "Japan",
                    "South Korea",
                    "North Korea",
                    "Russian Federation",
                    "Kazakhstan",
                    "Russian Federation",
                    "Kazakhstan",
                    "China",
                    "USA",
                    "Japan",
                    "Russian Federation",
                    "USA",
                    "USA",
                    "USA",
                    "Kazakhstan",
                    "China",
                    "Australia",
                    "Kazakhstan",
                    "Russian Federation",
                    "New Zealand",
                    "Kazakhstan",
                    "Russian Federation",
                    "Russian Federation",
                    "USA",
                    "Kiribati",
                    "USA",
                    "Kazakhstan",
                    "USA",
                    "USA",
                    "USA",
                    "Japan",
                    "Kazakhstan",
                    "Russian Federation",
                    "USA",
                    "Kazakhstan",
                    "Russian Federation",
                    "China",
                    "",
                    "",
                    "",
                    "",
                    "",
                    "",
                    "",
                    "",
                    "",
                    "",
                    "",
                    "",
                    "",
                    "",
                    "",
                    ""
                  ],
                  "type": "sunburst",
                  "values": [
                    2,
                    3,
                    7,
                    3,
                    14,
                    2,
                    2,
                    8,
                    2,
                    37,
                    1,
                    1,
                    3,
                    1,
                    2,
                    1,
                    1,
                    1,
                    1,
                    2,
                    5,
                    1,
                    11,
                    2,
                    1,
                    8,
                    3,
                    3,
                    11,
                    7,
                    1,
                    2,
                    55,
                    66,
                    1,
                    2,
                    1,
                    4,
                    3,
                    1,
                    4,
                    14,
                    3,
                    4,
                    1,
                    1,
                    30,
                    5,
                    24,
                    17,
                    2,
                    6,
                    3,
                    2,
                    1,
                    1,
                    1,
                    11,
                    3,
                    1,
                    6,
                    2,
                    1,
                    3,
                    1,
                    1,
                    1,
                    2,
                    1,
                    1,
                    6,
                    1,
                    1,
                    131,
                    12,
                    9,
                    1,
                    6,
                    1,
                    3,
                    12,
                    231,
                    2,
                    3,
                    267,
                    9,
                    3,
                    1,
                    1,
                    1,
                    203,
                    9,
                    495,
                    1119,
                    11,
                    44,
                    1,
                    7,
                    2,
                    33,
                    2,
                    1,
                    139,
                    129,
                    1,
                    1,
                    41,
                    147,
                    2,
                    94,
                    74,
                    40,
                    100,
                    1,
                    9,
                    5,
                    1,
                    4,
                    26,
                    63,
                    6,
                    1,
                    2,
                    1,
                    11,
                    10,
                    6,
                    74,
                    80,
                    6,
                    186,
                    1,
                    3,
                    1,
                    7,
                    9,
                    277,
                    2,
                    4,
                    12,
                    136,
                    251,
                    5,
                    3,
                    1,
                    8,
                    1,
                    1,
                    13,
                    13,
                    10,
                    4,
                    251,
                    11,
                    6,
                    40,
                    1,
                    13,
                    30,
                    76,
                    7,
                    3,
                    5,
                    1,
                    12,
                    10,
                    7,
                    1,
                    79,
                    84,
                    7,
                    114,
                    203,
                    83,
                    2,
                    1,
                    2,
                    579,
                    1198,
                    13,
                    47,
                    8,
                    3,
                    1,
                    36,
                    100,
                    1,
                    140,
                    161,
                    17,
                    5,
                    44,
                    157,
                    1,
                    1,
                    1,
                    1,
                    6,
                    3,
                    269,
                    303,
                    76,
                    14,
                    11,
                    126,
                    701,
                    9,
                    36,
                    13,
                    5,
                    1398,
                    3,
                    1351
                  ]
                }
              ],
              "layout": {
                "legend": {
                  "tracegroupgap": 0
                },
                "margin": {
                  "t": 60
                },
                "template": {
                  "data": {
                    "bar": [
                      {
                        "error_x": {
                          "color": "#2a3f5f"
                        },
                        "error_y": {
                          "color": "#2a3f5f"
                        },
                        "marker": {
                          "line": {
                            "color": "#E5ECF6",
                            "width": 0.5
                          },
                          "pattern": {
                            "fillmode": "overlay",
                            "size": 10,
                            "solidity": 0.2
                          }
                        },
                        "type": "bar"
                      }
                    ],
                    "barpolar": [
                      {
                        "marker": {
                          "line": {
                            "color": "#E5ECF6",
                            "width": 0.5
                          },
                          "pattern": {
                            "fillmode": "overlay",
                            "size": 10,
                            "solidity": 0.2
                          }
                        },
                        "type": "barpolar"
                      }
                    ],
                    "carpet": [
                      {
                        "aaxis": {
                          "endlinecolor": "#2a3f5f",
                          "gridcolor": "white",
                          "linecolor": "white",
                          "minorgridcolor": "white",
                          "startlinecolor": "#2a3f5f"
                        },
                        "baxis": {
                          "endlinecolor": "#2a3f5f",
                          "gridcolor": "white",
                          "linecolor": "white",
                          "minorgridcolor": "white",
                          "startlinecolor": "#2a3f5f"
                        },
                        "type": "carpet"
                      }
                    ],
                    "choropleth": [
                      {
                        "colorbar": {
                          "outlinewidth": 0,
                          "ticks": ""
                        },
                        "type": "choropleth"
                      }
                    ],
                    "contour": [
                      {
                        "colorbar": {
                          "outlinewidth": 0,
                          "ticks": ""
                        },
                        "colorscale": [
                          [
                            0,
                            "#0d0887"
                          ],
                          [
                            0.1111111111111111,
                            "#46039f"
                          ],
                          [
                            0.2222222222222222,
                            "#7201a8"
                          ],
                          [
                            0.3333333333333333,
                            "#9c179e"
                          ],
                          [
                            0.4444444444444444,
                            "#bd3786"
                          ],
                          [
                            0.5555555555555556,
                            "#d8576b"
                          ],
                          [
                            0.6666666666666666,
                            "#ed7953"
                          ],
                          [
                            0.7777777777777778,
                            "#fb9f3a"
                          ],
                          [
                            0.8888888888888888,
                            "#fdca26"
                          ],
                          [
                            1,
                            "#f0f921"
                          ]
                        ],
                        "type": "contour"
                      }
                    ],
                    "contourcarpet": [
                      {
                        "colorbar": {
                          "outlinewidth": 0,
                          "ticks": ""
                        },
                        "type": "contourcarpet"
                      }
                    ],
                    "heatmap": [
                      {
                        "colorbar": {
                          "outlinewidth": 0,
                          "ticks": ""
                        },
                        "colorscale": [
                          [
                            0,
                            "#0d0887"
                          ],
                          [
                            0.1111111111111111,
                            "#46039f"
                          ],
                          [
                            0.2222222222222222,
                            "#7201a8"
                          ],
                          [
                            0.3333333333333333,
                            "#9c179e"
                          ],
                          [
                            0.4444444444444444,
                            "#bd3786"
                          ],
                          [
                            0.5555555555555556,
                            "#d8576b"
                          ],
                          [
                            0.6666666666666666,
                            "#ed7953"
                          ],
                          [
                            0.7777777777777778,
                            "#fb9f3a"
                          ],
                          [
                            0.8888888888888888,
                            "#fdca26"
                          ],
                          [
                            1,
                            "#f0f921"
                          ]
                        ],
                        "type": "heatmap"
                      }
                    ],
                    "heatmapgl": [
                      {
                        "colorbar": {
                          "outlinewidth": 0,
                          "ticks": ""
                        },
                        "colorscale": [
                          [
                            0,
                            "#0d0887"
                          ],
                          [
                            0.1111111111111111,
                            "#46039f"
                          ],
                          [
                            0.2222222222222222,
                            "#7201a8"
                          ],
                          [
                            0.3333333333333333,
                            "#9c179e"
                          ],
                          [
                            0.4444444444444444,
                            "#bd3786"
                          ],
                          [
                            0.5555555555555556,
                            "#d8576b"
                          ],
                          [
                            0.6666666666666666,
                            "#ed7953"
                          ],
                          [
                            0.7777777777777778,
                            "#fb9f3a"
                          ],
                          [
                            0.8888888888888888,
                            "#fdca26"
                          ],
                          [
                            1,
                            "#f0f921"
                          ]
                        ],
                        "type": "heatmapgl"
                      }
                    ],
                    "histogram": [
                      {
                        "marker": {
                          "pattern": {
                            "fillmode": "overlay",
                            "size": 10,
                            "solidity": 0.2
                          }
                        },
                        "type": "histogram"
                      }
                    ],
                    "histogram2d": [
                      {
                        "colorbar": {
                          "outlinewidth": 0,
                          "ticks": ""
                        },
                        "colorscale": [
                          [
                            0,
                            "#0d0887"
                          ],
                          [
                            0.1111111111111111,
                            "#46039f"
                          ],
                          [
                            0.2222222222222222,
                            "#7201a8"
                          ],
                          [
                            0.3333333333333333,
                            "#9c179e"
                          ],
                          [
                            0.4444444444444444,
                            "#bd3786"
                          ],
                          [
                            0.5555555555555556,
                            "#d8576b"
                          ],
                          [
                            0.6666666666666666,
                            "#ed7953"
                          ],
                          [
                            0.7777777777777778,
                            "#fb9f3a"
                          ],
                          [
                            0.8888888888888888,
                            "#fdca26"
                          ],
                          [
                            1,
                            "#f0f921"
                          ]
                        ],
                        "type": "histogram2d"
                      }
                    ],
                    "histogram2dcontour": [
                      {
                        "colorbar": {
                          "outlinewidth": 0,
                          "ticks": ""
                        },
                        "colorscale": [
                          [
                            0,
                            "#0d0887"
                          ],
                          [
                            0.1111111111111111,
                            "#46039f"
                          ],
                          [
                            0.2222222222222222,
                            "#7201a8"
                          ],
                          [
                            0.3333333333333333,
                            "#9c179e"
                          ],
                          [
                            0.4444444444444444,
                            "#bd3786"
                          ],
                          [
                            0.5555555555555556,
                            "#d8576b"
                          ],
                          [
                            0.6666666666666666,
                            "#ed7953"
                          ],
                          [
                            0.7777777777777778,
                            "#fb9f3a"
                          ],
                          [
                            0.8888888888888888,
                            "#fdca26"
                          ],
                          [
                            1,
                            "#f0f921"
                          ]
                        ],
                        "type": "histogram2dcontour"
                      }
                    ],
                    "mesh3d": [
                      {
                        "colorbar": {
                          "outlinewidth": 0,
                          "ticks": ""
                        },
                        "type": "mesh3d"
                      }
                    ],
                    "parcoords": [
                      {
                        "line": {
                          "colorbar": {
                            "outlinewidth": 0,
                            "ticks": ""
                          }
                        },
                        "type": "parcoords"
                      }
                    ],
                    "pie": [
                      {
                        "automargin": true,
                        "type": "pie"
                      }
                    ],
                    "scatter": [
                      {
                        "fillpattern": {
                          "fillmode": "overlay",
                          "size": 10,
                          "solidity": 0.2
                        },
                        "type": "scatter"
                      }
                    ],
                    "scatter3d": [
                      {
                        "line": {
                          "colorbar": {
                            "outlinewidth": 0,
                            "ticks": ""
                          }
                        },
                        "marker": {
                          "colorbar": {
                            "outlinewidth": 0,
                            "ticks": ""
                          }
                        },
                        "type": "scatter3d"
                      }
                    ],
                    "scattercarpet": [
                      {
                        "marker": {
                          "colorbar": {
                            "outlinewidth": 0,
                            "ticks": ""
                          }
                        },
                        "type": "scattercarpet"
                      }
                    ],
                    "scattergeo": [
                      {
                        "marker": {
                          "colorbar": {
                            "outlinewidth": 0,
                            "ticks": ""
                          }
                        },
                        "type": "scattergeo"
                      }
                    ],
                    "scattergl": [
                      {
                        "marker": {
                          "colorbar": {
                            "outlinewidth": 0,
                            "ticks": ""
                          }
                        },
                        "type": "scattergl"
                      }
                    ],
                    "scattermapbox": [
                      {
                        "marker": {
                          "colorbar": {
                            "outlinewidth": 0,
                            "ticks": ""
                          }
                        },
                        "type": "scattermapbox"
                      }
                    ],
                    "scatterpolar": [
                      {
                        "marker": {
                          "colorbar": {
                            "outlinewidth": 0,
                            "ticks": ""
                          }
                        },
                        "type": "scatterpolar"
                      }
                    ],
                    "scatterpolargl": [
                      {
                        "marker": {
                          "colorbar": {
                            "outlinewidth": 0,
                            "ticks": ""
                          }
                        },
                        "type": "scatterpolargl"
                      }
                    ],
                    "scatterternary": [
                      {
                        "marker": {
                          "colorbar": {
                            "outlinewidth": 0,
                            "ticks": ""
                          }
                        },
                        "type": "scatterternary"
                      }
                    ],
                    "surface": [
                      {
                        "colorbar": {
                          "outlinewidth": 0,
                          "ticks": ""
                        },
                        "colorscale": [
                          [
                            0,
                            "#0d0887"
                          ],
                          [
                            0.1111111111111111,
                            "#46039f"
                          ],
                          [
                            0.2222222222222222,
                            "#7201a8"
                          ],
                          [
                            0.3333333333333333,
                            "#9c179e"
                          ],
                          [
                            0.4444444444444444,
                            "#bd3786"
                          ],
                          [
                            0.5555555555555556,
                            "#d8576b"
                          ],
                          [
                            0.6666666666666666,
                            "#ed7953"
                          ],
                          [
                            0.7777777777777778,
                            "#fb9f3a"
                          ],
                          [
                            0.8888888888888888,
                            "#fdca26"
                          ],
                          [
                            1,
                            "#f0f921"
                          ]
                        ],
                        "type": "surface"
                      }
                    ],
                    "table": [
                      {
                        "cells": {
                          "fill": {
                            "color": "#EBF0F8"
                          },
                          "line": {
                            "color": "white"
                          }
                        },
                        "header": {
                          "fill": {
                            "color": "#C8D4E3"
                          },
                          "line": {
                            "color": "white"
                          }
                        },
                        "type": "table"
                      }
                    ]
                  },
                  "layout": {
                    "annotationdefaults": {
                      "arrowcolor": "#2a3f5f",
                      "arrowhead": 0,
                      "arrowwidth": 1
                    },
                    "autotypenumbers": "strict",
                    "coloraxis": {
                      "colorbar": {
                        "outlinewidth": 0,
                        "ticks": ""
                      }
                    },
                    "colorscale": {
                      "diverging": [
                        [
                          0,
                          "#8e0152"
                        ],
                        [
                          0.1,
                          "#c51b7d"
                        ],
                        [
                          0.2,
                          "#de77ae"
                        ],
                        [
                          0.3,
                          "#f1b6da"
                        ],
                        [
                          0.4,
                          "#fde0ef"
                        ],
                        [
                          0.5,
                          "#f7f7f7"
                        ],
                        [
                          0.6,
                          "#e6f5d0"
                        ],
                        [
                          0.7,
                          "#b8e186"
                        ],
                        [
                          0.8,
                          "#7fbc41"
                        ],
                        [
                          0.9,
                          "#4d9221"
                        ],
                        [
                          1,
                          "#276419"
                        ]
                      ],
                      "sequential": [
                        [
                          0,
                          "#0d0887"
                        ],
                        [
                          0.1111111111111111,
                          "#46039f"
                        ],
                        [
                          0.2222222222222222,
                          "#7201a8"
                        ],
                        [
                          0.3333333333333333,
                          "#9c179e"
                        ],
                        [
                          0.4444444444444444,
                          "#bd3786"
                        ],
                        [
                          0.5555555555555556,
                          "#d8576b"
                        ],
                        [
                          0.6666666666666666,
                          "#ed7953"
                        ],
                        [
                          0.7777777777777778,
                          "#fb9f3a"
                        ],
                        [
                          0.8888888888888888,
                          "#fdca26"
                        ],
                        [
                          1,
                          "#f0f921"
                        ]
                      ],
                      "sequentialminus": [
                        [
                          0,
                          "#0d0887"
                        ],
                        [
                          0.1111111111111111,
                          "#46039f"
                        ],
                        [
                          0.2222222222222222,
                          "#7201a8"
                        ],
                        [
                          0.3333333333333333,
                          "#9c179e"
                        ],
                        [
                          0.4444444444444444,
                          "#bd3786"
                        ],
                        [
                          0.5555555555555556,
                          "#d8576b"
                        ],
                        [
                          0.6666666666666666,
                          "#ed7953"
                        ],
                        [
                          0.7777777777777778,
                          "#fb9f3a"
                        ],
                        [
                          0.8888888888888888,
                          "#fdca26"
                        ],
                        [
                          1,
                          "#f0f921"
                        ]
                      ]
                    },
                    "colorway": [
                      "#636efa",
                      "#EF553B",
                      "#00cc96",
                      "#ab63fa",
                      "#FFA15A",
                      "#19d3f3",
                      "#FF6692",
                      "#B6E880",
                      "#FF97FF",
                      "#FECB52"
                    ],
                    "font": {
                      "color": "#2a3f5f"
                    },
                    "geo": {
                      "bgcolor": "white",
                      "lakecolor": "white",
                      "landcolor": "#E5ECF6",
                      "showlakes": true,
                      "showland": true,
                      "subunitcolor": "white"
                    },
                    "hoverlabel": {
                      "align": "left"
                    },
                    "hovermode": "closest",
                    "mapbox": {
                      "style": "light"
                    },
                    "paper_bgcolor": "white",
                    "plot_bgcolor": "#E5ECF6",
                    "polar": {
                      "angularaxis": {
                        "gridcolor": "white",
                        "linecolor": "white",
                        "ticks": ""
                      },
                      "bgcolor": "#E5ECF6",
                      "radialaxis": {
                        "gridcolor": "white",
                        "linecolor": "white",
                        "ticks": ""
                      }
                    },
                    "scene": {
                      "xaxis": {
                        "backgroundcolor": "#E5ECF6",
                        "gridcolor": "white",
                        "gridwidth": 2,
                        "linecolor": "white",
                        "showbackground": true,
                        "ticks": "",
                        "zerolinecolor": "white"
                      },
                      "yaxis": {
                        "backgroundcolor": "#E5ECF6",
                        "gridcolor": "white",
                        "gridwidth": 2,
                        "linecolor": "white",
                        "showbackground": true,
                        "ticks": "",
                        "zerolinecolor": "white"
                      },
                      "zaxis": {
                        "backgroundcolor": "#E5ECF6",
                        "gridcolor": "white",
                        "gridwidth": 2,
                        "linecolor": "white",
                        "showbackground": true,
                        "ticks": "",
                        "zerolinecolor": "white"
                      }
                    },
                    "shapedefaults": {
                      "line": {
                        "color": "#2a3f5f"
                      }
                    },
                    "ternary": {
                      "aaxis": {
                        "gridcolor": "white",
                        "linecolor": "white",
                        "ticks": ""
                      },
                      "baxis": {
                        "gridcolor": "white",
                        "linecolor": "white",
                        "ticks": ""
                      },
                      "bgcolor": "#E5ECF6",
                      "caxis": {
                        "gridcolor": "white",
                        "linecolor": "white",
                        "ticks": ""
                      }
                    },
                    "title": {
                      "x": 0.05
                    },
                    "xaxis": {
                      "automargin": true,
                      "gridcolor": "white",
                      "linecolor": "white",
                      "ticks": "",
                      "title": {
                        "standoff": 15
                      },
                      "zerolinecolor": "white",
                      "zerolinewidth": 2
                    },
                    "yaxis": {
                      "automargin": true,
                      "gridcolor": "white",
                      "linecolor": "white",
                      "ticks": "",
                      "title": {
                        "standoff": 15
                      },
                      "zerolinecolor": "white",
                      "zerolinewidth": 2
                    }
                  }
                }
              }
            }
          },
          "metadata": {},
          "output_type": "display_data"
        }
      ],
      "source": [
        "fig_sunburst = px.sunburst(\n",
        "    data_frame= df_sunburs,\n",
        "    path= ['Country_Name', 'Organisation', 'Mission_Status'],\n",
        "    values= 'Count',\n",
        "    color = 'Country_Name',\n",
        ")\n",
        "\n",
        "fig_sunburst.update_traces(hovertemplate=('<br><b>Country Name</b>: %{customdata[0]}<br>'+\\\n",
        "                            '<br><b>Number of Missions</b>: %{value}<br>'))\n",
        "\n",
        "fig_sunburst.show()"
      ]
    },
    {
      "cell_type": "markdown",
      "metadata": {
        "id": "70pG1BCZa-qY",
        "papermill": {
          "duration": 0.062712,
          "end_time": "2020-10-20T21:34:07.951200",
          "exception": false,
          "start_time": "2020-10-20T21:34:07.888488",
          "status": "completed"
        },
        "tags": []
      },
      "source": [
        "# Total Amount of Money Spent by Organisation on Space Missions"
      ]
    },
    {
      "cell_type": "code",
      "execution_count": 28,
      "metadata": {
        "id": "86OMPfpEpO7R"
      },
      "outputs": [],
      "source": [
        "df_money_spend = df_price.groupby('Organisation').sum().reset_index()\n",
        "\n",
        "df_money_spend['Price'] = df_money_spend['Price'].round(2)"
      ]
    },
    {
      "cell_type": "code",
      "execution_count": 29,
      "metadata": {},
      "outputs": [
        {
          "data": {
            "application/vnd.plotly.v1+json": {
              "config": {
                "plotlyServerURL": "https://plot.ly"
              },
              "data": [
                {
                  "alignmentgroup": "True",
                  "hovertemplate": "Organisation Name=%{x}<br>Total Amount of Money Spent [mln $]=%{text}<extra></extra>",
                  "legendgroup": "",
                  "marker": {
                    "color": "#636efa",
                    "pattern": {
                      "shape": ""
                    }
                  },
                  "name": "",
                  "offsetgroup": "",
                  "orientation": "v",
                  "showlegend": false,
                  "text": [
                    16345,
                    1241,
                    6340.26,
                    20,
                    37,
                    543.4,
                    28.3,
                    1320,
                    2177,
                    168,
                    638,
                    280,
                    3532.5,
                    721.4,
                    76280,
                    3930,
                    10000,
                    97.5,
                    1187.5,
                    15,
                    5444,
                    14798,
                    1550.92,
                    1548.9,
                    12
                  ],
                  "textposition": "outside",
                  "type": "bar",
                  "x": [
                    "Arianespace",
                    "Boeing",
                    "CASC",
                    "EER",
                    "ESA",
                    "Eurockot",
                    "ExPace",
                    "ILS",
                    "ISRO",
                    "JAXA",
                    "Kosmotras",
                    "Lockheed",
                    "MHI",
                    "Martin Marietta",
                    "NASA",
                    "Northrop",
                    "RVSN USSR",
                    "Rocket Lab",
                    "Roscosmos",
                    "Sandia",
                    "SpaceX",
                    "ULA",
                    "US Air Force",
                    "VKS RF",
                    "Virgin Orbit"
                  ],
                  "xaxis": "x",
                  "y": [
                    16345,
                    1241,
                    6340.26,
                    20,
                    37,
                    543.4,
                    28.3,
                    1320,
                    2177,
                    168,
                    638,
                    280,
                    3532.5,
                    721.4,
                    76280,
                    3930,
                    10000,
                    97.5,
                    1187.5,
                    15,
                    5444,
                    14798,
                    1550.92,
                    1548.9,
                    12
                  ],
                  "yaxis": "y"
                }
              ],
              "layout": {
                "barmode": "relative",
                "legend": {
                  "tracegroupgap": 0
                },
                "template": {
                  "data": {
                    "bar": [
                      {
                        "error_x": {
                          "color": "#2a3f5f"
                        },
                        "error_y": {
                          "color": "#2a3f5f"
                        },
                        "marker": {
                          "line": {
                            "color": "#E5ECF6",
                            "width": 0.5
                          },
                          "pattern": {
                            "fillmode": "overlay",
                            "size": 10,
                            "solidity": 0.2
                          }
                        },
                        "type": "bar"
                      }
                    ],
                    "barpolar": [
                      {
                        "marker": {
                          "line": {
                            "color": "#E5ECF6",
                            "width": 0.5
                          },
                          "pattern": {
                            "fillmode": "overlay",
                            "size": 10,
                            "solidity": 0.2
                          }
                        },
                        "type": "barpolar"
                      }
                    ],
                    "carpet": [
                      {
                        "aaxis": {
                          "endlinecolor": "#2a3f5f",
                          "gridcolor": "white",
                          "linecolor": "white",
                          "minorgridcolor": "white",
                          "startlinecolor": "#2a3f5f"
                        },
                        "baxis": {
                          "endlinecolor": "#2a3f5f",
                          "gridcolor": "white",
                          "linecolor": "white",
                          "minorgridcolor": "white",
                          "startlinecolor": "#2a3f5f"
                        },
                        "type": "carpet"
                      }
                    ],
                    "choropleth": [
                      {
                        "colorbar": {
                          "outlinewidth": 0,
                          "ticks": ""
                        },
                        "type": "choropleth"
                      }
                    ],
                    "contour": [
                      {
                        "colorbar": {
                          "outlinewidth": 0,
                          "ticks": ""
                        },
                        "colorscale": [
                          [
                            0,
                            "#0d0887"
                          ],
                          [
                            0.1111111111111111,
                            "#46039f"
                          ],
                          [
                            0.2222222222222222,
                            "#7201a8"
                          ],
                          [
                            0.3333333333333333,
                            "#9c179e"
                          ],
                          [
                            0.4444444444444444,
                            "#bd3786"
                          ],
                          [
                            0.5555555555555556,
                            "#d8576b"
                          ],
                          [
                            0.6666666666666666,
                            "#ed7953"
                          ],
                          [
                            0.7777777777777778,
                            "#fb9f3a"
                          ],
                          [
                            0.8888888888888888,
                            "#fdca26"
                          ],
                          [
                            1,
                            "#f0f921"
                          ]
                        ],
                        "type": "contour"
                      }
                    ],
                    "contourcarpet": [
                      {
                        "colorbar": {
                          "outlinewidth": 0,
                          "ticks": ""
                        },
                        "type": "contourcarpet"
                      }
                    ],
                    "heatmap": [
                      {
                        "colorbar": {
                          "outlinewidth": 0,
                          "ticks": ""
                        },
                        "colorscale": [
                          [
                            0,
                            "#0d0887"
                          ],
                          [
                            0.1111111111111111,
                            "#46039f"
                          ],
                          [
                            0.2222222222222222,
                            "#7201a8"
                          ],
                          [
                            0.3333333333333333,
                            "#9c179e"
                          ],
                          [
                            0.4444444444444444,
                            "#bd3786"
                          ],
                          [
                            0.5555555555555556,
                            "#d8576b"
                          ],
                          [
                            0.6666666666666666,
                            "#ed7953"
                          ],
                          [
                            0.7777777777777778,
                            "#fb9f3a"
                          ],
                          [
                            0.8888888888888888,
                            "#fdca26"
                          ],
                          [
                            1,
                            "#f0f921"
                          ]
                        ],
                        "type": "heatmap"
                      }
                    ],
                    "heatmapgl": [
                      {
                        "colorbar": {
                          "outlinewidth": 0,
                          "ticks": ""
                        },
                        "colorscale": [
                          [
                            0,
                            "#0d0887"
                          ],
                          [
                            0.1111111111111111,
                            "#46039f"
                          ],
                          [
                            0.2222222222222222,
                            "#7201a8"
                          ],
                          [
                            0.3333333333333333,
                            "#9c179e"
                          ],
                          [
                            0.4444444444444444,
                            "#bd3786"
                          ],
                          [
                            0.5555555555555556,
                            "#d8576b"
                          ],
                          [
                            0.6666666666666666,
                            "#ed7953"
                          ],
                          [
                            0.7777777777777778,
                            "#fb9f3a"
                          ],
                          [
                            0.8888888888888888,
                            "#fdca26"
                          ],
                          [
                            1,
                            "#f0f921"
                          ]
                        ],
                        "type": "heatmapgl"
                      }
                    ],
                    "histogram": [
                      {
                        "marker": {
                          "pattern": {
                            "fillmode": "overlay",
                            "size": 10,
                            "solidity": 0.2
                          }
                        },
                        "type": "histogram"
                      }
                    ],
                    "histogram2d": [
                      {
                        "colorbar": {
                          "outlinewidth": 0,
                          "ticks": ""
                        },
                        "colorscale": [
                          [
                            0,
                            "#0d0887"
                          ],
                          [
                            0.1111111111111111,
                            "#46039f"
                          ],
                          [
                            0.2222222222222222,
                            "#7201a8"
                          ],
                          [
                            0.3333333333333333,
                            "#9c179e"
                          ],
                          [
                            0.4444444444444444,
                            "#bd3786"
                          ],
                          [
                            0.5555555555555556,
                            "#d8576b"
                          ],
                          [
                            0.6666666666666666,
                            "#ed7953"
                          ],
                          [
                            0.7777777777777778,
                            "#fb9f3a"
                          ],
                          [
                            0.8888888888888888,
                            "#fdca26"
                          ],
                          [
                            1,
                            "#f0f921"
                          ]
                        ],
                        "type": "histogram2d"
                      }
                    ],
                    "histogram2dcontour": [
                      {
                        "colorbar": {
                          "outlinewidth": 0,
                          "ticks": ""
                        },
                        "colorscale": [
                          [
                            0,
                            "#0d0887"
                          ],
                          [
                            0.1111111111111111,
                            "#46039f"
                          ],
                          [
                            0.2222222222222222,
                            "#7201a8"
                          ],
                          [
                            0.3333333333333333,
                            "#9c179e"
                          ],
                          [
                            0.4444444444444444,
                            "#bd3786"
                          ],
                          [
                            0.5555555555555556,
                            "#d8576b"
                          ],
                          [
                            0.6666666666666666,
                            "#ed7953"
                          ],
                          [
                            0.7777777777777778,
                            "#fb9f3a"
                          ],
                          [
                            0.8888888888888888,
                            "#fdca26"
                          ],
                          [
                            1,
                            "#f0f921"
                          ]
                        ],
                        "type": "histogram2dcontour"
                      }
                    ],
                    "mesh3d": [
                      {
                        "colorbar": {
                          "outlinewidth": 0,
                          "ticks": ""
                        },
                        "type": "mesh3d"
                      }
                    ],
                    "parcoords": [
                      {
                        "line": {
                          "colorbar": {
                            "outlinewidth": 0,
                            "ticks": ""
                          }
                        },
                        "type": "parcoords"
                      }
                    ],
                    "pie": [
                      {
                        "automargin": true,
                        "type": "pie"
                      }
                    ],
                    "scatter": [
                      {
                        "fillpattern": {
                          "fillmode": "overlay",
                          "size": 10,
                          "solidity": 0.2
                        },
                        "type": "scatter"
                      }
                    ],
                    "scatter3d": [
                      {
                        "line": {
                          "colorbar": {
                            "outlinewidth": 0,
                            "ticks": ""
                          }
                        },
                        "marker": {
                          "colorbar": {
                            "outlinewidth": 0,
                            "ticks": ""
                          }
                        },
                        "type": "scatter3d"
                      }
                    ],
                    "scattercarpet": [
                      {
                        "marker": {
                          "colorbar": {
                            "outlinewidth": 0,
                            "ticks": ""
                          }
                        },
                        "type": "scattercarpet"
                      }
                    ],
                    "scattergeo": [
                      {
                        "marker": {
                          "colorbar": {
                            "outlinewidth": 0,
                            "ticks": ""
                          }
                        },
                        "type": "scattergeo"
                      }
                    ],
                    "scattergl": [
                      {
                        "marker": {
                          "colorbar": {
                            "outlinewidth": 0,
                            "ticks": ""
                          }
                        },
                        "type": "scattergl"
                      }
                    ],
                    "scattermapbox": [
                      {
                        "marker": {
                          "colorbar": {
                            "outlinewidth": 0,
                            "ticks": ""
                          }
                        },
                        "type": "scattermapbox"
                      }
                    ],
                    "scatterpolar": [
                      {
                        "marker": {
                          "colorbar": {
                            "outlinewidth": 0,
                            "ticks": ""
                          }
                        },
                        "type": "scatterpolar"
                      }
                    ],
                    "scatterpolargl": [
                      {
                        "marker": {
                          "colorbar": {
                            "outlinewidth": 0,
                            "ticks": ""
                          }
                        },
                        "type": "scatterpolargl"
                      }
                    ],
                    "scatterternary": [
                      {
                        "marker": {
                          "colorbar": {
                            "outlinewidth": 0,
                            "ticks": ""
                          }
                        },
                        "type": "scatterternary"
                      }
                    ],
                    "surface": [
                      {
                        "colorbar": {
                          "outlinewidth": 0,
                          "ticks": ""
                        },
                        "colorscale": [
                          [
                            0,
                            "#0d0887"
                          ],
                          [
                            0.1111111111111111,
                            "#46039f"
                          ],
                          [
                            0.2222222222222222,
                            "#7201a8"
                          ],
                          [
                            0.3333333333333333,
                            "#9c179e"
                          ],
                          [
                            0.4444444444444444,
                            "#bd3786"
                          ],
                          [
                            0.5555555555555556,
                            "#d8576b"
                          ],
                          [
                            0.6666666666666666,
                            "#ed7953"
                          ],
                          [
                            0.7777777777777778,
                            "#fb9f3a"
                          ],
                          [
                            0.8888888888888888,
                            "#fdca26"
                          ],
                          [
                            1,
                            "#f0f921"
                          ]
                        ],
                        "type": "surface"
                      }
                    ],
                    "table": [
                      {
                        "cells": {
                          "fill": {
                            "color": "#EBF0F8"
                          },
                          "line": {
                            "color": "white"
                          }
                        },
                        "header": {
                          "fill": {
                            "color": "#C8D4E3"
                          },
                          "line": {
                            "color": "white"
                          }
                        },
                        "type": "table"
                      }
                    ]
                  },
                  "layout": {
                    "annotationdefaults": {
                      "arrowcolor": "#2a3f5f",
                      "arrowhead": 0,
                      "arrowwidth": 1
                    },
                    "autotypenumbers": "strict",
                    "coloraxis": {
                      "colorbar": {
                        "outlinewidth": 0,
                        "ticks": ""
                      }
                    },
                    "colorscale": {
                      "diverging": [
                        [
                          0,
                          "#8e0152"
                        ],
                        [
                          0.1,
                          "#c51b7d"
                        ],
                        [
                          0.2,
                          "#de77ae"
                        ],
                        [
                          0.3,
                          "#f1b6da"
                        ],
                        [
                          0.4,
                          "#fde0ef"
                        ],
                        [
                          0.5,
                          "#f7f7f7"
                        ],
                        [
                          0.6,
                          "#e6f5d0"
                        ],
                        [
                          0.7,
                          "#b8e186"
                        ],
                        [
                          0.8,
                          "#7fbc41"
                        ],
                        [
                          0.9,
                          "#4d9221"
                        ],
                        [
                          1,
                          "#276419"
                        ]
                      ],
                      "sequential": [
                        [
                          0,
                          "#0d0887"
                        ],
                        [
                          0.1111111111111111,
                          "#46039f"
                        ],
                        [
                          0.2222222222222222,
                          "#7201a8"
                        ],
                        [
                          0.3333333333333333,
                          "#9c179e"
                        ],
                        [
                          0.4444444444444444,
                          "#bd3786"
                        ],
                        [
                          0.5555555555555556,
                          "#d8576b"
                        ],
                        [
                          0.6666666666666666,
                          "#ed7953"
                        ],
                        [
                          0.7777777777777778,
                          "#fb9f3a"
                        ],
                        [
                          0.8888888888888888,
                          "#fdca26"
                        ],
                        [
                          1,
                          "#f0f921"
                        ]
                      ],
                      "sequentialminus": [
                        [
                          0,
                          "#0d0887"
                        ],
                        [
                          0.1111111111111111,
                          "#46039f"
                        ],
                        [
                          0.2222222222222222,
                          "#7201a8"
                        ],
                        [
                          0.3333333333333333,
                          "#9c179e"
                        ],
                        [
                          0.4444444444444444,
                          "#bd3786"
                        ],
                        [
                          0.5555555555555556,
                          "#d8576b"
                        ],
                        [
                          0.6666666666666666,
                          "#ed7953"
                        ],
                        [
                          0.7777777777777778,
                          "#fb9f3a"
                        ],
                        [
                          0.8888888888888888,
                          "#fdca26"
                        ],
                        [
                          1,
                          "#f0f921"
                        ]
                      ]
                    },
                    "colorway": [
                      "#636efa",
                      "#EF553B",
                      "#00cc96",
                      "#ab63fa",
                      "#FFA15A",
                      "#19d3f3",
                      "#FF6692",
                      "#B6E880",
                      "#FF97FF",
                      "#FECB52"
                    ],
                    "font": {
                      "color": "#2a3f5f"
                    },
                    "geo": {
                      "bgcolor": "white",
                      "lakecolor": "white",
                      "landcolor": "#E5ECF6",
                      "showlakes": true,
                      "showland": true,
                      "subunitcolor": "white"
                    },
                    "hoverlabel": {
                      "align": "left"
                    },
                    "hovermode": "closest",
                    "mapbox": {
                      "style": "light"
                    },
                    "paper_bgcolor": "white",
                    "plot_bgcolor": "#E5ECF6",
                    "polar": {
                      "angularaxis": {
                        "gridcolor": "white",
                        "linecolor": "white",
                        "ticks": ""
                      },
                      "bgcolor": "#E5ECF6",
                      "radialaxis": {
                        "gridcolor": "white",
                        "linecolor": "white",
                        "ticks": ""
                      }
                    },
                    "scene": {
                      "xaxis": {
                        "backgroundcolor": "#E5ECF6",
                        "gridcolor": "white",
                        "gridwidth": 2,
                        "linecolor": "white",
                        "showbackground": true,
                        "ticks": "",
                        "zerolinecolor": "white"
                      },
                      "yaxis": {
                        "backgroundcolor": "#E5ECF6",
                        "gridcolor": "white",
                        "gridwidth": 2,
                        "linecolor": "white",
                        "showbackground": true,
                        "ticks": "",
                        "zerolinecolor": "white"
                      },
                      "zaxis": {
                        "backgroundcolor": "#E5ECF6",
                        "gridcolor": "white",
                        "gridwidth": 2,
                        "linecolor": "white",
                        "showbackground": true,
                        "ticks": "",
                        "zerolinecolor": "white"
                      }
                    },
                    "shapedefaults": {
                      "line": {
                        "color": "#2a3f5f"
                      }
                    },
                    "ternary": {
                      "aaxis": {
                        "gridcolor": "white",
                        "linecolor": "white",
                        "ticks": ""
                      },
                      "baxis": {
                        "gridcolor": "white",
                        "linecolor": "white",
                        "ticks": ""
                      },
                      "bgcolor": "#E5ECF6",
                      "caxis": {
                        "gridcolor": "white",
                        "linecolor": "white",
                        "ticks": ""
                      }
                    },
                    "title": {
                      "x": 0.05
                    },
                    "xaxis": {
                      "automargin": true,
                      "gridcolor": "white",
                      "linecolor": "white",
                      "ticks": "",
                      "title": {
                        "standoff": 15
                      },
                      "zerolinecolor": "white",
                      "zerolinewidth": 2
                    },
                    "yaxis": {
                      "automargin": true,
                      "gridcolor": "white",
                      "linecolor": "white",
                      "ticks": "",
                      "title": {
                        "standoff": 15
                      },
                      "zerolinecolor": "white",
                      "zerolinewidth": 2
                    }
                  }
                },
                "title": {
                  "text": "Total Amount of Money Spent by Organisation on Space Missions"
                },
                "xaxis": {
                  "anchor": "y",
                  "categoryorder": "total descending",
                  "domain": [
                    0,
                    1
                  ],
                  "title": {
                    "text": "Organisation Name"
                  }
                },
                "yaxis": {
                  "anchor": "x",
                  "domain": [
                    0,
                    1
                  ],
                  "range": [
                    0,
                    83908
                  ],
                  "title": {
                    "text": "Total Amount of Money Spent [mln $]"
                  }
                }
              }
            }
          },
          "metadata": {},
          "output_type": "display_data"
        }
      ],
      "source": [
        "fig_money_spend = px.bar(\n",
        "    data_frame=df_money_spend,\n",
        "    x = 'Organisation',\n",
        "    y = 'Price',\n",
        "    labels={'Price': 'Total Amount of Money Spent [mln $]', 'Organisation': 'Organisation Name'},\n",
        "    title= 'Total Amount of Money Spent by Organisation on Space Missions',\n",
        "    text= 'Price'\n",
        ")\n",
        "\n",
        "fig_money_spend.update_layout(xaxis={'categoryorder':'total descending'})\n",
        "fig_money_spend.update_layout(yaxis={'range': [0, df_money_spend['Price'].max() * 1.1]}) \n",
        "fig_money_spend.update_traces(textposition='outside')\n",
        "\n",
        "fig_money_spend.show()"
      ]
    },
    {
      "cell_type": "code",
      "execution_count": null,
      "metadata": {
        "id": "VEkHzAk2pTvj"
      },
      "outputs": [],
      "source": [
        "df_avg_launch = df_price\n",
        "df_avg_launch['Avg_Price'] = df_avg_launch.groupby('Organisation')['Price'].transform('mean')\n",
        "df_avg_launch['Avg_Price'] = df_avg_launch['Avg_Price'].round(2)\n",
        "df_avg_launch = df_avg_launch.drop_duplicates('Organisation')"
      ]
    },
    {
      "cell_type": "code",
      "execution_count": 31,
      "metadata": {
        "id": "R5rFf501pKXD"
      },
      "outputs": [
        {
          "data": {
            "application/vnd.plotly.v1+json": {
              "config": {
                "plotlyServerURL": "https://plot.ly"
              },
              "data": [
                {
                  "alignmentgroup": "True",
                  "hovertemplate": "Organisation Name=%{x}<br>Money Spend [mln $]=%{text}<extra></extra>",
                  "legendgroup": "",
                  "marker": {
                    "color": "#636efa",
                    "pattern": {
                      "shape": ""
                    }
                  },
                  "name": "",
                  "offsetgroup": "",
                  "orientation": "v",
                  "showlegend": false,
                  "text": [
                    54.99,
                    40.13,
                    51.63,
                    151,
                    56,
                    47.35,
                    28.3,
                    7.5,
                    12,
                    95.47,
                    170.26,
                    46.94,
                    32.49,
                    101.54,
                    41.8,
                    15,
                    29,
                    37,
                    511.95,
                    177.29,
                    35,
                    20,
                    80.16,
                    5000,
                    59.65
                  ],
                  "textposition": "outside",
                  "type": "bar",
                  "x": [
                    "SpaceX",
                    "CASC",
                    "Roscosmos",
                    "ULA",
                    "JAXA",
                    "Northrop",
                    "ExPace",
                    "Rocket Lab",
                    "Virgin Orbit",
                    "MHI",
                    "Arianespace",
                    "VKS RF",
                    "ISRO",
                    "ILS",
                    "Eurockot",
                    "Sandia",
                    "Kosmotras",
                    "ESA",
                    "NASA",
                    "Boeing",
                    "Lockheed",
                    "EER",
                    "Martin Marietta",
                    "RVSN USSR",
                    "US Air Force"
                  ],
                  "xaxis": "x",
                  "y": [
                    54.99,
                    40.13,
                    51.63,
                    151,
                    56,
                    47.35,
                    28.3,
                    7.5,
                    12,
                    95.47,
                    170.26,
                    46.94,
                    32.49,
                    101.54,
                    41.8,
                    15,
                    29,
                    37,
                    511.95,
                    177.29,
                    35,
                    20,
                    80.16,
                    5000,
                    59.65
                  ],
                  "yaxis": "y"
                }
              ],
              "layout": {
                "barmode": "relative",
                "legend": {
                  "tracegroupgap": 0
                },
                "template": {
                  "data": {
                    "bar": [
                      {
                        "error_x": {
                          "color": "#2a3f5f"
                        },
                        "error_y": {
                          "color": "#2a3f5f"
                        },
                        "marker": {
                          "line": {
                            "color": "#E5ECF6",
                            "width": 0.5
                          },
                          "pattern": {
                            "fillmode": "overlay",
                            "size": 10,
                            "solidity": 0.2
                          }
                        },
                        "type": "bar"
                      }
                    ],
                    "barpolar": [
                      {
                        "marker": {
                          "line": {
                            "color": "#E5ECF6",
                            "width": 0.5
                          },
                          "pattern": {
                            "fillmode": "overlay",
                            "size": 10,
                            "solidity": 0.2
                          }
                        },
                        "type": "barpolar"
                      }
                    ],
                    "carpet": [
                      {
                        "aaxis": {
                          "endlinecolor": "#2a3f5f",
                          "gridcolor": "white",
                          "linecolor": "white",
                          "minorgridcolor": "white",
                          "startlinecolor": "#2a3f5f"
                        },
                        "baxis": {
                          "endlinecolor": "#2a3f5f",
                          "gridcolor": "white",
                          "linecolor": "white",
                          "minorgridcolor": "white",
                          "startlinecolor": "#2a3f5f"
                        },
                        "type": "carpet"
                      }
                    ],
                    "choropleth": [
                      {
                        "colorbar": {
                          "outlinewidth": 0,
                          "ticks": ""
                        },
                        "type": "choropleth"
                      }
                    ],
                    "contour": [
                      {
                        "colorbar": {
                          "outlinewidth": 0,
                          "ticks": ""
                        },
                        "colorscale": [
                          [
                            0,
                            "#0d0887"
                          ],
                          [
                            0.1111111111111111,
                            "#46039f"
                          ],
                          [
                            0.2222222222222222,
                            "#7201a8"
                          ],
                          [
                            0.3333333333333333,
                            "#9c179e"
                          ],
                          [
                            0.4444444444444444,
                            "#bd3786"
                          ],
                          [
                            0.5555555555555556,
                            "#d8576b"
                          ],
                          [
                            0.6666666666666666,
                            "#ed7953"
                          ],
                          [
                            0.7777777777777778,
                            "#fb9f3a"
                          ],
                          [
                            0.8888888888888888,
                            "#fdca26"
                          ],
                          [
                            1,
                            "#f0f921"
                          ]
                        ],
                        "type": "contour"
                      }
                    ],
                    "contourcarpet": [
                      {
                        "colorbar": {
                          "outlinewidth": 0,
                          "ticks": ""
                        },
                        "type": "contourcarpet"
                      }
                    ],
                    "heatmap": [
                      {
                        "colorbar": {
                          "outlinewidth": 0,
                          "ticks": ""
                        },
                        "colorscale": [
                          [
                            0,
                            "#0d0887"
                          ],
                          [
                            0.1111111111111111,
                            "#46039f"
                          ],
                          [
                            0.2222222222222222,
                            "#7201a8"
                          ],
                          [
                            0.3333333333333333,
                            "#9c179e"
                          ],
                          [
                            0.4444444444444444,
                            "#bd3786"
                          ],
                          [
                            0.5555555555555556,
                            "#d8576b"
                          ],
                          [
                            0.6666666666666666,
                            "#ed7953"
                          ],
                          [
                            0.7777777777777778,
                            "#fb9f3a"
                          ],
                          [
                            0.8888888888888888,
                            "#fdca26"
                          ],
                          [
                            1,
                            "#f0f921"
                          ]
                        ],
                        "type": "heatmap"
                      }
                    ],
                    "heatmapgl": [
                      {
                        "colorbar": {
                          "outlinewidth": 0,
                          "ticks": ""
                        },
                        "colorscale": [
                          [
                            0,
                            "#0d0887"
                          ],
                          [
                            0.1111111111111111,
                            "#46039f"
                          ],
                          [
                            0.2222222222222222,
                            "#7201a8"
                          ],
                          [
                            0.3333333333333333,
                            "#9c179e"
                          ],
                          [
                            0.4444444444444444,
                            "#bd3786"
                          ],
                          [
                            0.5555555555555556,
                            "#d8576b"
                          ],
                          [
                            0.6666666666666666,
                            "#ed7953"
                          ],
                          [
                            0.7777777777777778,
                            "#fb9f3a"
                          ],
                          [
                            0.8888888888888888,
                            "#fdca26"
                          ],
                          [
                            1,
                            "#f0f921"
                          ]
                        ],
                        "type": "heatmapgl"
                      }
                    ],
                    "histogram": [
                      {
                        "marker": {
                          "pattern": {
                            "fillmode": "overlay",
                            "size": 10,
                            "solidity": 0.2
                          }
                        },
                        "type": "histogram"
                      }
                    ],
                    "histogram2d": [
                      {
                        "colorbar": {
                          "outlinewidth": 0,
                          "ticks": ""
                        },
                        "colorscale": [
                          [
                            0,
                            "#0d0887"
                          ],
                          [
                            0.1111111111111111,
                            "#46039f"
                          ],
                          [
                            0.2222222222222222,
                            "#7201a8"
                          ],
                          [
                            0.3333333333333333,
                            "#9c179e"
                          ],
                          [
                            0.4444444444444444,
                            "#bd3786"
                          ],
                          [
                            0.5555555555555556,
                            "#d8576b"
                          ],
                          [
                            0.6666666666666666,
                            "#ed7953"
                          ],
                          [
                            0.7777777777777778,
                            "#fb9f3a"
                          ],
                          [
                            0.8888888888888888,
                            "#fdca26"
                          ],
                          [
                            1,
                            "#f0f921"
                          ]
                        ],
                        "type": "histogram2d"
                      }
                    ],
                    "histogram2dcontour": [
                      {
                        "colorbar": {
                          "outlinewidth": 0,
                          "ticks": ""
                        },
                        "colorscale": [
                          [
                            0,
                            "#0d0887"
                          ],
                          [
                            0.1111111111111111,
                            "#46039f"
                          ],
                          [
                            0.2222222222222222,
                            "#7201a8"
                          ],
                          [
                            0.3333333333333333,
                            "#9c179e"
                          ],
                          [
                            0.4444444444444444,
                            "#bd3786"
                          ],
                          [
                            0.5555555555555556,
                            "#d8576b"
                          ],
                          [
                            0.6666666666666666,
                            "#ed7953"
                          ],
                          [
                            0.7777777777777778,
                            "#fb9f3a"
                          ],
                          [
                            0.8888888888888888,
                            "#fdca26"
                          ],
                          [
                            1,
                            "#f0f921"
                          ]
                        ],
                        "type": "histogram2dcontour"
                      }
                    ],
                    "mesh3d": [
                      {
                        "colorbar": {
                          "outlinewidth": 0,
                          "ticks": ""
                        },
                        "type": "mesh3d"
                      }
                    ],
                    "parcoords": [
                      {
                        "line": {
                          "colorbar": {
                            "outlinewidth": 0,
                            "ticks": ""
                          }
                        },
                        "type": "parcoords"
                      }
                    ],
                    "pie": [
                      {
                        "automargin": true,
                        "type": "pie"
                      }
                    ],
                    "scatter": [
                      {
                        "fillpattern": {
                          "fillmode": "overlay",
                          "size": 10,
                          "solidity": 0.2
                        },
                        "type": "scatter"
                      }
                    ],
                    "scatter3d": [
                      {
                        "line": {
                          "colorbar": {
                            "outlinewidth": 0,
                            "ticks": ""
                          }
                        },
                        "marker": {
                          "colorbar": {
                            "outlinewidth": 0,
                            "ticks": ""
                          }
                        },
                        "type": "scatter3d"
                      }
                    ],
                    "scattercarpet": [
                      {
                        "marker": {
                          "colorbar": {
                            "outlinewidth": 0,
                            "ticks": ""
                          }
                        },
                        "type": "scattercarpet"
                      }
                    ],
                    "scattergeo": [
                      {
                        "marker": {
                          "colorbar": {
                            "outlinewidth": 0,
                            "ticks": ""
                          }
                        },
                        "type": "scattergeo"
                      }
                    ],
                    "scattergl": [
                      {
                        "marker": {
                          "colorbar": {
                            "outlinewidth": 0,
                            "ticks": ""
                          }
                        },
                        "type": "scattergl"
                      }
                    ],
                    "scattermapbox": [
                      {
                        "marker": {
                          "colorbar": {
                            "outlinewidth": 0,
                            "ticks": ""
                          }
                        },
                        "type": "scattermapbox"
                      }
                    ],
                    "scatterpolar": [
                      {
                        "marker": {
                          "colorbar": {
                            "outlinewidth": 0,
                            "ticks": ""
                          }
                        },
                        "type": "scatterpolar"
                      }
                    ],
                    "scatterpolargl": [
                      {
                        "marker": {
                          "colorbar": {
                            "outlinewidth": 0,
                            "ticks": ""
                          }
                        },
                        "type": "scatterpolargl"
                      }
                    ],
                    "scatterternary": [
                      {
                        "marker": {
                          "colorbar": {
                            "outlinewidth": 0,
                            "ticks": ""
                          }
                        },
                        "type": "scatterternary"
                      }
                    ],
                    "surface": [
                      {
                        "colorbar": {
                          "outlinewidth": 0,
                          "ticks": ""
                        },
                        "colorscale": [
                          [
                            0,
                            "#0d0887"
                          ],
                          [
                            0.1111111111111111,
                            "#46039f"
                          ],
                          [
                            0.2222222222222222,
                            "#7201a8"
                          ],
                          [
                            0.3333333333333333,
                            "#9c179e"
                          ],
                          [
                            0.4444444444444444,
                            "#bd3786"
                          ],
                          [
                            0.5555555555555556,
                            "#d8576b"
                          ],
                          [
                            0.6666666666666666,
                            "#ed7953"
                          ],
                          [
                            0.7777777777777778,
                            "#fb9f3a"
                          ],
                          [
                            0.8888888888888888,
                            "#fdca26"
                          ],
                          [
                            1,
                            "#f0f921"
                          ]
                        ],
                        "type": "surface"
                      }
                    ],
                    "table": [
                      {
                        "cells": {
                          "fill": {
                            "color": "#EBF0F8"
                          },
                          "line": {
                            "color": "white"
                          }
                        },
                        "header": {
                          "fill": {
                            "color": "#C8D4E3"
                          },
                          "line": {
                            "color": "white"
                          }
                        },
                        "type": "table"
                      }
                    ]
                  },
                  "layout": {
                    "annotationdefaults": {
                      "arrowcolor": "#2a3f5f",
                      "arrowhead": 0,
                      "arrowwidth": 1
                    },
                    "autotypenumbers": "strict",
                    "coloraxis": {
                      "colorbar": {
                        "outlinewidth": 0,
                        "ticks": ""
                      }
                    },
                    "colorscale": {
                      "diverging": [
                        [
                          0,
                          "#8e0152"
                        ],
                        [
                          0.1,
                          "#c51b7d"
                        ],
                        [
                          0.2,
                          "#de77ae"
                        ],
                        [
                          0.3,
                          "#f1b6da"
                        ],
                        [
                          0.4,
                          "#fde0ef"
                        ],
                        [
                          0.5,
                          "#f7f7f7"
                        ],
                        [
                          0.6,
                          "#e6f5d0"
                        ],
                        [
                          0.7,
                          "#b8e186"
                        ],
                        [
                          0.8,
                          "#7fbc41"
                        ],
                        [
                          0.9,
                          "#4d9221"
                        ],
                        [
                          1,
                          "#276419"
                        ]
                      ],
                      "sequential": [
                        [
                          0,
                          "#0d0887"
                        ],
                        [
                          0.1111111111111111,
                          "#46039f"
                        ],
                        [
                          0.2222222222222222,
                          "#7201a8"
                        ],
                        [
                          0.3333333333333333,
                          "#9c179e"
                        ],
                        [
                          0.4444444444444444,
                          "#bd3786"
                        ],
                        [
                          0.5555555555555556,
                          "#d8576b"
                        ],
                        [
                          0.6666666666666666,
                          "#ed7953"
                        ],
                        [
                          0.7777777777777778,
                          "#fb9f3a"
                        ],
                        [
                          0.8888888888888888,
                          "#fdca26"
                        ],
                        [
                          1,
                          "#f0f921"
                        ]
                      ],
                      "sequentialminus": [
                        [
                          0,
                          "#0d0887"
                        ],
                        [
                          0.1111111111111111,
                          "#46039f"
                        ],
                        [
                          0.2222222222222222,
                          "#7201a8"
                        ],
                        [
                          0.3333333333333333,
                          "#9c179e"
                        ],
                        [
                          0.4444444444444444,
                          "#bd3786"
                        ],
                        [
                          0.5555555555555556,
                          "#d8576b"
                        ],
                        [
                          0.6666666666666666,
                          "#ed7953"
                        ],
                        [
                          0.7777777777777778,
                          "#fb9f3a"
                        ],
                        [
                          0.8888888888888888,
                          "#fdca26"
                        ],
                        [
                          1,
                          "#f0f921"
                        ]
                      ]
                    },
                    "colorway": [
                      "#636efa",
                      "#EF553B",
                      "#00cc96",
                      "#ab63fa",
                      "#FFA15A",
                      "#19d3f3",
                      "#FF6692",
                      "#B6E880",
                      "#FF97FF",
                      "#FECB52"
                    ],
                    "font": {
                      "color": "#2a3f5f"
                    },
                    "geo": {
                      "bgcolor": "white",
                      "lakecolor": "white",
                      "landcolor": "#E5ECF6",
                      "showlakes": true,
                      "showland": true,
                      "subunitcolor": "white"
                    },
                    "hoverlabel": {
                      "align": "left"
                    },
                    "hovermode": "closest",
                    "mapbox": {
                      "style": "light"
                    },
                    "paper_bgcolor": "white",
                    "plot_bgcolor": "#E5ECF6",
                    "polar": {
                      "angularaxis": {
                        "gridcolor": "white",
                        "linecolor": "white",
                        "ticks": ""
                      },
                      "bgcolor": "#E5ECF6",
                      "radialaxis": {
                        "gridcolor": "white",
                        "linecolor": "white",
                        "ticks": ""
                      }
                    },
                    "scene": {
                      "xaxis": {
                        "backgroundcolor": "#E5ECF6",
                        "gridcolor": "white",
                        "gridwidth": 2,
                        "linecolor": "white",
                        "showbackground": true,
                        "ticks": "",
                        "zerolinecolor": "white"
                      },
                      "yaxis": {
                        "backgroundcolor": "#E5ECF6",
                        "gridcolor": "white",
                        "gridwidth": 2,
                        "linecolor": "white",
                        "showbackground": true,
                        "ticks": "",
                        "zerolinecolor": "white"
                      },
                      "zaxis": {
                        "backgroundcolor": "#E5ECF6",
                        "gridcolor": "white",
                        "gridwidth": 2,
                        "linecolor": "white",
                        "showbackground": true,
                        "ticks": "",
                        "zerolinecolor": "white"
                      }
                    },
                    "shapedefaults": {
                      "line": {
                        "color": "#2a3f5f"
                      }
                    },
                    "ternary": {
                      "aaxis": {
                        "gridcolor": "white",
                        "linecolor": "white",
                        "ticks": ""
                      },
                      "baxis": {
                        "gridcolor": "white",
                        "linecolor": "white",
                        "ticks": ""
                      },
                      "bgcolor": "#E5ECF6",
                      "caxis": {
                        "gridcolor": "white",
                        "linecolor": "white",
                        "ticks": ""
                      }
                    },
                    "title": {
                      "x": 0.05
                    },
                    "xaxis": {
                      "automargin": true,
                      "gridcolor": "white",
                      "linecolor": "white",
                      "ticks": "",
                      "title": {
                        "standoff": 15
                      },
                      "zerolinecolor": "white",
                      "zerolinewidth": 2
                    },
                    "yaxis": {
                      "automargin": true,
                      "gridcolor": "white",
                      "linecolor": "white",
                      "ticks": "",
                      "title": {
                        "standoff": 15
                      },
                      "zerolinecolor": "white",
                      "zerolinewidth": 2
                    }
                  }
                },
                "title": {
                  "text": "Amount of Money Spent by Organisation per Launch"
                },
                "xaxis": {
                  "anchor": "y",
                  "categoryorder": "total descending",
                  "domain": [
                    0,
                    1
                  ],
                  "title": {
                    "text": "Organisation Name"
                  }
                },
                "yaxis": {
                  "anchor": "x",
                  "domain": [
                    0,
                    1
                  ],
                  "range": [
                    0,
                    5500
                  ],
                  "title": {
                    "text": "Money Spend [mln $]"
                  }
                }
              }
            }
          },
          "metadata": {},
          "output_type": "display_data"
        }
      ],
      "source": [
        "fig_avg_launch = px.bar(\n",
        "    data_frame=df_avg_launch,\n",
        "    x = 'Organisation',\n",
        "    y = 'Avg_Price',\n",
        "    labels={'Avg_Price': 'Money Spend [mln $]', 'Organisation': 'Organisation Name'},\n",
        "    title= 'Amount of Money Spent by Organisation per Launch',\n",
        "    text= 'Avg_Price'\n",
        ")\n",
        "\n",
        "fig_avg_launch.update_layout(yaxis={'range': [0, df_avg_launch['Price'].max() * 1.1]}) \n",
        "fig_avg_launch.update_layout(xaxis={'categoryorder':'total descending'})\n",
        "fig_avg_launch.update_traces(textposition='outside')\n",
        "\n",
        "fig_avg_launch.show()"
      ]
    },
    {
      "cell_type": "markdown",
      "metadata": {
        "id": "yRa1BbPoa-qf",
        "papermill": {
          "duration": 0.042662,
          "end_time": "2020-10-20T21:34:09.943196",
          "exception": false,
          "start_time": "2020-10-20T21:34:09.900534",
          "status": "completed"
        },
        "tags": []
      },
      "source": [
        "# Number of Launches per Year"
      ]
    },
    {
      "cell_type": "code",
      "execution_count": 32,
      "metadata": {},
      "outputs": [],
      "source": [
        "def extract_year(date_string):\n",
        "    try:\n",
        "        return pd.to_datetime(date_string).year\n",
        "    except ValueError:\n",
        "        return pd.to_datetime(date_string, format='%a %b %d, %Y').year"
      ]
    },
    {
      "cell_type": "code",
      "execution_count": 33,
      "metadata": {
        "id": "_9FohVh3pcAJ"
      },
      "outputs": [],
      "source": [
        "df_date = df_location\n",
        "\n",
        "df_date['Year'] = df_date['Date'].apply(extract_year)\n",
        "\n",
        "df_launch_per_year = df_date.groupby('Year').count().reset_index()"
      ]
    },
    {
      "cell_type": "code",
      "execution_count": 34,
      "metadata": {},
      "outputs": [
        {
          "data": {
            "application/vnd.plotly.v1+json": {
              "config": {
                "plotlyServerURL": "https://plot.ly"
              },
              "data": [
                {
                  "alignmentgroup": "True",
                  "hovertemplate": "Year=%{x}<br>Number of Launch=%{marker.color}<extra></extra>",
                  "legendgroup": "",
                  "marker": {
                    "color": [
                      3,
                      28,
                      20,
                      39,
                      52,
                      82,
                      41,
                      60,
                      87,
                      101,
                      106,
                      103,
                      103,
                      107,
                      119,
                      99,
                      103,
                      98,
                      113,
                      113,
                      114,
                      97,
                      49,
                      55,
                      71,
                      67,
                      66,
                      69,
                      74,
                      62,
                      56,
                      59,
                      52,
                      80,
                      59,
                      62,
                      61,
                      64,
                      61,
                      60,
                      70,
                      68,
                      57,
                      57,
                      43,
                      49,
                      52,
                      40,
                      37,
                      49,
                      50,
                      48,
                      50,
                      37,
                      42,
                      38,
                      46,
                      53,
                      52,
                      90,
                      92,
                      117,
                      109,
                      63
                    ],
                    "coloraxis": "coloraxis",
                    "pattern": {
                      "shape": ""
                    }
                  },
                  "name": "",
                  "offsetgroup": "",
                  "orientation": "v",
                  "showlegend": false,
                  "textposition": "auto",
                  "type": "bar",
                  "x": [
                    1957,
                    1958,
                    1959,
                    1960,
                    1961,
                    1962,
                    1963,
                    1964,
                    1965,
                    1966,
                    1967,
                    1968,
                    1969,
                    1970,
                    1971,
                    1972,
                    1973,
                    1974,
                    1975,
                    1976,
                    1977,
                    1978,
                    1979,
                    1980,
                    1981,
                    1982,
                    1983,
                    1984,
                    1985,
                    1986,
                    1987,
                    1988,
                    1989,
                    1990,
                    1991,
                    1992,
                    1993,
                    1994,
                    1995,
                    1996,
                    1997,
                    1998,
                    1999,
                    2000,
                    2001,
                    2002,
                    2003,
                    2004,
                    2005,
                    2006,
                    2007,
                    2008,
                    2009,
                    2010,
                    2011,
                    2012,
                    2013,
                    2014,
                    2015,
                    2016,
                    2017,
                    2018,
                    2019,
                    2020
                  ],
                  "xaxis": "x",
                  "y": [
                    3,
                    28,
                    20,
                    39,
                    52,
                    82,
                    41,
                    60,
                    87,
                    101,
                    106,
                    103,
                    103,
                    107,
                    119,
                    99,
                    103,
                    98,
                    113,
                    113,
                    114,
                    97,
                    49,
                    55,
                    71,
                    67,
                    66,
                    69,
                    74,
                    62,
                    56,
                    59,
                    52,
                    80,
                    59,
                    62,
                    61,
                    64,
                    61,
                    60,
                    70,
                    68,
                    57,
                    57,
                    43,
                    49,
                    52,
                    40,
                    37,
                    49,
                    50,
                    48,
                    50,
                    37,
                    42,
                    38,
                    46,
                    53,
                    52,
                    90,
                    92,
                    117,
                    109,
                    63
                  ],
                  "yaxis": "y"
                }
              ],
              "layout": {
                "barmode": "relative",
                "coloraxis": {
                  "colorbar": {
                    "title": {
                      "text": "Number of Launch"
                    }
                  },
                  "colorscale": [
                    [
                      0,
                      "#0d0887"
                    ],
                    [
                      0.1111111111111111,
                      "#46039f"
                    ],
                    [
                      0.2222222222222222,
                      "#7201a8"
                    ],
                    [
                      0.3333333333333333,
                      "#9c179e"
                    ],
                    [
                      0.4444444444444444,
                      "#bd3786"
                    ],
                    [
                      0.5555555555555556,
                      "#d8576b"
                    ],
                    [
                      0.6666666666666666,
                      "#ed7953"
                    ],
                    [
                      0.7777777777777778,
                      "#fb9f3a"
                    ],
                    [
                      0.8888888888888888,
                      "#fdca26"
                    ],
                    [
                      1,
                      "#f0f921"
                    ]
                  ]
                },
                "legend": {
                  "tracegroupgap": 0
                },
                "template": {
                  "data": {
                    "bar": [
                      {
                        "error_x": {
                          "color": "#2a3f5f"
                        },
                        "error_y": {
                          "color": "#2a3f5f"
                        },
                        "marker": {
                          "line": {
                            "color": "#E5ECF6",
                            "width": 0.5
                          },
                          "pattern": {
                            "fillmode": "overlay",
                            "size": 10,
                            "solidity": 0.2
                          }
                        },
                        "type": "bar"
                      }
                    ],
                    "barpolar": [
                      {
                        "marker": {
                          "line": {
                            "color": "#E5ECF6",
                            "width": 0.5
                          },
                          "pattern": {
                            "fillmode": "overlay",
                            "size": 10,
                            "solidity": 0.2
                          }
                        },
                        "type": "barpolar"
                      }
                    ],
                    "carpet": [
                      {
                        "aaxis": {
                          "endlinecolor": "#2a3f5f",
                          "gridcolor": "white",
                          "linecolor": "white",
                          "minorgridcolor": "white",
                          "startlinecolor": "#2a3f5f"
                        },
                        "baxis": {
                          "endlinecolor": "#2a3f5f",
                          "gridcolor": "white",
                          "linecolor": "white",
                          "minorgridcolor": "white",
                          "startlinecolor": "#2a3f5f"
                        },
                        "type": "carpet"
                      }
                    ],
                    "choropleth": [
                      {
                        "colorbar": {
                          "outlinewidth": 0,
                          "ticks": ""
                        },
                        "type": "choropleth"
                      }
                    ],
                    "contour": [
                      {
                        "colorbar": {
                          "outlinewidth": 0,
                          "ticks": ""
                        },
                        "colorscale": [
                          [
                            0,
                            "#0d0887"
                          ],
                          [
                            0.1111111111111111,
                            "#46039f"
                          ],
                          [
                            0.2222222222222222,
                            "#7201a8"
                          ],
                          [
                            0.3333333333333333,
                            "#9c179e"
                          ],
                          [
                            0.4444444444444444,
                            "#bd3786"
                          ],
                          [
                            0.5555555555555556,
                            "#d8576b"
                          ],
                          [
                            0.6666666666666666,
                            "#ed7953"
                          ],
                          [
                            0.7777777777777778,
                            "#fb9f3a"
                          ],
                          [
                            0.8888888888888888,
                            "#fdca26"
                          ],
                          [
                            1,
                            "#f0f921"
                          ]
                        ],
                        "type": "contour"
                      }
                    ],
                    "contourcarpet": [
                      {
                        "colorbar": {
                          "outlinewidth": 0,
                          "ticks": ""
                        },
                        "type": "contourcarpet"
                      }
                    ],
                    "heatmap": [
                      {
                        "colorbar": {
                          "outlinewidth": 0,
                          "ticks": ""
                        },
                        "colorscale": [
                          [
                            0,
                            "#0d0887"
                          ],
                          [
                            0.1111111111111111,
                            "#46039f"
                          ],
                          [
                            0.2222222222222222,
                            "#7201a8"
                          ],
                          [
                            0.3333333333333333,
                            "#9c179e"
                          ],
                          [
                            0.4444444444444444,
                            "#bd3786"
                          ],
                          [
                            0.5555555555555556,
                            "#d8576b"
                          ],
                          [
                            0.6666666666666666,
                            "#ed7953"
                          ],
                          [
                            0.7777777777777778,
                            "#fb9f3a"
                          ],
                          [
                            0.8888888888888888,
                            "#fdca26"
                          ],
                          [
                            1,
                            "#f0f921"
                          ]
                        ],
                        "type": "heatmap"
                      }
                    ],
                    "heatmapgl": [
                      {
                        "colorbar": {
                          "outlinewidth": 0,
                          "ticks": ""
                        },
                        "colorscale": [
                          [
                            0,
                            "#0d0887"
                          ],
                          [
                            0.1111111111111111,
                            "#46039f"
                          ],
                          [
                            0.2222222222222222,
                            "#7201a8"
                          ],
                          [
                            0.3333333333333333,
                            "#9c179e"
                          ],
                          [
                            0.4444444444444444,
                            "#bd3786"
                          ],
                          [
                            0.5555555555555556,
                            "#d8576b"
                          ],
                          [
                            0.6666666666666666,
                            "#ed7953"
                          ],
                          [
                            0.7777777777777778,
                            "#fb9f3a"
                          ],
                          [
                            0.8888888888888888,
                            "#fdca26"
                          ],
                          [
                            1,
                            "#f0f921"
                          ]
                        ],
                        "type": "heatmapgl"
                      }
                    ],
                    "histogram": [
                      {
                        "marker": {
                          "pattern": {
                            "fillmode": "overlay",
                            "size": 10,
                            "solidity": 0.2
                          }
                        },
                        "type": "histogram"
                      }
                    ],
                    "histogram2d": [
                      {
                        "colorbar": {
                          "outlinewidth": 0,
                          "ticks": ""
                        },
                        "colorscale": [
                          [
                            0,
                            "#0d0887"
                          ],
                          [
                            0.1111111111111111,
                            "#46039f"
                          ],
                          [
                            0.2222222222222222,
                            "#7201a8"
                          ],
                          [
                            0.3333333333333333,
                            "#9c179e"
                          ],
                          [
                            0.4444444444444444,
                            "#bd3786"
                          ],
                          [
                            0.5555555555555556,
                            "#d8576b"
                          ],
                          [
                            0.6666666666666666,
                            "#ed7953"
                          ],
                          [
                            0.7777777777777778,
                            "#fb9f3a"
                          ],
                          [
                            0.8888888888888888,
                            "#fdca26"
                          ],
                          [
                            1,
                            "#f0f921"
                          ]
                        ],
                        "type": "histogram2d"
                      }
                    ],
                    "histogram2dcontour": [
                      {
                        "colorbar": {
                          "outlinewidth": 0,
                          "ticks": ""
                        },
                        "colorscale": [
                          [
                            0,
                            "#0d0887"
                          ],
                          [
                            0.1111111111111111,
                            "#46039f"
                          ],
                          [
                            0.2222222222222222,
                            "#7201a8"
                          ],
                          [
                            0.3333333333333333,
                            "#9c179e"
                          ],
                          [
                            0.4444444444444444,
                            "#bd3786"
                          ],
                          [
                            0.5555555555555556,
                            "#d8576b"
                          ],
                          [
                            0.6666666666666666,
                            "#ed7953"
                          ],
                          [
                            0.7777777777777778,
                            "#fb9f3a"
                          ],
                          [
                            0.8888888888888888,
                            "#fdca26"
                          ],
                          [
                            1,
                            "#f0f921"
                          ]
                        ],
                        "type": "histogram2dcontour"
                      }
                    ],
                    "mesh3d": [
                      {
                        "colorbar": {
                          "outlinewidth": 0,
                          "ticks": ""
                        },
                        "type": "mesh3d"
                      }
                    ],
                    "parcoords": [
                      {
                        "line": {
                          "colorbar": {
                            "outlinewidth": 0,
                            "ticks": ""
                          }
                        },
                        "type": "parcoords"
                      }
                    ],
                    "pie": [
                      {
                        "automargin": true,
                        "type": "pie"
                      }
                    ],
                    "scatter": [
                      {
                        "fillpattern": {
                          "fillmode": "overlay",
                          "size": 10,
                          "solidity": 0.2
                        },
                        "type": "scatter"
                      }
                    ],
                    "scatter3d": [
                      {
                        "line": {
                          "colorbar": {
                            "outlinewidth": 0,
                            "ticks": ""
                          }
                        },
                        "marker": {
                          "colorbar": {
                            "outlinewidth": 0,
                            "ticks": ""
                          }
                        },
                        "type": "scatter3d"
                      }
                    ],
                    "scattercarpet": [
                      {
                        "marker": {
                          "colorbar": {
                            "outlinewidth": 0,
                            "ticks": ""
                          }
                        },
                        "type": "scattercarpet"
                      }
                    ],
                    "scattergeo": [
                      {
                        "marker": {
                          "colorbar": {
                            "outlinewidth": 0,
                            "ticks": ""
                          }
                        },
                        "type": "scattergeo"
                      }
                    ],
                    "scattergl": [
                      {
                        "marker": {
                          "colorbar": {
                            "outlinewidth": 0,
                            "ticks": ""
                          }
                        },
                        "type": "scattergl"
                      }
                    ],
                    "scattermapbox": [
                      {
                        "marker": {
                          "colorbar": {
                            "outlinewidth": 0,
                            "ticks": ""
                          }
                        },
                        "type": "scattermapbox"
                      }
                    ],
                    "scatterpolar": [
                      {
                        "marker": {
                          "colorbar": {
                            "outlinewidth": 0,
                            "ticks": ""
                          }
                        },
                        "type": "scatterpolar"
                      }
                    ],
                    "scatterpolargl": [
                      {
                        "marker": {
                          "colorbar": {
                            "outlinewidth": 0,
                            "ticks": ""
                          }
                        },
                        "type": "scatterpolargl"
                      }
                    ],
                    "scatterternary": [
                      {
                        "marker": {
                          "colorbar": {
                            "outlinewidth": 0,
                            "ticks": ""
                          }
                        },
                        "type": "scatterternary"
                      }
                    ],
                    "surface": [
                      {
                        "colorbar": {
                          "outlinewidth": 0,
                          "ticks": ""
                        },
                        "colorscale": [
                          [
                            0,
                            "#0d0887"
                          ],
                          [
                            0.1111111111111111,
                            "#46039f"
                          ],
                          [
                            0.2222222222222222,
                            "#7201a8"
                          ],
                          [
                            0.3333333333333333,
                            "#9c179e"
                          ],
                          [
                            0.4444444444444444,
                            "#bd3786"
                          ],
                          [
                            0.5555555555555556,
                            "#d8576b"
                          ],
                          [
                            0.6666666666666666,
                            "#ed7953"
                          ],
                          [
                            0.7777777777777778,
                            "#fb9f3a"
                          ],
                          [
                            0.8888888888888888,
                            "#fdca26"
                          ],
                          [
                            1,
                            "#f0f921"
                          ]
                        ],
                        "type": "surface"
                      }
                    ],
                    "table": [
                      {
                        "cells": {
                          "fill": {
                            "color": "#EBF0F8"
                          },
                          "line": {
                            "color": "white"
                          }
                        },
                        "header": {
                          "fill": {
                            "color": "#C8D4E3"
                          },
                          "line": {
                            "color": "white"
                          }
                        },
                        "type": "table"
                      }
                    ]
                  },
                  "layout": {
                    "annotationdefaults": {
                      "arrowcolor": "#2a3f5f",
                      "arrowhead": 0,
                      "arrowwidth": 1
                    },
                    "autotypenumbers": "strict",
                    "coloraxis": {
                      "colorbar": {
                        "outlinewidth": 0,
                        "ticks": ""
                      }
                    },
                    "colorscale": {
                      "diverging": [
                        [
                          0,
                          "#8e0152"
                        ],
                        [
                          0.1,
                          "#c51b7d"
                        ],
                        [
                          0.2,
                          "#de77ae"
                        ],
                        [
                          0.3,
                          "#f1b6da"
                        ],
                        [
                          0.4,
                          "#fde0ef"
                        ],
                        [
                          0.5,
                          "#f7f7f7"
                        ],
                        [
                          0.6,
                          "#e6f5d0"
                        ],
                        [
                          0.7,
                          "#b8e186"
                        ],
                        [
                          0.8,
                          "#7fbc41"
                        ],
                        [
                          0.9,
                          "#4d9221"
                        ],
                        [
                          1,
                          "#276419"
                        ]
                      ],
                      "sequential": [
                        [
                          0,
                          "#0d0887"
                        ],
                        [
                          0.1111111111111111,
                          "#46039f"
                        ],
                        [
                          0.2222222222222222,
                          "#7201a8"
                        ],
                        [
                          0.3333333333333333,
                          "#9c179e"
                        ],
                        [
                          0.4444444444444444,
                          "#bd3786"
                        ],
                        [
                          0.5555555555555556,
                          "#d8576b"
                        ],
                        [
                          0.6666666666666666,
                          "#ed7953"
                        ],
                        [
                          0.7777777777777778,
                          "#fb9f3a"
                        ],
                        [
                          0.8888888888888888,
                          "#fdca26"
                        ],
                        [
                          1,
                          "#f0f921"
                        ]
                      ],
                      "sequentialminus": [
                        [
                          0,
                          "#0d0887"
                        ],
                        [
                          0.1111111111111111,
                          "#46039f"
                        ],
                        [
                          0.2222222222222222,
                          "#7201a8"
                        ],
                        [
                          0.3333333333333333,
                          "#9c179e"
                        ],
                        [
                          0.4444444444444444,
                          "#bd3786"
                        ],
                        [
                          0.5555555555555556,
                          "#d8576b"
                        ],
                        [
                          0.6666666666666666,
                          "#ed7953"
                        ],
                        [
                          0.7777777777777778,
                          "#fb9f3a"
                        ],
                        [
                          0.8888888888888888,
                          "#fdca26"
                        ],
                        [
                          1,
                          "#f0f921"
                        ]
                      ]
                    },
                    "colorway": [
                      "#636efa",
                      "#EF553B",
                      "#00cc96",
                      "#ab63fa",
                      "#FFA15A",
                      "#19d3f3",
                      "#FF6692",
                      "#B6E880",
                      "#FF97FF",
                      "#FECB52"
                    ],
                    "font": {
                      "color": "#2a3f5f"
                    },
                    "geo": {
                      "bgcolor": "white",
                      "lakecolor": "white",
                      "landcolor": "#E5ECF6",
                      "showlakes": true,
                      "showland": true,
                      "subunitcolor": "white"
                    },
                    "hoverlabel": {
                      "align": "left"
                    },
                    "hovermode": "closest",
                    "mapbox": {
                      "style": "light"
                    },
                    "paper_bgcolor": "white",
                    "plot_bgcolor": "#E5ECF6",
                    "polar": {
                      "angularaxis": {
                        "gridcolor": "white",
                        "linecolor": "white",
                        "ticks": ""
                      },
                      "bgcolor": "#E5ECF6",
                      "radialaxis": {
                        "gridcolor": "white",
                        "linecolor": "white",
                        "ticks": ""
                      }
                    },
                    "scene": {
                      "xaxis": {
                        "backgroundcolor": "#E5ECF6",
                        "gridcolor": "white",
                        "gridwidth": 2,
                        "linecolor": "white",
                        "showbackground": true,
                        "ticks": "",
                        "zerolinecolor": "white"
                      },
                      "yaxis": {
                        "backgroundcolor": "#E5ECF6",
                        "gridcolor": "white",
                        "gridwidth": 2,
                        "linecolor": "white",
                        "showbackground": true,
                        "ticks": "",
                        "zerolinecolor": "white"
                      },
                      "zaxis": {
                        "backgroundcolor": "#E5ECF6",
                        "gridcolor": "white",
                        "gridwidth": 2,
                        "linecolor": "white",
                        "showbackground": true,
                        "ticks": "",
                        "zerolinecolor": "white"
                      }
                    },
                    "shapedefaults": {
                      "line": {
                        "color": "#2a3f5f"
                      }
                    },
                    "ternary": {
                      "aaxis": {
                        "gridcolor": "white",
                        "linecolor": "white",
                        "ticks": ""
                      },
                      "baxis": {
                        "gridcolor": "white",
                        "linecolor": "white",
                        "ticks": ""
                      },
                      "bgcolor": "#E5ECF6",
                      "caxis": {
                        "gridcolor": "white",
                        "linecolor": "white",
                        "ticks": ""
                      }
                    },
                    "title": {
                      "x": 0.05
                    },
                    "xaxis": {
                      "automargin": true,
                      "gridcolor": "white",
                      "linecolor": "white",
                      "ticks": "",
                      "title": {
                        "standoff": 15
                      },
                      "zerolinecolor": "white",
                      "zerolinewidth": 2
                    },
                    "yaxis": {
                      "automargin": true,
                      "gridcolor": "white",
                      "linecolor": "white",
                      "ticks": "",
                      "title": {
                        "standoff": 15
                      },
                      "zerolinecolor": "white",
                      "zerolinewidth": 2
                    }
                  }
                },
                "title": {
                  "text": "Number of Launches per Year"
                },
                "xaxis": {
                  "anchor": "y",
                  "domain": [
                    0,
                    1
                  ],
                  "title": {
                    "text": "Year"
                  }
                },
                "yaxis": {
                  "anchor": "x",
                  "domain": [
                    0,
                    1
                  ],
                  "title": {
                    "text": "Number of Launch"
                  }
                }
              }
            }
          },
          "metadata": {},
          "output_type": "display_data"
        }
      ],
      "source": [
        "fig_launch_per_year = px.bar(\n",
        "    data_frame=df_launch_per_year,\n",
        "    x = 'Year',\n",
        "    y = 'Organisation',\n",
        "    labels={'Organisation': 'Number of Launch'},\n",
        "    color='Organisation',\n",
        "    title='Number of Launches per Year'\n",
        ")\n",
        "\n",
        "fig_launch_per_year.show()"
      ]
    },
    {
      "cell_type": "markdown",
      "metadata": {
        "id": "6Cm8_ch6a-q7",
        "papermill": {
          "duration": 0.052399,
          "end_time": "2020-10-20T21:34:13.756781",
          "exception": false,
          "start_time": "2020-10-20T21:34:13.704382",
          "status": "completed"
        },
        "tags": []
      },
      "source": [
        "# Cold War Space Race: USA vs USSR"
      ]
    },
    {
      "cell_type": "code",
      "execution_count": null,
      "metadata": {},
      "outputs": [],
      "source": [
        "df_cold_war = df_date[(df_date['Year'] <= 1991) & ((df_date['Country_Name'] == 'USA') | (df_date['Organisation'] == 'RVSN USSR'))]\n",
        "\n",
        "df_cold_war['Country_Name'] = df_cold_war['Country_Name'].replace(['Kazakhstan', 'Russian Federation'], 'USSR')"
      ]
    },
    {
      "cell_type": "markdown",
      "metadata": {
        "id": "Os-3A5vLa-q9",
        "papermill": {
          "duration": 0.054318,
          "end_time": "2020-10-20T21:34:14.089604",
          "exception": false,
          "start_time": "2020-10-20T21:34:14.035286",
          "status": "completed"
        },
        "tags": []
      },
      "source": [
        "## Total number of launches of the USSR and the USA"
      ]
    },
    {
      "cell_type": "code",
      "execution_count": 36,
      "metadata": {},
      "outputs": [],
      "source": [
        "df_cold_war_count = df_cold_war.groupby('Country_Name').count().reset_index()"
      ]
    },
    {
      "cell_type": "code",
      "execution_count": 37,
      "metadata": {
        "id": "1irc6_W9rD59"
      },
      "outputs": [
        {
          "data": {
            "application/vnd.plotly.v1+json": {
              "config": {
                "plotlyServerURL": "https://plot.ly"
              },
              "data": [
                {
                  "domain": {
                    "x": [
                      0,
                      1
                    ],
                    "y": [
                      0,
                      1
                    ]
                  },
                  "hole": 0.5,
                  "hovertemplate": "Country_Name=%{label}<br>Code=%{value}<extra></extra>",
                  "labels": [
                    "USA",
                    "USSR"
                  ],
                  "legendgroup": "",
                  "name": "",
                  "showlegend": true,
                  "textfont": {
                    "size": 20
                  },
                  "textinfo": "value",
                  "type": "pie",
                  "values": [
                    662,
                    1765
                  ]
                }
              ],
              "layout": {
                "legend": {
                  "tracegroupgap": 0
                },
                "margin": {
                  "t": 60
                },
                "piecolorway": [
                  "#d53030",
                  "#3033d5"
                ],
                "template": {
                  "data": {
                    "bar": [
                      {
                        "error_x": {
                          "color": "#2a3f5f"
                        },
                        "error_y": {
                          "color": "#2a3f5f"
                        },
                        "marker": {
                          "line": {
                            "color": "#E5ECF6",
                            "width": 0.5
                          },
                          "pattern": {
                            "fillmode": "overlay",
                            "size": 10,
                            "solidity": 0.2
                          }
                        },
                        "type": "bar"
                      }
                    ],
                    "barpolar": [
                      {
                        "marker": {
                          "line": {
                            "color": "#E5ECF6",
                            "width": 0.5
                          },
                          "pattern": {
                            "fillmode": "overlay",
                            "size": 10,
                            "solidity": 0.2
                          }
                        },
                        "type": "barpolar"
                      }
                    ],
                    "carpet": [
                      {
                        "aaxis": {
                          "endlinecolor": "#2a3f5f",
                          "gridcolor": "white",
                          "linecolor": "white",
                          "minorgridcolor": "white",
                          "startlinecolor": "#2a3f5f"
                        },
                        "baxis": {
                          "endlinecolor": "#2a3f5f",
                          "gridcolor": "white",
                          "linecolor": "white",
                          "minorgridcolor": "white",
                          "startlinecolor": "#2a3f5f"
                        },
                        "type": "carpet"
                      }
                    ],
                    "choropleth": [
                      {
                        "colorbar": {
                          "outlinewidth": 0,
                          "ticks": ""
                        },
                        "type": "choropleth"
                      }
                    ],
                    "contour": [
                      {
                        "colorbar": {
                          "outlinewidth": 0,
                          "ticks": ""
                        },
                        "colorscale": [
                          [
                            0,
                            "#0d0887"
                          ],
                          [
                            0.1111111111111111,
                            "#46039f"
                          ],
                          [
                            0.2222222222222222,
                            "#7201a8"
                          ],
                          [
                            0.3333333333333333,
                            "#9c179e"
                          ],
                          [
                            0.4444444444444444,
                            "#bd3786"
                          ],
                          [
                            0.5555555555555556,
                            "#d8576b"
                          ],
                          [
                            0.6666666666666666,
                            "#ed7953"
                          ],
                          [
                            0.7777777777777778,
                            "#fb9f3a"
                          ],
                          [
                            0.8888888888888888,
                            "#fdca26"
                          ],
                          [
                            1,
                            "#f0f921"
                          ]
                        ],
                        "type": "contour"
                      }
                    ],
                    "contourcarpet": [
                      {
                        "colorbar": {
                          "outlinewidth": 0,
                          "ticks": ""
                        },
                        "type": "contourcarpet"
                      }
                    ],
                    "heatmap": [
                      {
                        "colorbar": {
                          "outlinewidth": 0,
                          "ticks": ""
                        },
                        "colorscale": [
                          [
                            0,
                            "#0d0887"
                          ],
                          [
                            0.1111111111111111,
                            "#46039f"
                          ],
                          [
                            0.2222222222222222,
                            "#7201a8"
                          ],
                          [
                            0.3333333333333333,
                            "#9c179e"
                          ],
                          [
                            0.4444444444444444,
                            "#bd3786"
                          ],
                          [
                            0.5555555555555556,
                            "#d8576b"
                          ],
                          [
                            0.6666666666666666,
                            "#ed7953"
                          ],
                          [
                            0.7777777777777778,
                            "#fb9f3a"
                          ],
                          [
                            0.8888888888888888,
                            "#fdca26"
                          ],
                          [
                            1,
                            "#f0f921"
                          ]
                        ],
                        "type": "heatmap"
                      }
                    ],
                    "heatmapgl": [
                      {
                        "colorbar": {
                          "outlinewidth": 0,
                          "ticks": ""
                        },
                        "colorscale": [
                          [
                            0,
                            "#0d0887"
                          ],
                          [
                            0.1111111111111111,
                            "#46039f"
                          ],
                          [
                            0.2222222222222222,
                            "#7201a8"
                          ],
                          [
                            0.3333333333333333,
                            "#9c179e"
                          ],
                          [
                            0.4444444444444444,
                            "#bd3786"
                          ],
                          [
                            0.5555555555555556,
                            "#d8576b"
                          ],
                          [
                            0.6666666666666666,
                            "#ed7953"
                          ],
                          [
                            0.7777777777777778,
                            "#fb9f3a"
                          ],
                          [
                            0.8888888888888888,
                            "#fdca26"
                          ],
                          [
                            1,
                            "#f0f921"
                          ]
                        ],
                        "type": "heatmapgl"
                      }
                    ],
                    "histogram": [
                      {
                        "marker": {
                          "pattern": {
                            "fillmode": "overlay",
                            "size": 10,
                            "solidity": 0.2
                          }
                        },
                        "type": "histogram"
                      }
                    ],
                    "histogram2d": [
                      {
                        "colorbar": {
                          "outlinewidth": 0,
                          "ticks": ""
                        },
                        "colorscale": [
                          [
                            0,
                            "#0d0887"
                          ],
                          [
                            0.1111111111111111,
                            "#46039f"
                          ],
                          [
                            0.2222222222222222,
                            "#7201a8"
                          ],
                          [
                            0.3333333333333333,
                            "#9c179e"
                          ],
                          [
                            0.4444444444444444,
                            "#bd3786"
                          ],
                          [
                            0.5555555555555556,
                            "#d8576b"
                          ],
                          [
                            0.6666666666666666,
                            "#ed7953"
                          ],
                          [
                            0.7777777777777778,
                            "#fb9f3a"
                          ],
                          [
                            0.8888888888888888,
                            "#fdca26"
                          ],
                          [
                            1,
                            "#f0f921"
                          ]
                        ],
                        "type": "histogram2d"
                      }
                    ],
                    "histogram2dcontour": [
                      {
                        "colorbar": {
                          "outlinewidth": 0,
                          "ticks": ""
                        },
                        "colorscale": [
                          [
                            0,
                            "#0d0887"
                          ],
                          [
                            0.1111111111111111,
                            "#46039f"
                          ],
                          [
                            0.2222222222222222,
                            "#7201a8"
                          ],
                          [
                            0.3333333333333333,
                            "#9c179e"
                          ],
                          [
                            0.4444444444444444,
                            "#bd3786"
                          ],
                          [
                            0.5555555555555556,
                            "#d8576b"
                          ],
                          [
                            0.6666666666666666,
                            "#ed7953"
                          ],
                          [
                            0.7777777777777778,
                            "#fb9f3a"
                          ],
                          [
                            0.8888888888888888,
                            "#fdca26"
                          ],
                          [
                            1,
                            "#f0f921"
                          ]
                        ],
                        "type": "histogram2dcontour"
                      }
                    ],
                    "mesh3d": [
                      {
                        "colorbar": {
                          "outlinewidth": 0,
                          "ticks": ""
                        },
                        "type": "mesh3d"
                      }
                    ],
                    "parcoords": [
                      {
                        "line": {
                          "colorbar": {
                            "outlinewidth": 0,
                            "ticks": ""
                          }
                        },
                        "type": "parcoords"
                      }
                    ],
                    "pie": [
                      {
                        "automargin": true,
                        "type": "pie"
                      }
                    ],
                    "scatter": [
                      {
                        "fillpattern": {
                          "fillmode": "overlay",
                          "size": 10,
                          "solidity": 0.2
                        },
                        "type": "scatter"
                      }
                    ],
                    "scatter3d": [
                      {
                        "line": {
                          "colorbar": {
                            "outlinewidth": 0,
                            "ticks": ""
                          }
                        },
                        "marker": {
                          "colorbar": {
                            "outlinewidth": 0,
                            "ticks": ""
                          }
                        },
                        "type": "scatter3d"
                      }
                    ],
                    "scattercarpet": [
                      {
                        "marker": {
                          "colorbar": {
                            "outlinewidth": 0,
                            "ticks": ""
                          }
                        },
                        "type": "scattercarpet"
                      }
                    ],
                    "scattergeo": [
                      {
                        "marker": {
                          "colorbar": {
                            "outlinewidth": 0,
                            "ticks": ""
                          }
                        },
                        "type": "scattergeo"
                      }
                    ],
                    "scattergl": [
                      {
                        "marker": {
                          "colorbar": {
                            "outlinewidth": 0,
                            "ticks": ""
                          }
                        },
                        "type": "scattergl"
                      }
                    ],
                    "scattermapbox": [
                      {
                        "marker": {
                          "colorbar": {
                            "outlinewidth": 0,
                            "ticks": ""
                          }
                        },
                        "type": "scattermapbox"
                      }
                    ],
                    "scatterpolar": [
                      {
                        "marker": {
                          "colorbar": {
                            "outlinewidth": 0,
                            "ticks": ""
                          }
                        },
                        "type": "scatterpolar"
                      }
                    ],
                    "scatterpolargl": [
                      {
                        "marker": {
                          "colorbar": {
                            "outlinewidth": 0,
                            "ticks": ""
                          }
                        },
                        "type": "scatterpolargl"
                      }
                    ],
                    "scatterternary": [
                      {
                        "marker": {
                          "colorbar": {
                            "outlinewidth": 0,
                            "ticks": ""
                          }
                        },
                        "type": "scatterternary"
                      }
                    ],
                    "surface": [
                      {
                        "colorbar": {
                          "outlinewidth": 0,
                          "ticks": ""
                        },
                        "colorscale": [
                          [
                            0,
                            "#0d0887"
                          ],
                          [
                            0.1111111111111111,
                            "#46039f"
                          ],
                          [
                            0.2222222222222222,
                            "#7201a8"
                          ],
                          [
                            0.3333333333333333,
                            "#9c179e"
                          ],
                          [
                            0.4444444444444444,
                            "#bd3786"
                          ],
                          [
                            0.5555555555555556,
                            "#d8576b"
                          ],
                          [
                            0.6666666666666666,
                            "#ed7953"
                          ],
                          [
                            0.7777777777777778,
                            "#fb9f3a"
                          ],
                          [
                            0.8888888888888888,
                            "#fdca26"
                          ],
                          [
                            1,
                            "#f0f921"
                          ]
                        ],
                        "type": "surface"
                      }
                    ],
                    "table": [
                      {
                        "cells": {
                          "fill": {
                            "color": "#EBF0F8"
                          },
                          "line": {
                            "color": "white"
                          }
                        },
                        "header": {
                          "fill": {
                            "color": "#C8D4E3"
                          },
                          "line": {
                            "color": "white"
                          }
                        },
                        "type": "table"
                      }
                    ]
                  },
                  "layout": {
                    "annotationdefaults": {
                      "arrowcolor": "#2a3f5f",
                      "arrowhead": 0,
                      "arrowwidth": 1
                    },
                    "autotypenumbers": "strict",
                    "coloraxis": {
                      "colorbar": {
                        "outlinewidth": 0,
                        "ticks": ""
                      }
                    },
                    "colorscale": {
                      "diverging": [
                        [
                          0,
                          "#8e0152"
                        ],
                        [
                          0.1,
                          "#c51b7d"
                        ],
                        [
                          0.2,
                          "#de77ae"
                        ],
                        [
                          0.3,
                          "#f1b6da"
                        ],
                        [
                          0.4,
                          "#fde0ef"
                        ],
                        [
                          0.5,
                          "#f7f7f7"
                        ],
                        [
                          0.6,
                          "#e6f5d0"
                        ],
                        [
                          0.7,
                          "#b8e186"
                        ],
                        [
                          0.8,
                          "#7fbc41"
                        ],
                        [
                          0.9,
                          "#4d9221"
                        ],
                        [
                          1,
                          "#276419"
                        ]
                      ],
                      "sequential": [
                        [
                          0,
                          "#0d0887"
                        ],
                        [
                          0.1111111111111111,
                          "#46039f"
                        ],
                        [
                          0.2222222222222222,
                          "#7201a8"
                        ],
                        [
                          0.3333333333333333,
                          "#9c179e"
                        ],
                        [
                          0.4444444444444444,
                          "#bd3786"
                        ],
                        [
                          0.5555555555555556,
                          "#d8576b"
                        ],
                        [
                          0.6666666666666666,
                          "#ed7953"
                        ],
                        [
                          0.7777777777777778,
                          "#fb9f3a"
                        ],
                        [
                          0.8888888888888888,
                          "#fdca26"
                        ],
                        [
                          1,
                          "#f0f921"
                        ]
                      ],
                      "sequentialminus": [
                        [
                          0,
                          "#0d0887"
                        ],
                        [
                          0.1111111111111111,
                          "#46039f"
                        ],
                        [
                          0.2222222222222222,
                          "#7201a8"
                        ],
                        [
                          0.3333333333333333,
                          "#9c179e"
                        ],
                        [
                          0.4444444444444444,
                          "#bd3786"
                        ],
                        [
                          0.5555555555555556,
                          "#d8576b"
                        ],
                        [
                          0.6666666666666666,
                          "#ed7953"
                        ],
                        [
                          0.7777777777777778,
                          "#fb9f3a"
                        ],
                        [
                          0.8888888888888888,
                          "#fdca26"
                        ],
                        [
                          1,
                          "#f0f921"
                        ]
                      ]
                    },
                    "colorway": [
                      "#636efa",
                      "#EF553B",
                      "#00cc96",
                      "#ab63fa",
                      "#FFA15A",
                      "#19d3f3",
                      "#FF6692",
                      "#B6E880",
                      "#FF97FF",
                      "#FECB52"
                    ],
                    "font": {
                      "color": "#2a3f5f"
                    },
                    "geo": {
                      "bgcolor": "white",
                      "lakecolor": "white",
                      "landcolor": "#E5ECF6",
                      "showlakes": true,
                      "showland": true,
                      "subunitcolor": "white"
                    },
                    "hoverlabel": {
                      "align": "left"
                    },
                    "hovermode": "closest",
                    "mapbox": {
                      "style": "light"
                    },
                    "paper_bgcolor": "white",
                    "plot_bgcolor": "#E5ECF6",
                    "polar": {
                      "angularaxis": {
                        "gridcolor": "white",
                        "linecolor": "white",
                        "ticks": ""
                      },
                      "bgcolor": "#E5ECF6",
                      "radialaxis": {
                        "gridcolor": "white",
                        "linecolor": "white",
                        "ticks": ""
                      }
                    },
                    "scene": {
                      "xaxis": {
                        "backgroundcolor": "#E5ECF6",
                        "gridcolor": "white",
                        "gridwidth": 2,
                        "linecolor": "white",
                        "showbackground": true,
                        "ticks": "",
                        "zerolinecolor": "white"
                      },
                      "yaxis": {
                        "backgroundcolor": "#E5ECF6",
                        "gridcolor": "white",
                        "gridwidth": 2,
                        "linecolor": "white",
                        "showbackground": true,
                        "ticks": "",
                        "zerolinecolor": "white"
                      },
                      "zaxis": {
                        "backgroundcolor": "#E5ECF6",
                        "gridcolor": "white",
                        "gridwidth": 2,
                        "linecolor": "white",
                        "showbackground": true,
                        "ticks": "",
                        "zerolinecolor": "white"
                      }
                    },
                    "shapedefaults": {
                      "line": {
                        "color": "#2a3f5f"
                      }
                    },
                    "ternary": {
                      "aaxis": {
                        "gridcolor": "white",
                        "linecolor": "white",
                        "ticks": ""
                      },
                      "baxis": {
                        "gridcolor": "white",
                        "linecolor": "white",
                        "ticks": ""
                      },
                      "bgcolor": "#E5ECF6",
                      "caxis": {
                        "gridcolor": "white",
                        "linecolor": "white",
                        "ticks": ""
                      }
                    },
                    "title": {
                      "x": 0.05
                    },
                    "xaxis": {
                      "automargin": true,
                      "gridcolor": "white",
                      "linecolor": "white",
                      "ticks": "",
                      "title": {
                        "standoff": 15
                      },
                      "zerolinecolor": "white",
                      "zerolinewidth": 2
                    },
                    "yaxis": {
                      "automargin": true,
                      "gridcolor": "white",
                      "linecolor": "white",
                      "ticks": "",
                      "title": {
                        "standoff": 15
                      },
                      "zerolinecolor": "white",
                      "zerolinewidth": 2
                    }
                  }
                }
              }
            }
          },
          "metadata": {},
          "output_type": "display_data"
        }
      ],
      "source": [
        "custom_palette = [\"#d53030\", \"#3033d5\"]\n",
        "\n",
        "fig_launch_cold_war = px.pie(data_frame=df_cold_war_count, \n",
        "                             values='Code', \n",
        "                             names='Country_Name',  \n",
        "                             color_discrete_sequence=custom_palette,\n",
        "                             hole = 0.5)\n",
        "\n",
        "\n",
        "\n",
        "\n",
        "fig_launch_cold_war.update_traces( textinfo='value', textfont_size=20)\n",
        "\n",
        "fig_launch_cold_war.show()"
      ]
    },
    {
      "cell_type": "markdown",
      "metadata": {
        "id": "0C29Zz4xa-rA",
        "papermill": {
          "duration": 0.052921,
          "end_time": "2020-10-20T21:34:14.340085",
          "exception": false,
          "start_time": "2020-10-20T21:34:14.287164",
          "status": "completed"
        },
        "tags": []
      },
      "source": [
        "## CTotal Number of Launches Year-On-Year by the Two Superpowers"
      ]
    },
    {
      "cell_type": "code",
      "execution_count": 38,
      "metadata": {
        "id": "9ISKvOiCrS73"
      },
      "outputs": [],
      "source": [
        "df_cold_war_count_year = df_cold_war.groupby(['Country_Name', 'Year']).count().reset_index()\n",
        "\n",
        "df_cold_war_count_year['Year'] = pd.to_datetime(df_cold_war_count_year['Year'], format='%Y')"
      ]
    },
    {
      "cell_type": "code",
      "execution_count": 39,
      "metadata": {},
      "outputs": [
        {
          "data": {
            "text/html": [
              "\n",
              "        <iframe\n",
              "            width=\"100%\"\n",
              "            height=\"650\"\n",
              "            src=\"http://127.0.0.1:8050/\"\n",
              "            frameborder=\"0\"\n",
              "            allowfullscreen\n",
              "            \n",
              "        ></iframe>\n",
              "        "
            ],
            "text/plain": [
              "<IPython.lib.display.IFrame at 0x262e71d7710>"
            ]
          },
          "metadata": {},
          "output_type": "display_data"
        }
      ],
      "source": [
        "app = Dash(__name__)\n",
        "\n",
        "app.layout = html.Div([\n",
        "    dcc.Graph(id='graph'),\n",
        "    dcc.Slider(\n",
        "        id='year-slider',\n",
        "        min = 1959,\n",
        "        max=df_cold_war_count_year['Year'].max().year,\n",
        "        value=df_cold_war_count_year['Year'].mean().year,\n",
        "        marks={year.year: str(year.year) for year in pd.date_range(start='1959',end='1992', freq='Y')},\n",
        "        step=None\n",
        "    )\n",
        "])\n",
        "\n",
        "@app.callback(\n",
        "    Output('graph', 'figure'),\n",
        "    [Input('year-slider', 'value')]\n",
        ")\n",
        "def update_figure(selected_year):\n",
        "    filtered_df = df_cold_war_count_year[df_cold_war_count_year['Year'].dt.year <= selected_year]\n",
        "    fig = px.line(filtered_df, \n",
        "                  x='Year', \n",
        "                  y='Detail', \n",
        "                  color='Country_Name',\n",
        "                  color_discrete_sequence=[\"#3033d5\", \"#d53030\"],\n",
        "                  labels={'Country_Name': 'Country', 'Detail': 'Number of Launches'},\n",
        "                  title='Number of Launches by Country from 1957 to ' + str(selected_year))\n",
        "    fig.update_traces(mode=\"markers+lines\", hovertemplate=None)\n",
        "    fig.update_layout(hovermode=\"x\")\n",
        "    return fig\n",
        "\n",
        "if __name__ == '__main__':\n",
        "    app.run_server(debug=True)"
      ]
    },
    {
      "cell_type": "markdown",
      "metadata": {
        "id": "XNp-NkrJriEF"
      },
      "source": [
        "## Chart the Percentage of Failures over Time\n",
        "\n",
        "Did failures go up or down over time? Did the countries get better at minimising risk and improving their chances of success over time? "
      ]
    },
    {
      "cell_type": "code",
      "execution_count": null,
      "metadata": {
        "id": "_TPWaaJ5r1Fz"
      },
      "outputs": [],
      "source": [
        "df_cold_war['Status'] = df_cold_war['Mission_Status'].apply(lambda x: 'Success' if x == 'Success' else 'Failure')\n",
        "\n",
        "df_failure_percent= df_cold_war.groupby(['Country_Name', 'Year']).agg(Count=('Status', 'size'), Failure_Percent=('Status', lambda x: (x == 'Failure').mean() * 100)).reset_index()\n",
        "\n",
        "df_failure_percent['Failure_Percent'] = df_failure_percent['Failure_Percent'].round(2)"
      ]
    },
    {
      "cell_type": "code",
      "execution_count": 41,
      "metadata": {},
      "outputs": [
        {
          "data": {
            "text/html": [
              "\n",
              "        <iframe\n",
              "            width=\"100%\"\n",
              "            height=\"650\"\n",
              "            src=\"http://127.0.0.1:8050/\"\n",
              "            frameborder=\"0\"\n",
              "            allowfullscreen\n",
              "            \n",
              "        ></iframe>\n",
              "        "
            ],
            "text/plain": [
              "<IPython.lib.display.IFrame at 0x262e6bf1290>"
            ]
          },
          "metadata": {},
          "output_type": "display_data"
        }
      ],
      "source": [
        "app = Dash(__name__)\n",
        "\n",
        "app.layout = html.Div([\n",
        "    dcc.Graph(id='graph'),\n",
        "    dcc.Slider(\n",
        "        id='year-slider',\n",
        "        min = 1957,\n",
        "        max=df_failure_percent['Year'].max(),\n",
        "        value=df_failure_percent['Year'].mean(),\n",
        "        marks={year.year: str(year.year) for year in pd.date_range(start='1957',\n",
        "                                                                    end='1992', \n",
        "                                                                    freq='Y')},\n",
        "        step=None\n",
        "    )\n",
        "])\n",
        "\n",
        "@app.callback(\n",
        "    Output('graph', 'figure'),\n",
        "    [Input('year-slider', 'value')]\n",
        ")\n",
        "def update_figure(selected_year):\n",
        "    filtered_df = df_failure_percent[df_failure_percent['Year'] <= selected_year]\n",
        "    fig_failure_percent = px.bar(\n",
        "    data_frame=filtered_df,\n",
        "    x='Year',\n",
        "    y = 'Failure_Percent',\n",
        "    color='Country_Name',\n",
        "    barmode='group',\n",
        "    labels={'Failure_Percent': 'Failure Mission [%]', 'Country_Name': 'Country'},\n",
        "    hover_data='Count'\n",
        ")\n",
        "\n",
        "    fig_failure_percent.update_traces(hovertemplate='<br>Year: %{x}  <br>Total Number of Missions: %{customdata[0]} <br>Failure Mission %{y}%')\n",
        "    return fig_failure_percent\n",
        "\n",
        "if __name__ == '__main__':\n",
        "    app.run_server(debug=True)"
      ]
    }
  ],
  "metadata": {
    "colab": {
      "name": "Space Missions Analysis (start).ipynb",
      "provenance": []
    },
    "kernelspec": {
      "display_name": "Python 3",
      "language": "python",
      "name": "python3"
    },
    "language_info": {
      "codemirror_mode": {
        "name": "ipython",
        "version": 3
      },
      "file_extension": ".py",
      "mimetype": "text/x-python",
      "name": "python",
      "nbconvert_exporter": "python",
      "pygments_lexer": "ipython3",
      "version": "3.11.2"
    },
    "papermill": {
      "duration": 28.468597,
      "end_time": "2020-10-20T21:34:26.910951",
      "environment_variables": {},
      "exception": null,
      "input_path": "__notebook__.ipynb",
      "output_path": "__notebook__.ipynb",
      "parameters": {},
      "start_time": "2020-10-20T21:33:58.442354",
      "version": "2.1.0"
    }
  },
  "nbformat": 4,
  "nbformat_minor": 0
}
