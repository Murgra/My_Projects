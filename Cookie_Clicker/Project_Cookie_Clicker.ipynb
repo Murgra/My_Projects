{
 "cells": [
  {
   "cell_type": "markdown",
   "metadata": {},
   "source": [
    "# Project Cookie Clicker"
   ]
  },
  {
   "cell_type": "code",
   "execution_count": 6,
   "metadata": {},
   "outputs": [],
   "source": [
    "from selenium import webdriver\n",
    "from selenium.webdriver.common.by import By\n",
    "from selenium.webdriver.common.keys import Keys\n",
    "import time"
   ]
  },
  {
   "cell_type": "code",
   "execution_count": 7,
   "metadata": {},
   "outputs": [],
   "source": [
    "def buy_a_item(items, prices):\n",
    "    money = driver.find_element(By.ID, value=\"money\")\n",
    "    money = int(money.text)\n",
    "\n",
    "    for price in prices[::-1]:\n",
    "        if price < money:\n",
    "            number_of_item = prices.index(price)\n",
    "            item = items[number_of_item]\n",
    "            click_to_buy = driver.find_element(By.CSS_SELECTOR, value=f\"#buy{item}\")\n",
    "            click_to_buy.click()\n",
    "            break\n"
   ]
  },
  {
   "cell_type": "code",
   "execution_count": 8,
   "metadata": {},
   "outputs": [],
   "source": [
    "def items_and_prices():\n",
    "    options = driver.find_element(By.ID, value=\"store\")\n",
    "\n",
    "    prices = []\n",
    "    items = []\n",
    "\n",
    "    options = options.text.split(\"\\n\")\n",
    "    options = options[::2]\n",
    "    for option in options:\n",
    "        buy_price = option.split(\" - \")\n",
    "        items.append(buy_price[0])\n",
    "        new_price = int(buy_price[1].replace(\",\", \"\"))\n",
    "        prices.append(new_price)\n",
    "    return (prices, items)\n"
   ]
  },
  {
   "cell_type": "code",
   "execution_count": 9,
   "metadata": {},
   "outputs": [
    {
     "name": "stderr",
     "output_type": "stream",
     "text": [
      "The geckodriver version (0.33.0) detected in PATH at d:\\Python\\Projects\\Cookie_Clicker\\geckodriver.exe might not be compatible with the detected firefox version (123.0.0.8809); currently, geckodriver 0.34.0 is recommended for firefox 123.*, so it is advised to delete the driver in PATH and retry\n"
     ]
    }
   ],
   "source": [
    "driver = webdriver.Firefox()\n",
    "\n",
    "driver.get('http://orteil.dashnet.org/experiments/cookie/')"
   ]
  },
  {
   "cell_type": "code",
   "execution_count": 10,
   "metadata": {},
   "outputs": [
    {
     "name": "stdout",
     "output_type": "stream",
     "text": [
      "cookies/second : 3.2\n"
     ]
    }
   ],
   "source": [
    "game_time = input('How long do you want to play [min]?: ')\n",
    "\n",
    "play_time = time.time()+ 60 * int(game_time)\n",
    "check = time.time() + 5\n",
    "\n",
    "values = items_and_prices()\n",
    "games_on = True\n",
    "\n",
    "while games_on:\n",
    "    cookie = driver.find_element(By.ID, value=\"cookie\")\n",
    "    cookie.click()\n",
    "    if time.time() > play_time:\n",
    "        cookie_per_s = driver.find_element(by=By.ID, value=\"cps\").text\n",
    "        print(cookie_per_s)\n",
    "        break\n",
    "    \n",
    "    if time.time() > check:\n",
    "        buy_a_item(items = values[1], prices = values[0])\n",
    "        check = time.time() + 5\n",
    "\n",
    "\n"
   ]
  },
  {
   "cell_type": "code",
   "execution_count": 11,
   "metadata": {},
   "outputs": [],
   "source": [
    "driver.quit()"
   ]
  }
 ],
 "metadata": {
  "kernelspec": {
   "display_name": "Python 3",
   "language": "python",
   "name": "python3"
  },
  "language_info": {
   "codemirror_mode": {
    "name": "ipython",
    "version": 3
   },
   "file_extension": ".py",
   "mimetype": "text/x-python",
   "name": "python",
   "nbconvert_exporter": "python",
   "pygments_lexer": "ipython3",
   "version": "3.11.2"
  }
 },
 "nbformat": 4,
 "nbformat_minor": 2
}
