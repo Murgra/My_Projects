{
 "cells": [
  {
   "cell_type": "markdown",
   "metadata": {},
   "source": [
    "# Weather data visualization"
   ]
  },
  {
   "cell_type": "markdown",
   "metadata": {},
   "source": [
    "The role of this notebook is to create a dashboard based on downloaded weather data for the 100 largest cities in Poland."
   ]
  },
  {
   "cell_type": "markdown",
   "metadata": {},
   "source": [
    "### Notebook configuration "
   ]
  },
  {
   "cell_type": "code",
   "execution_count": 1,
   "metadata": {},
   "outputs": [],
   "source": [
    "import dash\n",
    "from dash import dcc, html\n",
    "import plotly.express as px\n",
    "import pandas as pd\n",
    "from dash.dependencies import Input, Output"
   ]
  },
  {
   "cell_type": "markdown",
   "metadata": {},
   "source": [
    "### Loading the weather data file"
   ]
  },
  {
   "cell_type": "code",
   "execution_count": 2,
   "metadata": {},
   "outputs": [],
   "source": [
    "full_weather_data = pd.read_csv('weather_data.csv')"
   ]
  },
  {
   "cell_type": "markdown",
   "metadata": {},
   "source": [
    "### Creating time and date ranges"
   ]
  },
  {
   "cell_type": "code",
   "execution_count": 3,
   "metadata": {},
   "outputs": [],
   "source": [
    "df_time = full_weather_data\n",
    "\n",
    "df_time['Time'] = pd.to_datetime(df_time['Time'], format='%H:%M:%S')\n",
    "df_time = df_time.sort_values(['Time'])"
   ]
  },
  {
   "cell_type": "code",
   "execution_count": 4,
   "metadata": {},
   "outputs": [],
   "source": [
    "unique_dates = full_weather_data['Date'].unique()\n",
    "unique_time = df_time['Time'].dt.strftime('%H:%M:%S').unique()"
   ]
  },
  {
   "cell_type": "markdown",
   "metadata": {},
   "source": [
    "### dash configuration"
   ]
  },
  {
   "cell_type": "code",
   "execution_count": 5,
   "metadata": {},
   "outputs": [],
   "source": [
    "app = dash.Dash(__name__)"
   ]
  },
  {
   "cell_type": "code",
   "execution_count": 6,
   "metadata": {},
   "outputs": [],
   "source": [
    "app.layout = html.Div([\n",
    "    html.Label('Select Info: '),\n",
    "    dcc.Dropdown(\n",
    "        id='info-dropdown',\n",
    "        options=[\n",
    "            {'label': 'Temperature [℃]', 'value': 'Temperature'},\n",
    "            {'label': 'Pressure [hPa]', 'value': 'Pressure'},\n",
    "            {'label': 'Humidity [%]', 'value': 'Humidity'},\n",
    "            {'label': 'Clouds [%]', 'value': 'Clouds'},\n",
    "            {'label': 'Wind Speed [km/h]', 'value': 'speed'},\n",
    "            {'label': 'Rain [mm]', 'value': 'Rain'}\n",
    "        ],\n",
    "        value='Temperature',\n",
    "        clearable=False\n",
    "    ),\n",
    "    \n",
    "    html.Label('Select Time: '),\n",
    "    dcc.Slider(\n",
    "        id='time-slider',\n",
    "        min=0,\n",
    "        max=len(unique_time) - 1,\n",
    "        step=1,\n",
    "        value=3,\n",
    "        marks={i: time for i, time in enumerate(unique_time)},\n",
    "        included=False\n",
    "    ),\n",
    "    \n",
    "    html.Label('Select Date:'),\n",
    "    dcc.Slider(\n",
    "        id='date-slider',\n",
    "        min=0,\n",
    "        max=len(unique_dates) - 1,\n",
    "        step=1,\n",
    "        value=2,\n",
    "        marks={i: time for i, time in enumerate(unique_dates)},\n",
    "        included=False\n",
    "    ),\n",
    "    \n",
    "    dcc.Graph(id='weather-map')\n",
    "])"
   ]
  },
  {
   "cell_type": "code",
   "execution_count": 7,
   "metadata": {},
   "outputs": [],
   "source": [
    "@app.callback(\n",
    "    Output('weather-map', 'figure'),\n",
    "    [Input('info-dropdown', 'value'),\n",
    "     Input('date-slider', 'value'),\n",
    "     Input('time-slider', 'value')]\n",
    ")\n",
    "\n",
    "def update_map(selected_info, selected_date_index, selected_time_index):\n",
    "    \n",
    "    selected_date = unique_dates[selected_date_index]\n",
    "    selected_time = unique_time[selected_time_index]\n",
    "    \n",
    "    filtered_df = full_weather_data[(full_weather_data['Date'] == selected_date) & (full_weather_data['Time'].dt.strftime('%H:%M:%S') == selected_time)]\n",
    "    \n",
    "    if filtered_df.empty:\n",
    "        fig = {\n",
    "            'data': [],\n",
    "            'layout': {\n",
    "                'xaxis': {'visible': False},\n",
    "                'yaxis': {'visible': False},\n",
    "                \"annotations\": [\n",
    "                    {\n",
    "                        'text': f'No data available for {selected_date} {selected_time}',\n",
    "                        'xref': 'paper',\n",
    "                        'yref': 'paper',\n",
    "                        'showarrow': False,\n",
    "                        'font': {'size': 20}\n",
    "                    }\n",
    "                ]\n",
    "            }\n",
    "        }\n",
    "        return fig\n",
    "    \n",
    "    fig = px.density_mapbox(\n",
    "        filtered_df,\n",
    "        lat=\"width\",\n",
    "        lon=\"length\",\n",
    "        hover_name=\"City Name\",\n",
    "        custom_data=[\"City Name\", selected_info, 'description'], \n",
    "        zoom=5,\n",
    "        center={\"lat\": 52, \"lon\": 21}, \n",
    "        mapbox_style=\"stamen-terrain\",\n",
    "        z=selected_info\n",
    "    )\n",
    "    \n",
    "    fig.update_traces(\n",
    "        hovertemplate=(\n",
    "        '<b>%{customdata[0]}</b><br>'  \n",
    "        'Value: %{customdata[1]}<br>'\n",
    "        'Weather in general: %{customdata[2]}<br>'  \n",
    "        '<extra></extra>'\n",
    "        )\n",
    "    )\n",
    "    \n",
    "    fig.update_layout(mapbox_style='open-street-map')\n",
    "    fig.update_layout(margin={\"r\":0,\"t\":0,\"l\":0,\"b\":0})\n",
    "    \n",
    "    return fig"
   ]
  },
  {
   "cell_type": "markdown",
   "metadata": {},
   "source": [
    "### Launch of dashboard"
   ]
  },
  {
   "cell_type": "code",
   "execution_count": 8,
   "metadata": {},
   "outputs": [
    {
     "data": {
      "text/html": [
       "\n",
       "        <iframe\n",
       "            width=\"100%\"\n",
       "            height=\"650\"\n",
       "            src=\"http://127.0.0.1:8050/\"\n",
       "            frameborder=\"0\"\n",
       "            allowfullscreen\n",
       "            \n",
       "        ></iframe>\n",
       "        "
      ],
      "text/plain": [
       "<IPython.lib.display.IFrame at 0x1d25e2da0d0>"
      ]
     },
     "metadata": {},
     "output_type": "display_data"
    }
   ],
   "source": [
    "if __name__ == '__main__':\n",
    "    app.run_server(debug=True)"
   ]
  }
 ],
 "metadata": {
  "kernelspec": {
   "display_name": "webscrap",
   "language": "python",
   "name": "python3"
  },
  "language_info": {
   "codemirror_mode": {
    "name": "ipython",
    "version": 3
   },
   "file_extension": ".py",
   "mimetype": "text/x-python",
   "name": "python",
   "nbconvert_exporter": "python",
   "pygments_lexer": "ipython3",
   "version": "3.11.2"
  }
 },
 "nbformat": 4,
 "nbformat_minor": 2
}
