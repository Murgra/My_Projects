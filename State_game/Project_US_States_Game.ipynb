{
 "cells": [
  {
   "cell_type": "markdown",
   "metadata": {},
   "source": [
    "# U.S States Game"
   ]
  },
  {
   "cell_type": "code",
   "execution_count": 1,
   "metadata": {},
   "outputs": [],
   "source": [
    "import pandas as pd\n",
    "import turtle"
   ]
  },
  {
   "cell_type": "code",
   "execution_count": 2,
   "metadata": {},
   "outputs": [],
   "source": [
    "df = pd.read_csv(\"50_states.csv\")"
   ]
  },
  {
   "cell_type": "code",
   "execution_count": 3,
   "metadata": {},
   "outputs": [],
   "source": [
    "screen = turtle.Screen()\n",
    "screen.title(\"U.S. States Game\")\n",
    "screen.setup(width=760, height=520)\n",
    "FONT = (\"Courier\", 10, \"normal\")\n",
    "\n",
    "image =\"blank_states_img.gif\"\n",
    "screen.addshape(image)\n",
    "\n",
    "turtle.shape(image)\n",
    "state_list = df[\"state\"].tolist()\n",
    "\n",
    "pen = turtle.Turtle()\n",
    "pen.penup()\n",
    "pen.hideturtle()\n",
    "\n",
    "game_is_on = True\n",
    "score = 0\n",
    "lives = 3\n",
    "\n",
    "\n",
    "while game_is_on:\n",
    "\n",
    "    answer_state = screen.textinput(title=f\"{score}/50 States Correct.\", prompt=f\"You have {lives} lives.\\nWhat's another state's name?\")\n",
    "    answer_state = answer_state.title()\n",
    "    pen.goto(0, 0)\n",
    "\n",
    "    if answer_state in state_list:\n",
    "        correct_state = df.loc[df[\"state\"] == f\"{answer_state}\"]\n",
    "        pen.goto(x=int(correct_state[\"x\"]), y=int(correct_state[\"y\"]))\n",
    "        pen.write(f\"{answer_state}\", align=\"center\", font=FONT)\n",
    "        score += 1\n",
    "    else:\n",
    "        lives -= 1\n",
    "\n",
    "\n",
    "    if lives == 0:\n",
    "        pen.write(f\"GAME OVER!\", align=\"center\", font=(\"Courier\", 24, \"normal\"))\n",
    "        game_is_on = False\n",
    "    \n",
    "\n",
    "    if score == 50:\n",
    "        pen.write(\"YOU WIN!\", align=\"center\", font=(\"Courier\", 24, \"normal\"))\n",
    "        game_is_on = False\n",
    "\n",
    "\n",
    "\n",
    "screen.exitonclick()"
   ]
  },
  {
   "cell_type": "code",
   "execution_count": null,
   "metadata": {},
   "outputs": [],
   "source": [
    "# checking coordinates\n",
    "def get_mouse_click_coor(x, y):\n",
    "    print(x, y)\n",
    "\n",
    "turtle.onscreenclick(get_mouse_click_coor)\n",
    "\n",
    "turtle.mainloop()"
   ]
  }
 ],
 "metadata": {
  "kernelspec": {
   "display_name": "Python 3",
   "language": "python",
   "name": "python3"
  },
  "language_info": {
   "codemirror_mode": {
    "name": "ipython",
    "version": 3
   },
   "file_extension": ".py",
   "mimetype": "text/x-python",
   "name": "python",
   "nbconvert_exporter": "python",
   "pygments_lexer": "ipython3",
   "version": "3.11.2"
  }
 },
 "nbformat": 4,
 "nbformat_minor": 2
}
